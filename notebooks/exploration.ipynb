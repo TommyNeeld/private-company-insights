{
 "cells": [
  {
   "cell_type": "code",
   "execution_count": 1,
   "metadata": {},
   "outputs": [],
   "source": [
    "import pandas as pd\n",
    "import matplotlib.pyplot as plt\n",
    "import seaborn as sns\n",
    "import numpy as np\n",
    "import plotly.express as px\n",
    "\n",
    "# add the src directory to the path\n",
    "import sys\n",
    "sys.path.append('../src')\n",
    "\n",
    "from config import settings\n",
    "from preprocess import main, _normalized_growth\n",
    "from data_loader import load_data\n",
    "\n",
    "df = load_data(\"specter_data.csv\")"
   ]
  },
  {
   "cell_type": "code",
   "execution_count": 2,
   "metadata": {},
   "outputs": [
    {
     "data": {
      "text/html": [
       "<div>\n",
       "<style scoped>\n",
       "    .dataframe tbody tr th:only-of-type {\n",
       "        vertical-align: middle;\n",
       "    }\n",
       "\n",
       "    .dataframe tbody tr th {\n",
       "        vertical-align: top;\n",
       "    }\n",
       "\n",
       "    .dataframe thead th {\n",
       "        text-align: right;\n",
       "    }\n",
       "</style>\n",
       "<table border=\"1\" class=\"dataframe\">\n",
       "  <thead>\n",
       "    <tr style=\"text-align: right;\">\n",
       "      <th></th>\n",
       "      <th>Twitter - Monthly Followers Growth</th>\n",
       "      <th>Twitter - 2 Months Followers Growth</th>\n",
       "      <th>Twitter - 3 Months Followers Growth</th>\n",
       "      <th>Twitter - 4 Months Followers Growth</th>\n",
       "      <th>Twitter - 5 Months Followers Growth</th>\n",
       "      <th>Twitter - 6 Months Followers Growth</th>\n",
       "      <th>twitter_followers_slope</th>\n",
       "    </tr>\n",
       "    <tr>\n",
       "      <th>Specter - ID</th>\n",
       "      <th></th>\n",
       "      <th></th>\n",
       "      <th></th>\n",
       "      <th></th>\n",
       "      <th></th>\n",
       "      <th></th>\n",
       "      <th></th>\n",
       "    </tr>\n",
       "  </thead>\n",
       "  <tbody>\n",
       "    <tr>\n",
       "      <th>5e3a8f19040ca7b0c6f03071</th>\n",
       "      <td>0.008403</td>\n",
       "      <td>0.017595</td>\n",
       "      <td>0.021008</td>\n",
       "      <td>0.043855</td>\n",
       "      <td>0.058036</td>\n",
       "      <td>0.066702</td>\n",
       "      <td>0.012447</td>\n",
       "    </tr>\n",
       "    <tr>\n",
       "      <th>5e3a8f19040ca7b0c6f02f79</th>\n",
       "      <td>0.001054</td>\n",
       "      <td>0.013175</td>\n",
       "      <td>0.031357</td>\n",
       "      <td>0.041897</td>\n",
       "      <td>0.051647</td>\n",
       "      <td>0.059552</td>\n",
       "      <td>0.011956</td>\n",
       "    </tr>\n",
       "    <tr>\n",
       "      <th>5e3a8f47040ca7b0c6f10460</th>\n",
       "      <td>0.002939</td>\n",
       "      <td>0.018369</td>\n",
       "      <td>0.027921</td>\n",
       "      <td>0.033799</td>\n",
       "      <td>0.052168</td>\n",
       "      <td>0.058046</td>\n",
       "      <td>0.010937</td>\n",
       "    </tr>\n",
       "    <tr>\n",
       "      <th>62c2c65f0405ea8a58c3718a</th>\n",
       "      <td>0.076923</td>\n",
       "      <td>0.153846</td>\n",
       "      <td>0.153846</td>\n",
       "      <td>0.153846</td>\n",
       "      <td>0.153846</td>\n",
       "      <td>0.000000</td>\n",
       "      <td>-0.010989</td>\n",
       "    </tr>\n",
       "    <tr>\n",
       "      <th>5fc74452bf7e53924df86816</th>\n",
       "      <td>0.000000</td>\n",
       "      <td>0.000000</td>\n",
       "      <td>0.000000</td>\n",
       "      <td>0.000000</td>\n",
       "      <td>0.000000</td>\n",
       "      <td>0.000000</td>\n",
       "      <td>0.000000</td>\n",
       "    </tr>\n",
       "    <tr>\n",
       "      <th>...</th>\n",
       "      <td>...</td>\n",
       "      <td>...</td>\n",
       "      <td>...</td>\n",
       "      <td>...</td>\n",
       "      <td>...</td>\n",
       "      <td>...</td>\n",
       "      <td>...</td>\n",
       "    </tr>\n",
       "    <tr>\n",
       "      <th>61d5d3fcdb415a1b7f41bc81</th>\n",
       "      <td>0.000000</td>\n",
       "      <td>0.045455</td>\n",
       "      <td>0.045455</td>\n",
       "      <td>0.090909</td>\n",
       "      <td>0.090909</td>\n",
       "      <td>0.136364</td>\n",
       "      <td>0.024675</td>\n",
       "    </tr>\n",
       "    <tr>\n",
       "      <th>61ad0b56d0efcf20c6ecf0fc</th>\n",
       "      <td>0.085954</td>\n",
       "      <td>0.190512</td>\n",
       "      <td>0.228158</td>\n",
       "      <td>0.295180</td>\n",
       "      <td>0.349472</td>\n",
       "      <td>0.395169</td>\n",
       "      <td>0.059714</td>\n",
       "    </tr>\n",
       "    <tr>\n",
       "      <th>6164492cc3c073075bd6634d</th>\n",
       "      <td>0.049180</td>\n",
       "      <td>0.155738</td>\n",
       "      <td>0.159836</td>\n",
       "      <td>0.163934</td>\n",
       "      <td>0.188525</td>\n",
       "      <td>0.200820</td>\n",
       "      <td>0.024590</td>\n",
       "    </tr>\n",
       "    <tr>\n",
       "      <th>61a6fddfd0efcf20c62a9dee</th>\n",
       "      <td>NaN</td>\n",
       "      <td>NaN</td>\n",
       "      <td>NaN</td>\n",
       "      <td>NaN</td>\n",
       "      <td>NaN</td>\n",
       "      <td>NaN</td>\n",
       "      <td>NaN</td>\n",
       "    </tr>\n",
       "    <tr>\n",
       "      <th>5e3a7f2b0aa7a3270a55ee2d</th>\n",
       "      <td>0.000000</td>\n",
       "      <td>-0.002708</td>\n",
       "      <td>-0.003610</td>\n",
       "      <td>-0.004513</td>\n",
       "      <td>-0.004513</td>\n",
       "      <td>-0.009025</td>\n",
       "      <td>-0.001470</td>\n",
       "    </tr>\n",
       "  </tbody>\n",
       "</table>\n",
       "<p>5001 rows × 7 columns</p>\n",
       "</div>"
      ],
      "text/plain": [
       "                          Twitter - Monthly Followers Growth  \\\n",
       "Specter - ID                                                   \n",
       "5e3a8f19040ca7b0c6f03071                            0.008403   \n",
       "5e3a8f19040ca7b0c6f02f79                            0.001054   \n",
       "5e3a8f47040ca7b0c6f10460                            0.002939   \n",
       "62c2c65f0405ea8a58c3718a                            0.076923   \n",
       "5fc74452bf7e53924df86816                            0.000000   \n",
       "...                                                      ...   \n",
       "61d5d3fcdb415a1b7f41bc81                            0.000000   \n",
       "61ad0b56d0efcf20c6ecf0fc                            0.085954   \n",
       "6164492cc3c073075bd6634d                            0.049180   \n",
       "61a6fddfd0efcf20c62a9dee                                 NaN   \n",
       "5e3a7f2b0aa7a3270a55ee2d                            0.000000   \n",
       "\n",
       "                          Twitter - 2 Months Followers Growth  \\\n",
       "Specter - ID                                                    \n",
       "5e3a8f19040ca7b0c6f03071                             0.017595   \n",
       "5e3a8f19040ca7b0c6f02f79                             0.013175   \n",
       "5e3a8f47040ca7b0c6f10460                             0.018369   \n",
       "62c2c65f0405ea8a58c3718a                             0.153846   \n",
       "5fc74452bf7e53924df86816                             0.000000   \n",
       "...                                                       ...   \n",
       "61d5d3fcdb415a1b7f41bc81                             0.045455   \n",
       "61ad0b56d0efcf20c6ecf0fc                             0.190512   \n",
       "6164492cc3c073075bd6634d                             0.155738   \n",
       "61a6fddfd0efcf20c62a9dee                                  NaN   \n",
       "5e3a7f2b0aa7a3270a55ee2d                            -0.002708   \n",
       "\n",
       "                          Twitter - 3 Months Followers Growth  \\\n",
       "Specter - ID                                                    \n",
       "5e3a8f19040ca7b0c6f03071                             0.021008   \n",
       "5e3a8f19040ca7b0c6f02f79                             0.031357   \n",
       "5e3a8f47040ca7b0c6f10460                             0.027921   \n",
       "62c2c65f0405ea8a58c3718a                             0.153846   \n",
       "5fc74452bf7e53924df86816                             0.000000   \n",
       "...                                                       ...   \n",
       "61d5d3fcdb415a1b7f41bc81                             0.045455   \n",
       "61ad0b56d0efcf20c6ecf0fc                             0.228158   \n",
       "6164492cc3c073075bd6634d                             0.159836   \n",
       "61a6fddfd0efcf20c62a9dee                                  NaN   \n",
       "5e3a7f2b0aa7a3270a55ee2d                            -0.003610   \n",
       "\n",
       "                          Twitter - 4 Months Followers Growth  \\\n",
       "Specter - ID                                                    \n",
       "5e3a8f19040ca7b0c6f03071                             0.043855   \n",
       "5e3a8f19040ca7b0c6f02f79                             0.041897   \n",
       "5e3a8f47040ca7b0c6f10460                             0.033799   \n",
       "62c2c65f0405ea8a58c3718a                             0.153846   \n",
       "5fc74452bf7e53924df86816                             0.000000   \n",
       "...                                                       ...   \n",
       "61d5d3fcdb415a1b7f41bc81                             0.090909   \n",
       "61ad0b56d0efcf20c6ecf0fc                             0.295180   \n",
       "6164492cc3c073075bd6634d                             0.163934   \n",
       "61a6fddfd0efcf20c62a9dee                                  NaN   \n",
       "5e3a7f2b0aa7a3270a55ee2d                            -0.004513   \n",
       "\n",
       "                          Twitter - 5 Months Followers Growth  \\\n",
       "Specter - ID                                                    \n",
       "5e3a8f19040ca7b0c6f03071                             0.058036   \n",
       "5e3a8f19040ca7b0c6f02f79                             0.051647   \n",
       "5e3a8f47040ca7b0c6f10460                             0.052168   \n",
       "62c2c65f0405ea8a58c3718a                             0.153846   \n",
       "5fc74452bf7e53924df86816                             0.000000   \n",
       "...                                                       ...   \n",
       "61d5d3fcdb415a1b7f41bc81                             0.090909   \n",
       "61ad0b56d0efcf20c6ecf0fc                             0.349472   \n",
       "6164492cc3c073075bd6634d                             0.188525   \n",
       "61a6fddfd0efcf20c62a9dee                                  NaN   \n",
       "5e3a7f2b0aa7a3270a55ee2d                            -0.004513   \n",
       "\n",
       "                          Twitter - 6 Months Followers Growth  \\\n",
       "Specter - ID                                                    \n",
       "5e3a8f19040ca7b0c6f03071                             0.066702   \n",
       "5e3a8f19040ca7b0c6f02f79                             0.059552   \n",
       "5e3a8f47040ca7b0c6f10460                             0.058046   \n",
       "62c2c65f0405ea8a58c3718a                             0.000000   \n",
       "5fc74452bf7e53924df86816                             0.000000   \n",
       "...                                                       ...   \n",
       "61d5d3fcdb415a1b7f41bc81                             0.136364   \n",
       "61ad0b56d0efcf20c6ecf0fc                             0.395169   \n",
       "6164492cc3c073075bd6634d                             0.200820   \n",
       "61a6fddfd0efcf20c62a9dee                                  NaN   \n",
       "5e3a7f2b0aa7a3270a55ee2d                            -0.009025   \n",
       "\n",
       "                          twitter_followers_slope  \n",
       "Specter - ID                                       \n",
       "5e3a8f19040ca7b0c6f03071                 0.012447  \n",
       "5e3a8f19040ca7b0c6f02f79                 0.011956  \n",
       "5e3a8f47040ca7b0c6f10460                 0.010937  \n",
       "62c2c65f0405ea8a58c3718a                -0.010989  \n",
       "5fc74452bf7e53924df86816                 0.000000  \n",
       "...                                           ...  \n",
       "61d5d3fcdb415a1b7f41bc81                 0.024675  \n",
       "61ad0b56d0efcf20c6ecf0fc                 0.059714  \n",
       "6164492cc3c073075bd6634d                 0.024590  \n",
       "61a6fddfd0efcf20c62a9dee                      NaN  \n",
       "5e3a7f2b0aa7a3270a55ee2d                -0.001470  \n",
       "\n",
       "[5001 rows x 7 columns]"
      ]
     },
     "execution_count": 2,
     "metadata": {},
     "output_type": "execute_result"
    }
   ],
   "source": [
    "metric = 'twitter_followers'\n",
    "\n",
    "\n",
    "_normalized_growth(df, metric)"
   ]
  },
  {
   "cell_type": "code",
   "execution_count": 6,
   "metadata": {},
   "outputs": [
    {
     "data": {
      "text/html": [
       "<div>\n",
       "<style scoped>\n",
       "    .dataframe tbody tr th:only-of-type {\n",
       "        vertical-align: middle;\n",
       "    }\n",
       "\n",
       "    .dataframe tbody tr th {\n",
       "        vertical-align: top;\n",
       "    }\n",
       "\n",
       "    .dataframe thead th {\n",
       "        text-align: right;\n",
       "    }\n",
       "</style>\n",
       "<table border=\"1\" class=\"dataframe\">\n",
       "  <thead>\n",
       "    <tr style=\"text-align: right;\">\n",
       "      <th></th>\n",
       "      <th>x</th>\n",
       "      <th>y</th>\n",
       "    </tr>\n",
       "  </thead>\n",
       "  <tbody>\n",
       "    <tr>\n",
       "      <th>0</th>\n",
       "      <td>1</td>\n",
       "      <td>4.0</td>\n",
       "    </tr>\n",
       "    <tr>\n",
       "      <th>1</th>\n",
       "      <td>2</td>\n",
       "      <td>2.0</td>\n",
       "    </tr>\n",
       "    <tr>\n",
       "      <th>2</th>\n",
       "      <td>3</td>\n",
       "      <td>NaN</td>\n",
       "    </tr>\n",
       "    <tr>\n",
       "      <th>3</th>\n",
       "      <td>4</td>\n",
       "      <td>2.0</td>\n",
       "    </tr>\n",
       "    <tr>\n",
       "      <th>4</th>\n",
       "      <td>5</td>\n",
       "      <td>2.0</td>\n",
       "    </tr>\n",
       "  </tbody>\n",
       "</table>\n",
       "</div>"
      ],
      "text/plain": [
       "   x    y\n",
       "0  1  4.0\n",
       "1  2  2.0\n",
       "2  3  NaN\n",
       "3  4  2.0\n",
       "4  5  2.0"
      ]
     },
     "execution_count": 6,
     "metadata": {},
     "output_type": "execute_result"
    }
   ],
   "source": [
    "tmp = pd.DataFrame(data={\n",
    "    'x': range(1, 6),\n",
    "    'y': np.random.randint(1, 5, 5)\n",
    "})\n",
    "\n",
    "# add a nan value\n",
    "tmp.loc[2, 'y'] = np.nan\n",
    "\n",
    "tmp"
   ]
  },
  {
   "cell_type": "code",
   "execution_count": 7,
   "metadata": {},
   "outputs": [
    {
     "data": {
      "text/plain": [
       "x    3.0\n",
       "y    2.5\n",
       "dtype: float64"
      ]
     },
     "execution_count": 7,
     "metadata": {},
     "output_type": "execute_result"
    }
   ],
   "source": [
    "tmp.mean()"
   ]
  },
  {
   "cell_type": "code",
   "execution_count": 8,
   "metadata": {},
   "outputs": [
    {
     "data": {
      "text/plain": [
       "2.5"
      ]
     },
     "execution_count": 8,
     "metadata": {},
     "output_type": "execute_result"
    }
   ],
   "source": [
    "(4+2+2+2)/4"
   ]
  },
  {
   "cell_type": "code",
   "execution_count": 9,
   "metadata": {},
   "outputs": [
    {
     "data": {
      "text/html": [
       "<div>\n",
       "<style scoped>\n",
       "    .dataframe tbody tr th:only-of-type {\n",
       "        vertical-align: middle;\n",
       "    }\n",
       "\n",
       "    .dataframe tbody tr th {\n",
       "        vertical-align: top;\n",
       "    }\n",
       "\n",
       "    .dataframe thead th {\n",
       "        text-align: right;\n",
       "    }\n",
       "</style>\n",
       "<table border=\"1\" class=\"dataframe\">\n",
       "  <thead>\n",
       "    <tr style=\"text-align: right;\">\n",
       "      <th></th>\n",
       "      <th>Twitter - Monthly Followers Growth</th>\n",
       "      <th>Twitter - 2 Months Followers Growth</th>\n",
       "      <th>Twitter - 3 Months Followers Growth</th>\n",
       "      <th>Twitter - 4 Months Followers Growth</th>\n",
       "      <th>Twitter - 5 Months Followers Growth</th>\n",
       "      <th>Twitter - 6 Months Followers Growth</th>\n",
       "    </tr>\n",
       "    <tr>\n",
       "      <th>Specter - ID</th>\n",
       "      <th></th>\n",
       "      <th></th>\n",
       "      <th></th>\n",
       "      <th></th>\n",
       "      <th></th>\n",
       "      <th></th>\n",
       "    </tr>\n",
       "  </thead>\n",
       "  <tbody>\n",
       "    <tr>\n",
       "      <th>5e3a8f19040ca7b0c6f03071</th>\n",
       "      <td>32.0</td>\n",
       "      <td>67.0</td>\n",
       "      <td>80.0</td>\n",
       "      <td>167.0</td>\n",
       "      <td>221.0</td>\n",
       "      <td>254.0</td>\n",
       "    </tr>\n",
       "    <tr>\n",
       "      <th>5e3a8f19040ca7b0c6f02f79</th>\n",
       "      <td>4.0</td>\n",
       "      <td>50.0</td>\n",
       "      <td>119.0</td>\n",
       "      <td>159.0</td>\n",
       "      <td>196.0</td>\n",
       "      <td>226.0</td>\n",
       "    </tr>\n",
       "    <tr>\n",
       "      <th>5e3a8f47040ca7b0c6f10460</th>\n",
       "      <td>4.0</td>\n",
       "      <td>25.0</td>\n",
       "      <td>38.0</td>\n",
       "      <td>46.0</td>\n",
       "      <td>71.0</td>\n",
       "      <td>79.0</td>\n",
       "    </tr>\n",
       "    <tr>\n",
       "      <th>62c2c65f0405ea8a58c3718a</th>\n",
       "      <td>1.0</td>\n",
       "      <td>2.0</td>\n",
       "      <td>2.0</td>\n",
       "      <td>2.0</td>\n",
       "      <td>2.0</td>\n",
       "      <td>NaN</td>\n",
       "    </tr>\n",
       "    <tr>\n",
       "      <th>5fc74452bf7e53924df86816</th>\n",
       "      <td>0.0</td>\n",
       "      <td>NaN</td>\n",
       "      <td>NaN</td>\n",
       "      <td>NaN</td>\n",
       "      <td>NaN</td>\n",
       "      <td>NaN</td>\n",
       "    </tr>\n",
       "    <tr>\n",
       "      <th>...</th>\n",
       "      <td>...</td>\n",
       "      <td>...</td>\n",
       "      <td>...</td>\n",
       "      <td>...</td>\n",
       "      <td>...</td>\n",
       "      <td>...</td>\n",
       "    </tr>\n",
       "    <tr>\n",
       "      <th>61d5d3fcdb415a1b7f41bc81</th>\n",
       "      <td>0.0</td>\n",
       "      <td>1.0</td>\n",
       "      <td>1.0</td>\n",
       "      <td>2.0</td>\n",
       "      <td>2.0</td>\n",
       "      <td>3.0</td>\n",
       "    </tr>\n",
       "    <tr>\n",
       "      <th>61ad0b56d0efcf20c6ecf0fc</th>\n",
       "      <td>790.0</td>\n",
       "      <td>1751.0</td>\n",
       "      <td>2097.0</td>\n",
       "      <td>2713.0</td>\n",
       "      <td>3212.0</td>\n",
       "      <td>3632.0</td>\n",
       "    </tr>\n",
       "    <tr>\n",
       "      <th>6164492cc3c073075bd6634d</th>\n",
       "      <td>12.0</td>\n",
       "      <td>38.0</td>\n",
       "      <td>39.0</td>\n",
       "      <td>40.0</td>\n",
       "      <td>46.0</td>\n",
       "      <td>49.0</td>\n",
       "    </tr>\n",
       "    <tr>\n",
       "      <th>61a6fddfd0efcf20c62a9dee</th>\n",
       "      <td>NaN</td>\n",
       "      <td>NaN</td>\n",
       "      <td>NaN</td>\n",
       "      <td>NaN</td>\n",
       "      <td>NaN</td>\n",
       "      <td>NaN</td>\n",
       "    </tr>\n",
       "    <tr>\n",
       "      <th>5e3a7f2b0aa7a3270a55ee2d</th>\n",
       "      <td>0.0</td>\n",
       "      <td>-3.0</td>\n",
       "      <td>-4.0</td>\n",
       "      <td>-5.0</td>\n",
       "      <td>-5.0</td>\n",
       "      <td>-10.0</td>\n",
       "    </tr>\n",
       "  </tbody>\n",
       "</table>\n",
       "<p>5001 rows × 6 columns</p>\n",
       "</div>"
      ],
      "text/plain": [
       "                          Twitter - Monthly Followers Growth  \\\n",
       "Specter - ID                                                   \n",
       "5e3a8f19040ca7b0c6f03071                                32.0   \n",
       "5e3a8f19040ca7b0c6f02f79                                 4.0   \n",
       "5e3a8f47040ca7b0c6f10460                                 4.0   \n",
       "62c2c65f0405ea8a58c3718a                                 1.0   \n",
       "5fc74452bf7e53924df86816                                 0.0   \n",
       "...                                                      ...   \n",
       "61d5d3fcdb415a1b7f41bc81                                 0.0   \n",
       "61ad0b56d0efcf20c6ecf0fc                               790.0   \n",
       "6164492cc3c073075bd6634d                                12.0   \n",
       "61a6fddfd0efcf20c62a9dee                                 NaN   \n",
       "5e3a7f2b0aa7a3270a55ee2d                                 0.0   \n",
       "\n",
       "                          Twitter - 2 Months Followers Growth  \\\n",
       "Specter - ID                                                    \n",
       "5e3a8f19040ca7b0c6f03071                                 67.0   \n",
       "5e3a8f19040ca7b0c6f02f79                                 50.0   \n",
       "5e3a8f47040ca7b0c6f10460                                 25.0   \n",
       "62c2c65f0405ea8a58c3718a                                  2.0   \n",
       "5fc74452bf7e53924df86816                                  NaN   \n",
       "...                                                       ...   \n",
       "61d5d3fcdb415a1b7f41bc81                                  1.0   \n",
       "61ad0b56d0efcf20c6ecf0fc                               1751.0   \n",
       "6164492cc3c073075bd6634d                                 38.0   \n",
       "61a6fddfd0efcf20c62a9dee                                  NaN   \n",
       "5e3a7f2b0aa7a3270a55ee2d                                 -3.0   \n",
       "\n",
       "                          Twitter - 3 Months Followers Growth  \\\n",
       "Specter - ID                                                    \n",
       "5e3a8f19040ca7b0c6f03071                                 80.0   \n",
       "5e3a8f19040ca7b0c6f02f79                                119.0   \n",
       "5e3a8f47040ca7b0c6f10460                                 38.0   \n",
       "62c2c65f0405ea8a58c3718a                                  2.0   \n",
       "5fc74452bf7e53924df86816                                  NaN   \n",
       "...                                                       ...   \n",
       "61d5d3fcdb415a1b7f41bc81                                  1.0   \n",
       "61ad0b56d0efcf20c6ecf0fc                               2097.0   \n",
       "6164492cc3c073075bd6634d                                 39.0   \n",
       "61a6fddfd0efcf20c62a9dee                                  NaN   \n",
       "5e3a7f2b0aa7a3270a55ee2d                                 -4.0   \n",
       "\n",
       "                          Twitter - 4 Months Followers Growth  \\\n",
       "Specter - ID                                                    \n",
       "5e3a8f19040ca7b0c6f03071                                167.0   \n",
       "5e3a8f19040ca7b0c6f02f79                                159.0   \n",
       "5e3a8f47040ca7b0c6f10460                                 46.0   \n",
       "62c2c65f0405ea8a58c3718a                                  2.0   \n",
       "5fc74452bf7e53924df86816                                  NaN   \n",
       "...                                                       ...   \n",
       "61d5d3fcdb415a1b7f41bc81                                  2.0   \n",
       "61ad0b56d0efcf20c6ecf0fc                               2713.0   \n",
       "6164492cc3c073075bd6634d                                 40.0   \n",
       "61a6fddfd0efcf20c62a9dee                                  NaN   \n",
       "5e3a7f2b0aa7a3270a55ee2d                                 -5.0   \n",
       "\n",
       "                          Twitter - 5 Months Followers Growth  \\\n",
       "Specter - ID                                                    \n",
       "5e3a8f19040ca7b0c6f03071                                221.0   \n",
       "5e3a8f19040ca7b0c6f02f79                                196.0   \n",
       "5e3a8f47040ca7b0c6f10460                                 71.0   \n",
       "62c2c65f0405ea8a58c3718a                                  2.0   \n",
       "5fc74452bf7e53924df86816                                  NaN   \n",
       "...                                                       ...   \n",
       "61d5d3fcdb415a1b7f41bc81                                  2.0   \n",
       "61ad0b56d0efcf20c6ecf0fc                               3212.0   \n",
       "6164492cc3c073075bd6634d                                 46.0   \n",
       "61a6fddfd0efcf20c62a9dee                                  NaN   \n",
       "5e3a7f2b0aa7a3270a55ee2d                                 -5.0   \n",
       "\n",
       "                          Twitter - 6 Months Followers Growth  \n",
       "Specter - ID                                                   \n",
       "5e3a8f19040ca7b0c6f03071                                254.0  \n",
       "5e3a8f19040ca7b0c6f02f79                                226.0  \n",
       "5e3a8f47040ca7b0c6f10460                                 79.0  \n",
       "62c2c65f0405ea8a58c3718a                                  NaN  \n",
       "5fc74452bf7e53924df86816                                  NaN  \n",
       "...                                                       ...  \n",
       "61d5d3fcdb415a1b7f41bc81                                  3.0  \n",
       "61ad0b56d0efcf20c6ecf0fc                               3632.0  \n",
       "6164492cc3c073075bd6634d                                 49.0  \n",
       "61a6fddfd0efcf20c62a9dee                                  NaN  \n",
       "5e3a7f2b0aa7a3270a55ee2d                                -10.0  \n",
       "\n",
       "[5001 rows x 6 columns]"
      ]
     },
     "execution_count": 9,
     "metadata": {},
     "output_type": "execute_result"
    }
   ],
   "source": [
    "\n",
    "\n",
    "growth_metric_cols = settings.GROWTH_METRICS[metric][\"growth\"]\n",
    "\n",
    "df[growth_metric_cols]"
   ]
  },
  {
   "cell_type": "code",
   "execution_count": 14,
   "metadata": {},
   "outputs": [
    {
     "data": {
      "text/html": [
       "<div>\n",
       "<style scoped>\n",
       "    .dataframe tbody tr th:only-of-type {\n",
       "        vertical-align: middle;\n",
       "    }\n",
       "\n",
       "    .dataframe tbody tr th {\n",
       "        vertical-align: top;\n",
       "    }\n",
       "\n",
       "    .dataframe thead th {\n",
       "        text-align: right;\n",
       "    }\n",
       "</style>\n",
       "<table border=\"1\" class=\"dataframe\">\n",
       "  <thead>\n",
       "    <tr style=\"text-align: right;\">\n",
       "      <th></th>\n",
       "      <th>Twitter - Monthly Followers Growth</th>\n",
       "      <th>Twitter - 2 Months Followers Growth</th>\n",
       "      <th>Twitter - 3 Months Followers Growth</th>\n",
       "      <th>Twitter - 4 Months Followers Growth</th>\n",
       "      <th>Twitter - 5 Months Followers Growth</th>\n",
       "      <th>Twitter - 6 Months Followers Growth</th>\n",
       "    </tr>\n",
       "    <tr>\n",
       "      <th>Specter - ID</th>\n",
       "      <th></th>\n",
       "      <th></th>\n",
       "      <th></th>\n",
       "      <th></th>\n",
       "      <th></th>\n",
       "      <th></th>\n",
       "    </tr>\n",
       "  </thead>\n",
       "  <tbody>\n",
       "    <tr>\n",
       "      <th>5e3a8f19040ca7b0c6f03071</th>\n",
       "      <td>32.0</td>\n",
       "      <td>67.0</td>\n",
       "      <td>80.0</td>\n",
       "      <td>167.0</td>\n",
       "      <td>221.0</td>\n",
       "      <td>254.0</td>\n",
       "    </tr>\n",
       "    <tr>\n",
       "      <th>5e3a8f19040ca7b0c6f02f79</th>\n",
       "      <td>4.0</td>\n",
       "      <td>50.0</td>\n",
       "      <td>119.0</td>\n",
       "      <td>159.0</td>\n",
       "      <td>196.0</td>\n",
       "      <td>226.0</td>\n",
       "    </tr>\n",
       "    <tr>\n",
       "      <th>5e3a8f47040ca7b0c6f10460</th>\n",
       "      <td>4.0</td>\n",
       "      <td>25.0</td>\n",
       "      <td>38.0</td>\n",
       "      <td>46.0</td>\n",
       "      <td>71.0</td>\n",
       "      <td>79.0</td>\n",
       "    </tr>\n",
       "    <tr>\n",
       "      <th>62c2c65f0405ea8a58c3718a</th>\n",
       "      <td>1.0</td>\n",
       "      <td>2.0</td>\n",
       "      <td>2.0</td>\n",
       "      <td>2.0</td>\n",
       "      <td>2.0</td>\n",
       "      <td>NaN</td>\n",
       "    </tr>\n",
       "    <tr>\n",
       "      <th>5fc74452bf7e53924df86816</th>\n",
       "      <td>0.0</td>\n",
       "      <td>NaN</td>\n",
       "      <td>NaN</td>\n",
       "      <td>NaN</td>\n",
       "      <td>NaN</td>\n",
       "      <td>NaN</td>\n",
       "    </tr>\n",
       "    <tr>\n",
       "      <th>...</th>\n",
       "      <td>...</td>\n",
       "      <td>...</td>\n",
       "      <td>...</td>\n",
       "      <td>...</td>\n",
       "      <td>...</td>\n",
       "      <td>...</td>\n",
       "    </tr>\n",
       "    <tr>\n",
       "      <th>5e3a8fa2040ca7b0c6f2ef05</th>\n",
       "      <td>5.0</td>\n",
       "      <td>19.0</td>\n",
       "      <td>33.0</td>\n",
       "      <td>55.0</td>\n",
       "      <td>68.0</td>\n",
       "      <td>83.0</td>\n",
       "    </tr>\n",
       "    <tr>\n",
       "      <th>61d5d3fcdb415a1b7f41bc81</th>\n",
       "      <td>0.0</td>\n",
       "      <td>1.0</td>\n",
       "      <td>1.0</td>\n",
       "      <td>2.0</td>\n",
       "      <td>2.0</td>\n",
       "      <td>3.0</td>\n",
       "    </tr>\n",
       "    <tr>\n",
       "      <th>61ad0b56d0efcf20c6ecf0fc</th>\n",
       "      <td>790.0</td>\n",
       "      <td>1751.0</td>\n",
       "      <td>2097.0</td>\n",
       "      <td>2713.0</td>\n",
       "      <td>3212.0</td>\n",
       "      <td>3632.0</td>\n",
       "    </tr>\n",
       "    <tr>\n",
       "      <th>6164492cc3c073075bd6634d</th>\n",
       "      <td>12.0</td>\n",
       "      <td>38.0</td>\n",
       "      <td>39.0</td>\n",
       "      <td>40.0</td>\n",
       "      <td>46.0</td>\n",
       "      <td>49.0</td>\n",
       "    </tr>\n",
       "    <tr>\n",
       "      <th>5e3a7f2b0aa7a3270a55ee2d</th>\n",
       "      <td>0.0</td>\n",
       "      <td>-3.0</td>\n",
       "      <td>-4.0</td>\n",
       "      <td>-5.0</td>\n",
       "      <td>-5.0</td>\n",
       "      <td>-10.0</td>\n",
       "    </tr>\n",
       "  </tbody>\n",
       "</table>\n",
       "<p>4375 rows × 6 columns</p>\n",
       "</div>"
      ],
      "text/plain": [
       "                          Twitter - Monthly Followers Growth  \\\n",
       "Specter - ID                                                   \n",
       "5e3a8f19040ca7b0c6f03071                                32.0   \n",
       "5e3a8f19040ca7b0c6f02f79                                 4.0   \n",
       "5e3a8f47040ca7b0c6f10460                                 4.0   \n",
       "62c2c65f0405ea8a58c3718a                                 1.0   \n",
       "5fc74452bf7e53924df86816                                 0.0   \n",
       "...                                                      ...   \n",
       "5e3a8fa2040ca7b0c6f2ef05                                 5.0   \n",
       "61d5d3fcdb415a1b7f41bc81                                 0.0   \n",
       "61ad0b56d0efcf20c6ecf0fc                               790.0   \n",
       "6164492cc3c073075bd6634d                                12.0   \n",
       "5e3a7f2b0aa7a3270a55ee2d                                 0.0   \n",
       "\n",
       "                          Twitter - 2 Months Followers Growth  \\\n",
       "Specter - ID                                                    \n",
       "5e3a8f19040ca7b0c6f03071                                 67.0   \n",
       "5e3a8f19040ca7b0c6f02f79                                 50.0   \n",
       "5e3a8f47040ca7b0c6f10460                                 25.0   \n",
       "62c2c65f0405ea8a58c3718a                                  2.0   \n",
       "5fc74452bf7e53924df86816                                  NaN   \n",
       "...                                                       ...   \n",
       "5e3a8fa2040ca7b0c6f2ef05                                 19.0   \n",
       "61d5d3fcdb415a1b7f41bc81                                  1.0   \n",
       "61ad0b56d0efcf20c6ecf0fc                               1751.0   \n",
       "6164492cc3c073075bd6634d                                 38.0   \n",
       "5e3a7f2b0aa7a3270a55ee2d                                 -3.0   \n",
       "\n",
       "                          Twitter - 3 Months Followers Growth  \\\n",
       "Specter - ID                                                    \n",
       "5e3a8f19040ca7b0c6f03071                                 80.0   \n",
       "5e3a8f19040ca7b0c6f02f79                                119.0   \n",
       "5e3a8f47040ca7b0c6f10460                                 38.0   \n",
       "62c2c65f0405ea8a58c3718a                                  2.0   \n",
       "5fc74452bf7e53924df86816                                  NaN   \n",
       "...                                                       ...   \n",
       "5e3a8fa2040ca7b0c6f2ef05                                 33.0   \n",
       "61d5d3fcdb415a1b7f41bc81                                  1.0   \n",
       "61ad0b56d0efcf20c6ecf0fc                               2097.0   \n",
       "6164492cc3c073075bd6634d                                 39.0   \n",
       "5e3a7f2b0aa7a3270a55ee2d                                 -4.0   \n",
       "\n",
       "                          Twitter - 4 Months Followers Growth  \\\n",
       "Specter - ID                                                    \n",
       "5e3a8f19040ca7b0c6f03071                                167.0   \n",
       "5e3a8f19040ca7b0c6f02f79                                159.0   \n",
       "5e3a8f47040ca7b0c6f10460                                 46.0   \n",
       "62c2c65f0405ea8a58c3718a                                  2.0   \n",
       "5fc74452bf7e53924df86816                                  NaN   \n",
       "...                                                       ...   \n",
       "5e3a8fa2040ca7b0c6f2ef05                                 55.0   \n",
       "61d5d3fcdb415a1b7f41bc81                                  2.0   \n",
       "61ad0b56d0efcf20c6ecf0fc                               2713.0   \n",
       "6164492cc3c073075bd6634d                                 40.0   \n",
       "5e3a7f2b0aa7a3270a55ee2d                                 -5.0   \n",
       "\n",
       "                          Twitter - 5 Months Followers Growth  \\\n",
       "Specter - ID                                                    \n",
       "5e3a8f19040ca7b0c6f03071                                221.0   \n",
       "5e3a8f19040ca7b0c6f02f79                                196.0   \n",
       "5e3a8f47040ca7b0c6f10460                                 71.0   \n",
       "62c2c65f0405ea8a58c3718a                                  2.0   \n",
       "5fc74452bf7e53924df86816                                  NaN   \n",
       "...                                                       ...   \n",
       "5e3a8fa2040ca7b0c6f2ef05                                 68.0   \n",
       "61d5d3fcdb415a1b7f41bc81                                  2.0   \n",
       "61ad0b56d0efcf20c6ecf0fc                               3212.0   \n",
       "6164492cc3c073075bd6634d                                 46.0   \n",
       "5e3a7f2b0aa7a3270a55ee2d                                 -5.0   \n",
       "\n",
       "                          Twitter - 6 Months Followers Growth  \n",
       "Specter - ID                                                   \n",
       "5e3a8f19040ca7b0c6f03071                                254.0  \n",
       "5e3a8f19040ca7b0c6f02f79                                226.0  \n",
       "5e3a8f47040ca7b0c6f10460                                 79.0  \n",
       "62c2c65f0405ea8a58c3718a                                  NaN  \n",
       "5fc74452bf7e53924df86816                                  NaN  \n",
       "...                                                       ...  \n",
       "5e3a8fa2040ca7b0c6f2ef05                                 83.0  \n",
       "61d5d3fcdb415a1b7f41bc81                                  3.0  \n",
       "61ad0b56d0efcf20c6ecf0fc                               3632.0  \n",
       "6164492cc3c073075bd6634d                                 49.0  \n",
       "5e3a7f2b0aa7a3270a55ee2d                                -10.0  \n",
       "\n",
       "[4375 rows x 6 columns]"
      ]
     },
     "execution_count": 14,
     "metadata": {},
     "output_type": "execute_result"
    }
   ],
   "source": [
    "# rows with missing values - not all NaN\n",
    "rows_with_missing_values = ~df[growth_metric_cols].isna().all(axis=1)\n",
    "\n",
    "# for these rows, fill the missing values with 0\n",
    "df.loc[rows_with_missing_values, growth_metric_cols] = df.loc[rows_with_missing_values, growth_metric_cols].fillna(0)"
   ]
  },
  {
   "cell_type": "code",
   "execution_count": 2,
   "metadata": {},
   "outputs": [
    {
     "data": {
      "text/html": [
       "<div>\n",
       "<style scoped>\n",
       "    .dataframe tbody tr th:only-of-type {\n",
       "        vertical-align: middle;\n",
       "    }\n",
       "\n",
       "    .dataframe tbody tr th {\n",
       "        vertical-align: top;\n",
       "    }\n",
       "\n",
       "    .dataframe thead th {\n",
       "        text-align: right;\n",
       "    }\n",
       "</style>\n",
       "<table border=\"1\" class=\"dataframe\">\n",
       "  <thead>\n",
       "    <tr style=\"text-align: right;\">\n",
       "      <th></th>\n",
       "      <th>Company Name</th>\n",
       "      <th>Website</th>\n",
       "      <th>Total Funding Amount (in USD)</th>\n",
       "      <th>Employee Count</th>\n",
       "      <th>Web Visits</th>\n",
       "      <th>Website Popularity Rank</th>\n",
       "      <th>LinkedIn - Followers</th>\n",
       "      <th>Twitter - Followers</th>\n",
       "      <th>Instagram - Followers</th>\n",
       "      <th>Total App Downloads</th>\n",
       "      <th>...</th>\n",
       "      <th>Instagram - 6 Months Followers Growth</th>\n",
       "      <th>instagram_followers_slope</th>\n",
       "      <th>Total App Downloads - Monthly Growth</th>\n",
       "      <th>Total App Downloads - 2 Months Growth</th>\n",
       "      <th>Total App Downloads - 3 Months Growth</th>\n",
       "      <th>Total App Downloads - 4 Months Growth</th>\n",
       "      <th>Total App Downloads - 5 Months Growth</th>\n",
       "      <th>Total App Downloads - 6 Months Growth</th>\n",
       "      <th>app_downloads_slope</th>\n",
       "      <th>growth_kpi</th>\n",
       "    </tr>\n",
       "    <tr>\n",
       "      <th>Specter - ID</th>\n",
       "      <th></th>\n",
       "      <th></th>\n",
       "      <th></th>\n",
       "      <th></th>\n",
       "      <th></th>\n",
       "      <th></th>\n",
       "      <th></th>\n",
       "      <th></th>\n",
       "      <th></th>\n",
       "      <th></th>\n",
       "      <th></th>\n",
       "      <th></th>\n",
       "      <th></th>\n",
       "      <th></th>\n",
       "      <th></th>\n",
       "      <th></th>\n",
       "      <th></th>\n",
       "      <th></th>\n",
       "      <th></th>\n",
       "      <th></th>\n",
       "      <th></th>\n",
       "    </tr>\n",
       "  </thead>\n",
       "  <tbody>\n",
       "    <tr>\n",
       "      <th>624b27ade4e2dbb8bd31f978</th>\n",
       "      <td>HealthBird</td>\n",
       "      <td>https://www.healthbird.com/</td>\n",
       "      <td>1600000.0</td>\n",
       "      <td>12.0</td>\n",
       "      <td>42707</td>\n",
       "      <td>1624776</td>\n",
       "      <td>241</td>\n",
       "      <td>NaN</td>\n",
       "      <td>NaN</td>\n",
       "      <td>NaN</td>\n",
       "      <td>...</td>\n",
       "      <td>0.000000</td>\n",
       "      <td>0.000000</td>\n",
       "      <td>0.0</td>\n",
       "      <td>0.0</td>\n",
       "      <td>0.0</td>\n",
       "      <td>0.0</td>\n",
       "      <td>0.0</td>\n",
       "      <td>0.0</td>\n",
       "      <td>0.0</td>\n",
       "      <td>1.000000</td>\n",
       "    </tr>\n",
       "    <tr>\n",
       "      <th>62735f4801ed2520137224ce</th>\n",
       "      <td>Mentava</td>\n",
       "      <td>https://www.mentava.com</td>\n",
       "      <td>3000000.0</td>\n",
       "      <td>4.0</td>\n",
       "      <td>29981</td>\n",
       "      <td>4858411</td>\n",
       "      <td>115</td>\n",
       "      <td>322.0</td>\n",
       "      <td>NaN</td>\n",
       "      <td>NaN</td>\n",
       "      <td>...</td>\n",
       "      <td>0.000000</td>\n",
       "      <td>0.000000</td>\n",
       "      <td>0.0</td>\n",
       "      <td>0.0</td>\n",
       "      <td>0.0</td>\n",
       "      <td>0.0</td>\n",
       "      <td>0.0</td>\n",
       "      <td>0.0</td>\n",
       "      <td>0.0</td>\n",
       "      <td>0.927039</td>\n",
       "    </tr>\n",
       "    <tr>\n",
       "      <th>627100104b7ad6a07cc251f5</th>\n",
       "      <td>Design Practice</td>\n",
       "      <td>https://www.designpractice.pl</td>\n",
       "      <td>0.0</td>\n",
       "      <td>4.0</td>\n",
       "      <td>73781</td>\n",
       "      <td>1968403</td>\n",
       "      <td>2853</td>\n",
       "      <td>NaN</td>\n",
       "      <td>NaN</td>\n",
       "      <td>NaN</td>\n",
       "      <td>...</td>\n",
       "      <td>0.000000</td>\n",
       "      <td>0.000000</td>\n",
       "      <td>0.0</td>\n",
       "      <td>0.0</td>\n",
       "      <td>0.0</td>\n",
       "      <td>0.0</td>\n",
       "      <td>0.0</td>\n",
       "      <td>0.0</td>\n",
       "      <td>0.0</td>\n",
       "      <td>0.912769</td>\n",
       "    </tr>\n",
       "    <tr>\n",
       "      <th>6270ff004b7ad6a07cbd8ec0</th>\n",
       "      <td>SoulPay</td>\n",
       "      <td>https://www.soulpay.in/</td>\n",
       "      <td>0.0</td>\n",
       "      <td>24.0</td>\n",
       "      <td>2472394</td>\n",
       "      <td>81997</td>\n",
       "      <td>452</td>\n",
       "      <td>132.0</td>\n",
       "      <td>NaN</td>\n",
       "      <td>NaN</td>\n",
       "      <td>...</td>\n",
       "      <td>0.000000</td>\n",
       "      <td>0.000000</td>\n",
       "      <td>0.0</td>\n",
       "      <td>0.0</td>\n",
       "      <td>0.0</td>\n",
       "      <td>0.0</td>\n",
       "      <td>0.0</td>\n",
       "      <td>0.0</td>\n",
       "      <td>0.0</td>\n",
       "      <td>0.905598</td>\n",
       "    </tr>\n",
       "    <tr>\n",
       "      <th>5e3b9057137e998b5ae6cc7e</th>\n",
       "      <td>Tucareers</td>\n",
       "      <td>https://www.tucareers.com</td>\n",
       "      <td>0.0</td>\n",
       "      <td>3.0</td>\n",
       "      <td>50078</td>\n",
       "      <td>1933182</td>\n",
       "      <td>235</td>\n",
       "      <td>32.0</td>\n",
       "      <td>NaN</td>\n",
       "      <td>NaN</td>\n",
       "      <td>...</td>\n",
       "      <td>0.000000</td>\n",
       "      <td>0.000000</td>\n",
       "      <td>0.0</td>\n",
       "      <td>0.0</td>\n",
       "      <td>0.0</td>\n",
       "      <td>0.0</td>\n",
       "      <td>0.0</td>\n",
       "      <td>0.0</td>\n",
       "      <td>0.0</td>\n",
       "      <td>0.840858</td>\n",
       "    </tr>\n",
       "    <tr>\n",
       "      <th>...</th>\n",
       "      <td>...</td>\n",
       "      <td>...</td>\n",
       "      <td>...</td>\n",
       "      <td>...</td>\n",
       "      <td>...</td>\n",
       "      <td>...</td>\n",
       "      <td>...</td>\n",
       "      <td>...</td>\n",
       "      <td>...</td>\n",
       "      <td>...</td>\n",
       "      <td>...</td>\n",
       "      <td>...</td>\n",
       "      <td>...</td>\n",
       "      <td>...</td>\n",
       "      <td>...</td>\n",
       "      <td>...</td>\n",
       "      <td>...</td>\n",
       "      <td>...</td>\n",
       "      <td>...</td>\n",
       "      <td>...</td>\n",
       "      <td>...</td>\n",
       "    </tr>\n",
       "    <tr>\n",
       "      <th>616557faf52909a9cc9e30ce</th>\n",
       "      <td>Rowy</td>\n",
       "      <td>rowy.io</td>\n",
       "      <td>0.0</td>\n",
       "      <td>10.0</td>\n",
       "      <td>41151</td>\n",
       "      <td>1522089</td>\n",
       "      <td>603</td>\n",
       "      <td>964.0</td>\n",
       "      <td>NaN</td>\n",
       "      <td>NaN</td>\n",
       "      <td>...</td>\n",
       "      <td>0.000000</td>\n",
       "      <td>0.000000</td>\n",
       "      <td>0.0</td>\n",
       "      <td>0.0</td>\n",
       "      <td>0.0</td>\n",
       "      <td>0.0</td>\n",
       "      <td>0.0</td>\n",
       "      <td>0.0</td>\n",
       "      <td>0.0</td>\n",
       "      <td>0.544777</td>\n",
       "    </tr>\n",
       "    <tr>\n",
       "      <th>5e3b9057137e998b5ae6c917</th>\n",
       "      <td>Seibii, Inc.</td>\n",
       "      <td>https://seibii.co.jp/corporate</td>\n",
       "      <td>29500000.0</td>\n",
       "      <td>7.0</td>\n",
       "      <td>165320</td>\n",
       "      <td>956959</td>\n",
       "      <td>27</td>\n",
       "      <td>2243.0</td>\n",
       "      <td>NaN</td>\n",
       "      <td>NaN</td>\n",
       "      <td>...</td>\n",
       "      <td>0.000000</td>\n",
       "      <td>0.000000</td>\n",
       "      <td>0.0</td>\n",
       "      <td>0.0</td>\n",
       "      <td>0.0</td>\n",
       "      <td>0.0</td>\n",
       "      <td>0.0</td>\n",
       "      <td>0.0</td>\n",
       "      <td>0.0</td>\n",
       "      <td>0.542593</td>\n",
       "    </tr>\n",
       "    <tr>\n",
       "      <th>5fc74423bf7e53924df707e9</th>\n",
       "      <td>KVINT</td>\n",
       "      <td>https://kvint.io/</td>\n",
       "      <td>100000.0</td>\n",
       "      <td>28.0</td>\n",
       "      <td>18291</td>\n",
       "      <td>115501</td>\n",
       "      <td>67</td>\n",
       "      <td>2.0</td>\n",
       "      <td>103.0</td>\n",
       "      <td>NaN</td>\n",
       "      <td>...</td>\n",
       "      <td>-0.019417</td>\n",
       "      <td>-0.005548</td>\n",
       "      <td>0.0</td>\n",
       "      <td>0.0</td>\n",
       "      <td>0.0</td>\n",
       "      <td>0.0</td>\n",
       "      <td>0.0</td>\n",
       "      <td>0.0</td>\n",
       "      <td>0.0</td>\n",
       "      <td>0.541674</td>\n",
       "    </tr>\n",
       "    <tr>\n",
       "      <th>609015e4db60992662c46d95</th>\n",
       "      <td>QuoteBeam</td>\n",
       "      <td>https://quotebeam.com/</td>\n",
       "      <td>3570000.0</td>\n",
       "      <td>7.0</td>\n",
       "      <td>7421</td>\n",
       "      <td>3727393</td>\n",
       "      <td>2493</td>\n",
       "      <td>25.0</td>\n",
       "      <td>NaN</td>\n",
       "      <td>NaN</td>\n",
       "      <td>...</td>\n",
       "      <td>0.000000</td>\n",
       "      <td>0.000000</td>\n",
       "      <td>0.0</td>\n",
       "      <td>0.0</td>\n",
       "      <td>0.0</td>\n",
       "      <td>0.0</td>\n",
       "      <td>0.0</td>\n",
       "      <td>0.0</td>\n",
       "      <td>0.0</td>\n",
       "      <td>0.541430</td>\n",
       "    </tr>\n",
       "    <tr>\n",
       "      <th>621f972d972ef7e5d69c2340</th>\n",
       "      <td>Take App</td>\n",
       "      <td>https://take.app</td>\n",
       "      <td>1025000.0</td>\n",
       "      <td>6.0</td>\n",
       "      <td>202900</td>\n",
       "      <td>598491</td>\n",
       "      <td>739</td>\n",
       "      <td>2.0</td>\n",
       "      <td>NaN</td>\n",
       "      <td>NaN</td>\n",
       "      <td>...</td>\n",
       "      <td>0.000000</td>\n",
       "      <td>0.000000</td>\n",
       "      <td>0.0</td>\n",
       "      <td>0.0</td>\n",
       "      <td>0.0</td>\n",
       "      <td>0.0</td>\n",
       "      <td>0.0</td>\n",
       "      <td>0.0</td>\n",
       "      <td>0.0</td>\n",
       "      <td>0.541096</td>\n",
       "    </tr>\n",
       "  </tbody>\n",
       "</table>\n",
       "<p>100 rows × 60 columns</p>\n",
       "</div>"
      ],
      "text/plain": [
       "                             Company Name                         Website  \\\n",
       "Specter - ID                                                                \n",
       "624b27ade4e2dbb8bd31f978       HealthBird     https://www.healthbird.com/   \n",
       "62735f4801ed2520137224ce          Mentava         https://www.mentava.com   \n",
       "627100104b7ad6a07cc251f5  Design Practice   https://www.designpractice.pl   \n",
       "6270ff004b7ad6a07cbd8ec0          SoulPay         https://www.soulpay.in/   \n",
       "5e3b9057137e998b5ae6cc7e        Tucareers       https://www.tucareers.com   \n",
       "...                                   ...                             ...   \n",
       "616557faf52909a9cc9e30ce             Rowy                         rowy.io   \n",
       "5e3b9057137e998b5ae6c917     Seibii, Inc.  https://seibii.co.jp/corporate   \n",
       "5fc74423bf7e53924df707e9            KVINT               https://kvint.io/   \n",
       "609015e4db60992662c46d95        QuoteBeam          https://quotebeam.com/   \n",
       "621f972d972ef7e5d69c2340         Take App                https://take.app   \n",
       "\n",
       "                          Total Funding Amount (in USD)  Employee Count  \\\n",
       "Specter - ID                                                              \n",
       "624b27ade4e2dbb8bd31f978                      1600000.0            12.0   \n",
       "62735f4801ed2520137224ce                      3000000.0             4.0   \n",
       "627100104b7ad6a07cc251f5                            0.0             4.0   \n",
       "6270ff004b7ad6a07cbd8ec0                            0.0            24.0   \n",
       "5e3b9057137e998b5ae6cc7e                            0.0             3.0   \n",
       "...                                                 ...             ...   \n",
       "616557faf52909a9cc9e30ce                            0.0            10.0   \n",
       "5e3b9057137e998b5ae6c917                     29500000.0             7.0   \n",
       "5fc74423bf7e53924df707e9                       100000.0            28.0   \n",
       "609015e4db60992662c46d95                      3570000.0             7.0   \n",
       "621f972d972ef7e5d69c2340                      1025000.0             6.0   \n",
       "\n",
       "                          Web Visits  Website Popularity Rank  \\\n",
       "Specter - ID                                                    \n",
       "624b27ade4e2dbb8bd31f978       42707                  1624776   \n",
       "62735f4801ed2520137224ce       29981                  4858411   \n",
       "627100104b7ad6a07cc251f5       73781                  1968403   \n",
       "6270ff004b7ad6a07cbd8ec0     2472394                    81997   \n",
       "5e3b9057137e998b5ae6cc7e       50078                  1933182   \n",
       "...                              ...                      ...   \n",
       "616557faf52909a9cc9e30ce       41151                  1522089   \n",
       "5e3b9057137e998b5ae6c917      165320                   956959   \n",
       "5fc74423bf7e53924df707e9       18291                   115501   \n",
       "609015e4db60992662c46d95        7421                  3727393   \n",
       "621f972d972ef7e5d69c2340      202900                   598491   \n",
       "\n",
       "                          LinkedIn - Followers  Twitter - Followers  \\\n",
       "Specter - ID                                                          \n",
       "624b27ade4e2dbb8bd31f978                   241                  NaN   \n",
       "62735f4801ed2520137224ce                   115                322.0   \n",
       "627100104b7ad6a07cc251f5                  2853                  NaN   \n",
       "6270ff004b7ad6a07cbd8ec0                   452                132.0   \n",
       "5e3b9057137e998b5ae6cc7e                   235                 32.0   \n",
       "...                                        ...                  ...   \n",
       "616557faf52909a9cc9e30ce                   603                964.0   \n",
       "5e3b9057137e998b5ae6c917                    27               2243.0   \n",
       "5fc74423bf7e53924df707e9                    67                  2.0   \n",
       "609015e4db60992662c46d95                  2493                 25.0   \n",
       "621f972d972ef7e5d69c2340                   739                  2.0   \n",
       "\n",
       "                          Instagram - Followers  Total App Downloads  ...  \\\n",
       "Specter - ID                                                          ...   \n",
       "624b27ade4e2dbb8bd31f978                    NaN                  NaN  ...   \n",
       "62735f4801ed2520137224ce                    NaN                  NaN  ...   \n",
       "627100104b7ad6a07cc251f5                    NaN                  NaN  ...   \n",
       "6270ff004b7ad6a07cbd8ec0                    NaN                  NaN  ...   \n",
       "5e3b9057137e998b5ae6cc7e                    NaN                  NaN  ...   \n",
       "...                                         ...                  ...  ...   \n",
       "616557faf52909a9cc9e30ce                    NaN                  NaN  ...   \n",
       "5e3b9057137e998b5ae6c917                    NaN                  NaN  ...   \n",
       "5fc74423bf7e53924df707e9                  103.0                  NaN  ...   \n",
       "609015e4db60992662c46d95                    NaN                  NaN  ...   \n",
       "621f972d972ef7e5d69c2340                    NaN                  NaN  ...   \n",
       "\n",
       "                          Instagram - 6 Months Followers Growth  \\\n",
       "Specter - ID                                                      \n",
       "624b27ade4e2dbb8bd31f978                               0.000000   \n",
       "62735f4801ed2520137224ce                               0.000000   \n",
       "627100104b7ad6a07cc251f5                               0.000000   \n",
       "6270ff004b7ad6a07cbd8ec0                               0.000000   \n",
       "5e3b9057137e998b5ae6cc7e                               0.000000   \n",
       "...                                                         ...   \n",
       "616557faf52909a9cc9e30ce                               0.000000   \n",
       "5e3b9057137e998b5ae6c917                               0.000000   \n",
       "5fc74423bf7e53924df707e9                              -0.019417   \n",
       "609015e4db60992662c46d95                               0.000000   \n",
       "621f972d972ef7e5d69c2340                               0.000000   \n",
       "\n",
       "                          instagram_followers_slope  \\\n",
       "Specter - ID                                          \n",
       "624b27ade4e2dbb8bd31f978                   0.000000   \n",
       "62735f4801ed2520137224ce                   0.000000   \n",
       "627100104b7ad6a07cc251f5                   0.000000   \n",
       "6270ff004b7ad6a07cbd8ec0                   0.000000   \n",
       "5e3b9057137e998b5ae6cc7e                   0.000000   \n",
       "...                                             ...   \n",
       "616557faf52909a9cc9e30ce                   0.000000   \n",
       "5e3b9057137e998b5ae6c917                   0.000000   \n",
       "5fc74423bf7e53924df707e9                  -0.005548   \n",
       "609015e4db60992662c46d95                   0.000000   \n",
       "621f972d972ef7e5d69c2340                   0.000000   \n",
       "\n",
       "                          Total App Downloads - Monthly Growth  \\\n",
       "Specter - ID                                                     \n",
       "624b27ade4e2dbb8bd31f978                                   0.0   \n",
       "62735f4801ed2520137224ce                                   0.0   \n",
       "627100104b7ad6a07cc251f5                                   0.0   \n",
       "6270ff004b7ad6a07cbd8ec0                                   0.0   \n",
       "5e3b9057137e998b5ae6cc7e                                   0.0   \n",
       "...                                                        ...   \n",
       "616557faf52909a9cc9e30ce                                   0.0   \n",
       "5e3b9057137e998b5ae6c917                                   0.0   \n",
       "5fc74423bf7e53924df707e9                                   0.0   \n",
       "609015e4db60992662c46d95                                   0.0   \n",
       "621f972d972ef7e5d69c2340                                   0.0   \n",
       "\n",
       "                          Total App Downloads - 2 Months Growth  \\\n",
       "Specter - ID                                                      \n",
       "624b27ade4e2dbb8bd31f978                                    0.0   \n",
       "62735f4801ed2520137224ce                                    0.0   \n",
       "627100104b7ad6a07cc251f5                                    0.0   \n",
       "6270ff004b7ad6a07cbd8ec0                                    0.0   \n",
       "5e3b9057137e998b5ae6cc7e                                    0.0   \n",
       "...                                                         ...   \n",
       "616557faf52909a9cc9e30ce                                    0.0   \n",
       "5e3b9057137e998b5ae6c917                                    0.0   \n",
       "5fc74423bf7e53924df707e9                                    0.0   \n",
       "609015e4db60992662c46d95                                    0.0   \n",
       "621f972d972ef7e5d69c2340                                    0.0   \n",
       "\n",
       "                          Total App Downloads - 3 Months Growth  \\\n",
       "Specter - ID                                                      \n",
       "624b27ade4e2dbb8bd31f978                                    0.0   \n",
       "62735f4801ed2520137224ce                                    0.0   \n",
       "627100104b7ad6a07cc251f5                                    0.0   \n",
       "6270ff004b7ad6a07cbd8ec0                                    0.0   \n",
       "5e3b9057137e998b5ae6cc7e                                    0.0   \n",
       "...                                                         ...   \n",
       "616557faf52909a9cc9e30ce                                    0.0   \n",
       "5e3b9057137e998b5ae6c917                                    0.0   \n",
       "5fc74423bf7e53924df707e9                                    0.0   \n",
       "609015e4db60992662c46d95                                    0.0   \n",
       "621f972d972ef7e5d69c2340                                    0.0   \n",
       "\n",
       "                          Total App Downloads - 4 Months Growth  \\\n",
       "Specter - ID                                                      \n",
       "624b27ade4e2dbb8bd31f978                                    0.0   \n",
       "62735f4801ed2520137224ce                                    0.0   \n",
       "627100104b7ad6a07cc251f5                                    0.0   \n",
       "6270ff004b7ad6a07cbd8ec0                                    0.0   \n",
       "5e3b9057137e998b5ae6cc7e                                    0.0   \n",
       "...                                                         ...   \n",
       "616557faf52909a9cc9e30ce                                    0.0   \n",
       "5e3b9057137e998b5ae6c917                                    0.0   \n",
       "5fc74423bf7e53924df707e9                                    0.0   \n",
       "609015e4db60992662c46d95                                    0.0   \n",
       "621f972d972ef7e5d69c2340                                    0.0   \n",
       "\n",
       "                          Total App Downloads - 5 Months Growth  \\\n",
       "Specter - ID                                                      \n",
       "624b27ade4e2dbb8bd31f978                                    0.0   \n",
       "62735f4801ed2520137224ce                                    0.0   \n",
       "627100104b7ad6a07cc251f5                                    0.0   \n",
       "6270ff004b7ad6a07cbd8ec0                                    0.0   \n",
       "5e3b9057137e998b5ae6cc7e                                    0.0   \n",
       "...                                                         ...   \n",
       "616557faf52909a9cc9e30ce                                    0.0   \n",
       "5e3b9057137e998b5ae6c917                                    0.0   \n",
       "5fc74423bf7e53924df707e9                                    0.0   \n",
       "609015e4db60992662c46d95                                    0.0   \n",
       "621f972d972ef7e5d69c2340                                    0.0   \n",
       "\n",
       "                          Total App Downloads - 6 Months Growth  \\\n",
       "Specter - ID                                                      \n",
       "624b27ade4e2dbb8bd31f978                                    0.0   \n",
       "62735f4801ed2520137224ce                                    0.0   \n",
       "627100104b7ad6a07cc251f5                                    0.0   \n",
       "6270ff004b7ad6a07cbd8ec0                                    0.0   \n",
       "5e3b9057137e998b5ae6cc7e                                    0.0   \n",
       "...                                                         ...   \n",
       "616557faf52909a9cc9e30ce                                    0.0   \n",
       "5e3b9057137e998b5ae6c917                                    0.0   \n",
       "5fc74423bf7e53924df707e9                                    0.0   \n",
       "609015e4db60992662c46d95                                    0.0   \n",
       "621f972d972ef7e5d69c2340                                    0.0   \n",
       "\n",
       "                          app_downloads_slope  growth_kpi  \n",
       "Specter - ID                                               \n",
       "624b27ade4e2dbb8bd31f978                  0.0    1.000000  \n",
       "62735f4801ed2520137224ce                  0.0    0.927039  \n",
       "627100104b7ad6a07cc251f5                  0.0    0.912769  \n",
       "6270ff004b7ad6a07cbd8ec0                  0.0    0.905598  \n",
       "5e3b9057137e998b5ae6cc7e                  0.0    0.840858  \n",
       "...                                       ...         ...  \n",
       "616557faf52909a9cc9e30ce                  0.0    0.544777  \n",
       "5e3b9057137e998b5ae6c917                  0.0    0.542593  \n",
       "5fc74423bf7e53924df707e9                  0.0    0.541674  \n",
       "609015e4db60992662c46d95                  0.0    0.541430  \n",
       "621f972d972ef7e5d69c2340                  0.0    0.541096  \n",
       "\n",
       "[100 rows x 60 columns]"
      ]
     },
     "execution_count": 2,
     "metadata": {},
     "output_type": "execute_result"
    }
   ],
   "source": [
    "top_n = 100\n",
    "processed_data = main(df, top_n)\n",
    "processed_data"
   ]
  },
  {
   "cell_type": "code",
   "execution_count": 3,
   "metadata": {},
   "outputs": [
    {
     "data": {
      "text/html": [
       "<div>\n",
       "<style scoped>\n",
       "    .dataframe tbody tr th:only-of-type {\n",
       "        vertical-align: middle;\n",
       "    }\n",
       "\n",
       "    .dataframe tbody tr th {\n",
       "        vertical-align: top;\n",
       "    }\n",
       "\n",
       "    .dataframe thead th {\n",
       "        text-align: right;\n",
       "    }\n",
       "</style>\n",
       "<table border=\"1\" class=\"dataframe\">\n",
       "  <thead>\n",
       "    <tr style=\"text-align: right;\">\n",
       "      <th></th>\n",
       "      <th>Company Name</th>\n",
       "      <th>Website</th>\n",
       "      <th>Total Funding Amount (in USD)</th>\n",
       "      <th>Employee Count</th>\n",
       "      <th>Web Visits</th>\n",
       "      <th>Website Popularity Rank</th>\n",
       "      <th>LinkedIn - Followers</th>\n",
       "      <th>Twitter - Followers</th>\n",
       "      <th>Instagram - Followers</th>\n",
       "      <th>Total App Downloads</th>\n",
       "      <th>...</th>\n",
       "      <th>Instagram - 6 Months Followers Growth</th>\n",
       "      <th>instagram_followers_slope</th>\n",
       "      <th>Total App Downloads - Monthly Growth</th>\n",
       "      <th>Total App Downloads - 2 Months Growth</th>\n",
       "      <th>Total App Downloads - 3 Months Growth</th>\n",
       "      <th>Total App Downloads - 4 Months Growth</th>\n",
       "      <th>Total App Downloads - 5 Months Growth</th>\n",
       "      <th>Total App Downloads - 6 Months Growth</th>\n",
       "      <th>app_downloads_slope</th>\n",
       "      <th>growth_kpi</th>\n",
       "    </tr>\n",
       "    <tr>\n",
       "      <th>Specter - ID</th>\n",
       "      <th></th>\n",
       "      <th></th>\n",
       "      <th></th>\n",
       "      <th></th>\n",
       "      <th></th>\n",
       "      <th></th>\n",
       "      <th></th>\n",
       "      <th></th>\n",
       "      <th></th>\n",
       "      <th></th>\n",
       "      <th></th>\n",
       "      <th></th>\n",
       "      <th></th>\n",
       "      <th></th>\n",
       "      <th></th>\n",
       "      <th></th>\n",
       "      <th></th>\n",
       "      <th></th>\n",
       "      <th></th>\n",
       "      <th></th>\n",
       "      <th></th>\n",
       "    </tr>\n",
       "  </thead>\n",
       "  <tbody>\n",
       "    <tr>\n",
       "      <th>624b27ade4e2dbb8bd31f978</th>\n",
       "      <td>HealthBird</td>\n",
       "      <td>https://www.healthbird.com/</td>\n",
       "      <td>1600000.0</td>\n",
       "      <td>12.0</td>\n",
       "      <td>42707</td>\n",
       "      <td>1624776</td>\n",
       "      <td>241</td>\n",
       "      <td>NaN</td>\n",
       "      <td>NaN</td>\n",
       "      <td>NaN</td>\n",
       "      <td>...</td>\n",
       "      <td>0.000000</td>\n",
       "      <td>0.000000</td>\n",
       "      <td>0.0</td>\n",
       "      <td>0.0</td>\n",
       "      <td>0.0</td>\n",
       "      <td>0.0</td>\n",
       "      <td>0.0</td>\n",
       "      <td>0.0</td>\n",
       "      <td>0.0</td>\n",
       "      <td>1.000000</td>\n",
       "    </tr>\n",
       "    <tr>\n",
       "      <th>62735f4801ed2520137224ce</th>\n",
       "      <td>Mentava</td>\n",
       "      <td>https://www.mentava.com</td>\n",
       "      <td>3000000.0</td>\n",
       "      <td>4.0</td>\n",
       "      <td>29981</td>\n",
       "      <td>4858411</td>\n",
       "      <td>115</td>\n",
       "      <td>322.0</td>\n",
       "      <td>NaN</td>\n",
       "      <td>NaN</td>\n",
       "      <td>...</td>\n",
       "      <td>0.000000</td>\n",
       "      <td>0.000000</td>\n",
       "      <td>0.0</td>\n",
       "      <td>0.0</td>\n",
       "      <td>0.0</td>\n",
       "      <td>0.0</td>\n",
       "      <td>0.0</td>\n",
       "      <td>0.0</td>\n",
       "      <td>0.0</td>\n",
       "      <td>0.927039</td>\n",
       "    </tr>\n",
       "    <tr>\n",
       "      <th>627100104b7ad6a07cc251f5</th>\n",
       "      <td>Design Practice</td>\n",
       "      <td>https://www.designpractice.pl</td>\n",
       "      <td>0.0</td>\n",
       "      <td>4.0</td>\n",
       "      <td>73781</td>\n",
       "      <td>1968403</td>\n",
       "      <td>2853</td>\n",
       "      <td>NaN</td>\n",
       "      <td>NaN</td>\n",
       "      <td>NaN</td>\n",
       "      <td>...</td>\n",
       "      <td>0.000000</td>\n",
       "      <td>0.000000</td>\n",
       "      <td>0.0</td>\n",
       "      <td>0.0</td>\n",
       "      <td>0.0</td>\n",
       "      <td>0.0</td>\n",
       "      <td>0.0</td>\n",
       "      <td>0.0</td>\n",
       "      <td>0.0</td>\n",
       "      <td>0.912769</td>\n",
       "    </tr>\n",
       "    <tr>\n",
       "      <th>6270ff004b7ad6a07cbd8ec0</th>\n",
       "      <td>SoulPay</td>\n",
       "      <td>https://www.soulpay.in/</td>\n",
       "      <td>0.0</td>\n",
       "      <td>24.0</td>\n",
       "      <td>2472394</td>\n",
       "      <td>81997</td>\n",
       "      <td>452</td>\n",
       "      <td>132.0</td>\n",
       "      <td>NaN</td>\n",
       "      <td>NaN</td>\n",
       "      <td>...</td>\n",
       "      <td>0.000000</td>\n",
       "      <td>0.000000</td>\n",
       "      <td>0.0</td>\n",
       "      <td>0.0</td>\n",
       "      <td>0.0</td>\n",
       "      <td>0.0</td>\n",
       "      <td>0.0</td>\n",
       "      <td>0.0</td>\n",
       "      <td>0.0</td>\n",
       "      <td>0.905598</td>\n",
       "    </tr>\n",
       "    <tr>\n",
       "      <th>5e3b9057137e998b5ae6cc7e</th>\n",
       "      <td>Tucareers</td>\n",
       "      <td>https://www.tucareers.com</td>\n",
       "      <td>0.0</td>\n",
       "      <td>3.0</td>\n",
       "      <td>50078</td>\n",
       "      <td>1933182</td>\n",
       "      <td>235</td>\n",
       "      <td>32.0</td>\n",
       "      <td>NaN</td>\n",
       "      <td>NaN</td>\n",
       "      <td>...</td>\n",
       "      <td>0.000000</td>\n",
       "      <td>0.000000</td>\n",
       "      <td>0.0</td>\n",
       "      <td>0.0</td>\n",
       "      <td>0.0</td>\n",
       "      <td>0.0</td>\n",
       "      <td>0.0</td>\n",
       "      <td>0.0</td>\n",
       "      <td>0.0</td>\n",
       "      <td>0.840858</td>\n",
       "    </tr>\n",
       "    <tr>\n",
       "      <th>...</th>\n",
       "      <td>...</td>\n",
       "      <td>...</td>\n",
       "      <td>...</td>\n",
       "      <td>...</td>\n",
       "      <td>...</td>\n",
       "      <td>...</td>\n",
       "      <td>...</td>\n",
       "      <td>...</td>\n",
       "      <td>...</td>\n",
       "      <td>...</td>\n",
       "      <td>...</td>\n",
       "      <td>...</td>\n",
       "      <td>...</td>\n",
       "      <td>...</td>\n",
       "      <td>...</td>\n",
       "      <td>...</td>\n",
       "      <td>...</td>\n",
       "      <td>...</td>\n",
       "      <td>...</td>\n",
       "      <td>...</td>\n",
       "      <td>...</td>\n",
       "    </tr>\n",
       "    <tr>\n",
       "      <th>616557faf52909a9cc9e30ce</th>\n",
       "      <td>Rowy</td>\n",
       "      <td>rowy.io</td>\n",
       "      <td>0.0</td>\n",
       "      <td>10.0</td>\n",
       "      <td>41151</td>\n",
       "      <td>1522089</td>\n",
       "      <td>603</td>\n",
       "      <td>964.0</td>\n",
       "      <td>NaN</td>\n",
       "      <td>NaN</td>\n",
       "      <td>...</td>\n",
       "      <td>0.000000</td>\n",
       "      <td>0.000000</td>\n",
       "      <td>0.0</td>\n",
       "      <td>0.0</td>\n",
       "      <td>0.0</td>\n",
       "      <td>0.0</td>\n",
       "      <td>0.0</td>\n",
       "      <td>0.0</td>\n",
       "      <td>0.0</td>\n",
       "      <td>0.544777</td>\n",
       "    </tr>\n",
       "    <tr>\n",
       "      <th>5e3b9057137e998b5ae6c917</th>\n",
       "      <td>Seibii, Inc.</td>\n",
       "      <td>https://seibii.co.jp/corporate</td>\n",
       "      <td>29500000.0</td>\n",
       "      <td>7.0</td>\n",
       "      <td>165320</td>\n",
       "      <td>956959</td>\n",
       "      <td>27</td>\n",
       "      <td>2243.0</td>\n",
       "      <td>NaN</td>\n",
       "      <td>NaN</td>\n",
       "      <td>...</td>\n",
       "      <td>0.000000</td>\n",
       "      <td>0.000000</td>\n",
       "      <td>0.0</td>\n",
       "      <td>0.0</td>\n",
       "      <td>0.0</td>\n",
       "      <td>0.0</td>\n",
       "      <td>0.0</td>\n",
       "      <td>0.0</td>\n",
       "      <td>0.0</td>\n",
       "      <td>0.542593</td>\n",
       "    </tr>\n",
       "    <tr>\n",
       "      <th>5fc74423bf7e53924df707e9</th>\n",
       "      <td>KVINT</td>\n",
       "      <td>https://kvint.io/</td>\n",
       "      <td>100000.0</td>\n",
       "      <td>28.0</td>\n",
       "      <td>18291</td>\n",
       "      <td>115501</td>\n",
       "      <td>67</td>\n",
       "      <td>2.0</td>\n",
       "      <td>103.0</td>\n",
       "      <td>NaN</td>\n",
       "      <td>...</td>\n",
       "      <td>-0.019417</td>\n",
       "      <td>-0.005548</td>\n",
       "      <td>0.0</td>\n",
       "      <td>0.0</td>\n",
       "      <td>0.0</td>\n",
       "      <td>0.0</td>\n",
       "      <td>0.0</td>\n",
       "      <td>0.0</td>\n",
       "      <td>0.0</td>\n",
       "      <td>0.541674</td>\n",
       "    </tr>\n",
       "    <tr>\n",
       "      <th>609015e4db60992662c46d95</th>\n",
       "      <td>QuoteBeam</td>\n",
       "      <td>https://quotebeam.com/</td>\n",
       "      <td>3570000.0</td>\n",
       "      <td>7.0</td>\n",
       "      <td>7421</td>\n",
       "      <td>3727393</td>\n",
       "      <td>2493</td>\n",
       "      <td>25.0</td>\n",
       "      <td>NaN</td>\n",
       "      <td>NaN</td>\n",
       "      <td>...</td>\n",
       "      <td>0.000000</td>\n",
       "      <td>0.000000</td>\n",
       "      <td>0.0</td>\n",
       "      <td>0.0</td>\n",
       "      <td>0.0</td>\n",
       "      <td>0.0</td>\n",
       "      <td>0.0</td>\n",
       "      <td>0.0</td>\n",
       "      <td>0.0</td>\n",
       "      <td>0.541430</td>\n",
       "    </tr>\n",
       "    <tr>\n",
       "      <th>621f972d972ef7e5d69c2340</th>\n",
       "      <td>Take App</td>\n",
       "      <td>https://take.app</td>\n",
       "      <td>1025000.0</td>\n",
       "      <td>6.0</td>\n",
       "      <td>202900</td>\n",
       "      <td>598491</td>\n",
       "      <td>739</td>\n",
       "      <td>2.0</td>\n",
       "      <td>NaN</td>\n",
       "      <td>NaN</td>\n",
       "      <td>...</td>\n",
       "      <td>0.000000</td>\n",
       "      <td>0.000000</td>\n",
       "      <td>0.0</td>\n",
       "      <td>0.0</td>\n",
       "      <td>0.0</td>\n",
       "      <td>0.0</td>\n",
       "      <td>0.0</td>\n",
       "      <td>0.0</td>\n",
       "      <td>0.0</td>\n",
       "      <td>0.541096</td>\n",
       "    </tr>\n",
       "  </tbody>\n",
       "</table>\n",
       "<p>100 rows × 60 columns</p>\n",
       "</div>"
      ],
      "text/plain": [
       "                             Company Name                         Website  \\\n",
       "Specter - ID                                                                \n",
       "624b27ade4e2dbb8bd31f978       HealthBird     https://www.healthbird.com/   \n",
       "62735f4801ed2520137224ce          Mentava         https://www.mentava.com   \n",
       "627100104b7ad6a07cc251f5  Design Practice   https://www.designpractice.pl   \n",
       "6270ff004b7ad6a07cbd8ec0          SoulPay         https://www.soulpay.in/   \n",
       "5e3b9057137e998b5ae6cc7e        Tucareers       https://www.tucareers.com   \n",
       "...                                   ...                             ...   \n",
       "616557faf52909a9cc9e30ce             Rowy                         rowy.io   \n",
       "5e3b9057137e998b5ae6c917     Seibii, Inc.  https://seibii.co.jp/corporate   \n",
       "5fc74423bf7e53924df707e9            KVINT               https://kvint.io/   \n",
       "609015e4db60992662c46d95        QuoteBeam          https://quotebeam.com/   \n",
       "621f972d972ef7e5d69c2340         Take App                https://take.app   \n",
       "\n",
       "                          Total Funding Amount (in USD)  Employee Count  \\\n",
       "Specter - ID                                                              \n",
       "624b27ade4e2dbb8bd31f978                      1600000.0            12.0   \n",
       "62735f4801ed2520137224ce                      3000000.0             4.0   \n",
       "627100104b7ad6a07cc251f5                            0.0             4.0   \n",
       "6270ff004b7ad6a07cbd8ec0                            0.0            24.0   \n",
       "5e3b9057137e998b5ae6cc7e                            0.0             3.0   \n",
       "...                                                 ...             ...   \n",
       "616557faf52909a9cc9e30ce                            0.0            10.0   \n",
       "5e3b9057137e998b5ae6c917                     29500000.0             7.0   \n",
       "5fc74423bf7e53924df707e9                       100000.0            28.0   \n",
       "609015e4db60992662c46d95                      3570000.0             7.0   \n",
       "621f972d972ef7e5d69c2340                      1025000.0             6.0   \n",
       "\n",
       "                          Web Visits  Website Popularity Rank  \\\n",
       "Specter - ID                                                    \n",
       "624b27ade4e2dbb8bd31f978       42707                  1624776   \n",
       "62735f4801ed2520137224ce       29981                  4858411   \n",
       "627100104b7ad6a07cc251f5       73781                  1968403   \n",
       "6270ff004b7ad6a07cbd8ec0     2472394                    81997   \n",
       "5e3b9057137e998b5ae6cc7e       50078                  1933182   \n",
       "...                              ...                      ...   \n",
       "616557faf52909a9cc9e30ce       41151                  1522089   \n",
       "5e3b9057137e998b5ae6c917      165320                   956959   \n",
       "5fc74423bf7e53924df707e9       18291                   115501   \n",
       "609015e4db60992662c46d95        7421                  3727393   \n",
       "621f972d972ef7e5d69c2340      202900                   598491   \n",
       "\n",
       "                          LinkedIn - Followers  Twitter - Followers  \\\n",
       "Specter - ID                                                          \n",
       "624b27ade4e2dbb8bd31f978                   241                  NaN   \n",
       "62735f4801ed2520137224ce                   115                322.0   \n",
       "627100104b7ad6a07cc251f5                  2853                  NaN   \n",
       "6270ff004b7ad6a07cbd8ec0                   452                132.0   \n",
       "5e3b9057137e998b5ae6cc7e                   235                 32.0   \n",
       "...                                        ...                  ...   \n",
       "616557faf52909a9cc9e30ce                   603                964.0   \n",
       "5e3b9057137e998b5ae6c917                    27               2243.0   \n",
       "5fc74423bf7e53924df707e9                    67                  2.0   \n",
       "609015e4db60992662c46d95                  2493                 25.0   \n",
       "621f972d972ef7e5d69c2340                   739                  2.0   \n",
       "\n",
       "                          Instagram - Followers  Total App Downloads  ...  \\\n",
       "Specter - ID                                                          ...   \n",
       "624b27ade4e2dbb8bd31f978                    NaN                  NaN  ...   \n",
       "62735f4801ed2520137224ce                    NaN                  NaN  ...   \n",
       "627100104b7ad6a07cc251f5                    NaN                  NaN  ...   \n",
       "6270ff004b7ad6a07cbd8ec0                    NaN                  NaN  ...   \n",
       "5e3b9057137e998b5ae6cc7e                    NaN                  NaN  ...   \n",
       "...                                         ...                  ...  ...   \n",
       "616557faf52909a9cc9e30ce                    NaN                  NaN  ...   \n",
       "5e3b9057137e998b5ae6c917                    NaN                  NaN  ...   \n",
       "5fc74423bf7e53924df707e9                  103.0                  NaN  ...   \n",
       "609015e4db60992662c46d95                    NaN                  NaN  ...   \n",
       "621f972d972ef7e5d69c2340                    NaN                  NaN  ...   \n",
       "\n",
       "                          Instagram - 6 Months Followers Growth  \\\n",
       "Specter - ID                                                      \n",
       "624b27ade4e2dbb8bd31f978                               0.000000   \n",
       "62735f4801ed2520137224ce                               0.000000   \n",
       "627100104b7ad6a07cc251f5                               0.000000   \n",
       "6270ff004b7ad6a07cbd8ec0                               0.000000   \n",
       "5e3b9057137e998b5ae6cc7e                               0.000000   \n",
       "...                                                         ...   \n",
       "616557faf52909a9cc9e30ce                               0.000000   \n",
       "5e3b9057137e998b5ae6c917                               0.000000   \n",
       "5fc74423bf7e53924df707e9                              -0.019417   \n",
       "609015e4db60992662c46d95                               0.000000   \n",
       "621f972d972ef7e5d69c2340                               0.000000   \n",
       "\n",
       "                          instagram_followers_slope  \\\n",
       "Specter - ID                                          \n",
       "624b27ade4e2dbb8bd31f978                   0.000000   \n",
       "62735f4801ed2520137224ce                   0.000000   \n",
       "627100104b7ad6a07cc251f5                   0.000000   \n",
       "6270ff004b7ad6a07cbd8ec0                   0.000000   \n",
       "5e3b9057137e998b5ae6cc7e                   0.000000   \n",
       "...                                             ...   \n",
       "616557faf52909a9cc9e30ce                   0.000000   \n",
       "5e3b9057137e998b5ae6c917                   0.000000   \n",
       "5fc74423bf7e53924df707e9                  -0.005548   \n",
       "609015e4db60992662c46d95                   0.000000   \n",
       "621f972d972ef7e5d69c2340                   0.000000   \n",
       "\n",
       "                          Total App Downloads - Monthly Growth  \\\n",
       "Specter - ID                                                     \n",
       "624b27ade4e2dbb8bd31f978                                   0.0   \n",
       "62735f4801ed2520137224ce                                   0.0   \n",
       "627100104b7ad6a07cc251f5                                   0.0   \n",
       "6270ff004b7ad6a07cbd8ec0                                   0.0   \n",
       "5e3b9057137e998b5ae6cc7e                                   0.0   \n",
       "...                                                        ...   \n",
       "616557faf52909a9cc9e30ce                                   0.0   \n",
       "5e3b9057137e998b5ae6c917                                   0.0   \n",
       "5fc74423bf7e53924df707e9                                   0.0   \n",
       "609015e4db60992662c46d95                                   0.0   \n",
       "621f972d972ef7e5d69c2340                                   0.0   \n",
       "\n",
       "                          Total App Downloads - 2 Months Growth  \\\n",
       "Specter - ID                                                      \n",
       "624b27ade4e2dbb8bd31f978                                    0.0   \n",
       "62735f4801ed2520137224ce                                    0.0   \n",
       "627100104b7ad6a07cc251f5                                    0.0   \n",
       "6270ff004b7ad6a07cbd8ec0                                    0.0   \n",
       "5e3b9057137e998b5ae6cc7e                                    0.0   \n",
       "...                                                         ...   \n",
       "616557faf52909a9cc9e30ce                                    0.0   \n",
       "5e3b9057137e998b5ae6c917                                    0.0   \n",
       "5fc74423bf7e53924df707e9                                    0.0   \n",
       "609015e4db60992662c46d95                                    0.0   \n",
       "621f972d972ef7e5d69c2340                                    0.0   \n",
       "\n",
       "                          Total App Downloads - 3 Months Growth  \\\n",
       "Specter - ID                                                      \n",
       "624b27ade4e2dbb8bd31f978                                    0.0   \n",
       "62735f4801ed2520137224ce                                    0.0   \n",
       "627100104b7ad6a07cc251f5                                    0.0   \n",
       "6270ff004b7ad6a07cbd8ec0                                    0.0   \n",
       "5e3b9057137e998b5ae6cc7e                                    0.0   \n",
       "...                                                         ...   \n",
       "616557faf52909a9cc9e30ce                                    0.0   \n",
       "5e3b9057137e998b5ae6c917                                    0.0   \n",
       "5fc74423bf7e53924df707e9                                    0.0   \n",
       "609015e4db60992662c46d95                                    0.0   \n",
       "621f972d972ef7e5d69c2340                                    0.0   \n",
       "\n",
       "                          Total App Downloads - 4 Months Growth  \\\n",
       "Specter - ID                                                      \n",
       "624b27ade4e2dbb8bd31f978                                    0.0   \n",
       "62735f4801ed2520137224ce                                    0.0   \n",
       "627100104b7ad6a07cc251f5                                    0.0   \n",
       "6270ff004b7ad6a07cbd8ec0                                    0.0   \n",
       "5e3b9057137e998b5ae6cc7e                                    0.0   \n",
       "...                                                         ...   \n",
       "616557faf52909a9cc9e30ce                                    0.0   \n",
       "5e3b9057137e998b5ae6c917                                    0.0   \n",
       "5fc74423bf7e53924df707e9                                    0.0   \n",
       "609015e4db60992662c46d95                                    0.0   \n",
       "621f972d972ef7e5d69c2340                                    0.0   \n",
       "\n",
       "                          Total App Downloads - 5 Months Growth  \\\n",
       "Specter - ID                                                      \n",
       "624b27ade4e2dbb8bd31f978                                    0.0   \n",
       "62735f4801ed2520137224ce                                    0.0   \n",
       "627100104b7ad6a07cc251f5                                    0.0   \n",
       "6270ff004b7ad6a07cbd8ec0                                    0.0   \n",
       "5e3b9057137e998b5ae6cc7e                                    0.0   \n",
       "...                                                         ...   \n",
       "616557faf52909a9cc9e30ce                                    0.0   \n",
       "5e3b9057137e998b5ae6c917                                    0.0   \n",
       "5fc74423bf7e53924df707e9                                    0.0   \n",
       "609015e4db60992662c46d95                                    0.0   \n",
       "621f972d972ef7e5d69c2340                                    0.0   \n",
       "\n",
       "                          Total App Downloads - 6 Months Growth  \\\n",
       "Specter - ID                                                      \n",
       "624b27ade4e2dbb8bd31f978                                    0.0   \n",
       "62735f4801ed2520137224ce                                    0.0   \n",
       "627100104b7ad6a07cc251f5                                    0.0   \n",
       "6270ff004b7ad6a07cbd8ec0                                    0.0   \n",
       "5e3b9057137e998b5ae6cc7e                                    0.0   \n",
       "...                                                         ...   \n",
       "616557faf52909a9cc9e30ce                                    0.0   \n",
       "5e3b9057137e998b5ae6c917                                    0.0   \n",
       "5fc74423bf7e53924df707e9                                    0.0   \n",
       "609015e4db60992662c46d95                                    0.0   \n",
       "621f972d972ef7e5d69c2340                                    0.0   \n",
       "\n",
       "                          app_downloads_slope  growth_kpi  \n",
       "Specter - ID                                               \n",
       "624b27ade4e2dbb8bd31f978                  0.0    1.000000  \n",
       "62735f4801ed2520137224ce                  0.0    0.927039  \n",
       "627100104b7ad6a07cc251f5                  0.0    0.912769  \n",
       "6270ff004b7ad6a07cbd8ec0                  0.0    0.905598  \n",
       "5e3b9057137e998b5ae6cc7e                  0.0    0.840858  \n",
       "...                                       ...         ...  \n",
       "616557faf52909a9cc9e30ce                  0.0    0.544777  \n",
       "5e3b9057137e998b5ae6c917                  0.0    0.542593  \n",
       "5fc74423bf7e53924df707e9                  0.0    0.541674  \n",
       "609015e4db60992662c46d95                  0.0    0.541430  \n",
       "621f972d972ef7e5d69c2340                  0.0    0.541096  \n",
       "\n",
       "[100 rows x 60 columns]"
      ]
     },
     "execution_count": 3,
     "metadata": {},
     "output_type": "execute_result"
    }
   ],
   "source": [
    "processed_data"
   ]
  },
  {
   "cell_type": "code",
   "execution_count": 6,
   "metadata": {},
   "outputs": [
    {
     "data": {
      "text/html": [
       "<div>\n",
       "<style scoped>\n",
       "    .dataframe tbody tr th:only-of-type {\n",
       "        vertical-align: middle;\n",
       "    }\n",
       "\n",
       "    .dataframe tbody tr th {\n",
       "        vertical-align: top;\n",
       "    }\n",
       "\n",
       "    .dataframe thead th {\n",
       "        text-align: right;\n",
       "    }\n",
       "</style>\n",
       "<table border=\"1\" class=\"dataframe\">\n",
       "  <thead>\n",
       "    <tr style=\"text-align: right;\">\n",
       "      <th>Specter - ID</th>\n",
       "      <th>624b27ade4e2dbb8bd31f978</th>\n",
       "      <th>62735f4801ed2520137224ce</th>\n",
       "      <th>627100104b7ad6a07cc251f5</th>\n",
       "      <th>6270ff004b7ad6a07cbd8ec0</th>\n",
       "      <th>5e3b9057137e998b5ae6cc7e</th>\n",
       "      <th>61fcf5e362adc22ead73101f</th>\n",
       "      <th>5ebcdac5332603f591de8a88</th>\n",
       "      <th>629cc201cf28682e15f5aec8</th>\n",
       "      <th>601c18f94ddab8d8bff584b8</th>\n",
       "      <th>6270ff144b7ad6a07cbde14d</th>\n",
       "    </tr>\n",
       "  </thead>\n",
       "  <tbody>\n",
       "    <tr>\n",
       "      <th>Employees - Monthly Growth</th>\n",
       "      <td>2.777500</td>\n",
       "      <td>0.0000</td>\n",
       "      <td>0.0</td>\n",
       "      <td>1.388750</td>\n",
       "      <td>0.000000</td>\n",
       "      <td>16.666667</td>\n",
       "      <td>8.3325</td>\n",
       "      <td>0.367647</td>\n",
       "      <td>2.381429</td>\n",
       "      <td>0.0</td>\n",
       "    </tr>\n",
       "    <tr>\n",
       "      <th>Employees - 2 Months Growth</th>\n",
       "      <td>4.166667</td>\n",
       "      <td>0.0000</td>\n",
       "      <td>0.0</td>\n",
       "      <td>2.083333</td>\n",
       "      <td>0.000000</td>\n",
       "      <td>16.666667</td>\n",
       "      <td>25.0000</td>\n",
       "      <td>1.260588</td>\n",
       "      <td>0.000000</td>\n",
       "      <td>0.0</td>\n",
       "    </tr>\n",
       "    <tr>\n",
       "      <th>Employees - 3 Months Growth</th>\n",
       "      <td>25.000000</td>\n",
       "      <td>8.3325</td>\n",
       "      <td>25.0</td>\n",
       "      <td>3.525833</td>\n",
       "      <td>0.000000</td>\n",
       "      <td>33.333333</td>\n",
       "      <td>25.0000</td>\n",
       "      <td>2.451176</td>\n",
       "      <td>2.381429</td>\n",
       "      <td>0.0</td>\n",
       "    </tr>\n",
       "    <tr>\n",
       "      <th>Employees - 4 Months Growth</th>\n",
       "      <td>91.666667</td>\n",
       "      <td>75.0000</td>\n",
       "      <td>75.0</td>\n",
       "      <td>15.833333</td>\n",
       "      <td>16.666667</td>\n",
       "      <td>33.333333</td>\n",
       "      <td>75.0000</td>\n",
       "      <td>4.117647</td>\n",
       "      <td>5.714286</td>\n",
       "      <td>50.0</td>\n",
       "    </tr>\n",
       "    <tr>\n",
       "      <th>Employees - 5 Months Growth</th>\n",
       "      <td>91.666667</td>\n",
       "      <td>75.0000</td>\n",
       "      <td>75.0</td>\n",
       "      <td>20.833333</td>\n",
       "      <td>66.666667</td>\n",
       "      <td>83.333333</td>\n",
       "      <td>75.0000</td>\n",
       "      <td>5.228824</td>\n",
       "      <td>19.047143</td>\n",
       "      <td>50.0</td>\n",
       "    </tr>\n",
       "    <tr>\n",
       "      <th>Employees - 6 Months Growth</th>\n",
       "      <td>91.666667</td>\n",
       "      <td>75.0000</td>\n",
       "      <td>75.0</td>\n",
       "      <td>45.833333</td>\n",
       "      <td>66.666667</td>\n",
       "      <td>83.333333</td>\n",
       "      <td>75.0000</td>\n",
       "      <td>94.117647</td>\n",
       "      <td>85.714286</td>\n",
       "      <td>50.0</td>\n",
       "    </tr>\n",
       "  </tbody>\n",
       "</table>\n",
       "</div>"
      ],
      "text/plain": [
       "Specter - ID                 624b27ade4e2dbb8bd31f978  \\\n",
       "Employees - Monthly Growth                   2.777500   \n",
       "Employees - 2 Months Growth                  4.166667   \n",
       "Employees - 3 Months Growth                 25.000000   \n",
       "Employees - 4 Months Growth                 91.666667   \n",
       "Employees - 5 Months Growth                 91.666667   \n",
       "Employees - 6 Months Growth                 91.666667   \n",
       "\n",
       "Specter - ID                 62735f4801ed2520137224ce  \\\n",
       "Employees - Monthly Growth                     0.0000   \n",
       "Employees - 2 Months Growth                    0.0000   \n",
       "Employees - 3 Months Growth                    8.3325   \n",
       "Employees - 4 Months Growth                   75.0000   \n",
       "Employees - 5 Months Growth                   75.0000   \n",
       "Employees - 6 Months Growth                   75.0000   \n",
       "\n",
       "Specter - ID                 627100104b7ad6a07cc251f5  \\\n",
       "Employees - Monthly Growth                        0.0   \n",
       "Employees - 2 Months Growth                       0.0   \n",
       "Employees - 3 Months Growth                      25.0   \n",
       "Employees - 4 Months Growth                      75.0   \n",
       "Employees - 5 Months Growth                      75.0   \n",
       "Employees - 6 Months Growth                      75.0   \n",
       "\n",
       "Specter - ID                 6270ff004b7ad6a07cbd8ec0  \\\n",
       "Employees - Monthly Growth                   1.388750   \n",
       "Employees - 2 Months Growth                  2.083333   \n",
       "Employees - 3 Months Growth                  3.525833   \n",
       "Employees - 4 Months Growth                 15.833333   \n",
       "Employees - 5 Months Growth                 20.833333   \n",
       "Employees - 6 Months Growth                 45.833333   \n",
       "\n",
       "Specter - ID                 5e3b9057137e998b5ae6cc7e  \\\n",
       "Employees - Monthly Growth                   0.000000   \n",
       "Employees - 2 Months Growth                  0.000000   \n",
       "Employees - 3 Months Growth                  0.000000   \n",
       "Employees - 4 Months Growth                 16.666667   \n",
       "Employees - 5 Months Growth                 66.666667   \n",
       "Employees - 6 Months Growth                 66.666667   \n",
       "\n",
       "Specter - ID                 61fcf5e362adc22ead73101f  \\\n",
       "Employees - Monthly Growth                  16.666667   \n",
       "Employees - 2 Months Growth                 16.666667   \n",
       "Employees - 3 Months Growth                 33.333333   \n",
       "Employees - 4 Months Growth                 33.333333   \n",
       "Employees - 5 Months Growth                 83.333333   \n",
       "Employees - 6 Months Growth                 83.333333   \n",
       "\n",
       "Specter - ID                 5ebcdac5332603f591de8a88  \\\n",
       "Employees - Monthly Growth                     8.3325   \n",
       "Employees - 2 Months Growth                   25.0000   \n",
       "Employees - 3 Months Growth                   25.0000   \n",
       "Employees - 4 Months Growth                   75.0000   \n",
       "Employees - 5 Months Growth                   75.0000   \n",
       "Employees - 6 Months Growth                   75.0000   \n",
       "\n",
       "Specter - ID                 629cc201cf28682e15f5aec8  \\\n",
       "Employees - Monthly Growth                   0.367647   \n",
       "Employees - 2 Months Growth                  1.260588   \n",
       "Employees - 3 Months Growth                  2.451176   \n",
       "Employees - 4 Months Growth                  4.117647   \n",
       "Employees - 5 Months Growth                  5.228824   \n",
       "Employees - 6 Months Growth                 94.117647   \n",
       "\n",
       "Specter - ID                 601c18f94ddab8d8bff584b8  \\\n",
       "Employees - Monthly Growth                   2.381429   \n",
       "Employees - 2 Months Growth                  0.000000   \n",
       "Employees - 3 Months Growth                  2.381429   \n",
       "Employees - 4 Months Growth                  5.714286   \n",
       "Employees - 5 Months Growth                 19.047143   \n",
       "Employees - 6 Months Growth                 85.714286   \n",
       "\n",
       "Specter - ID                 6270ff144b7ad6a07cbde14d  \n",
       "Employees - Monthly Growth                        0.0  \n",
       "Employees - 2 Months Growth                       0.0  \n",
       "Employees - 3 Months Growth                       0.0  \n",
       "Employees - 4 Months Growth                      50.0  \n",
       "Employees - 5 Months Growth                      50.0  \n",
       "Employees - 6 Months Growth                      50.0  "
      ]
     },
     "execution_count": 6,
     "metadata": {},
     "output_type": "execute_result"
    }
   ],
   "source": [
    "metric = 'employees'\n",
    "processed_data[settings.GROWTH_METRICS[metric][\"growth\"]].head(10).T"
   ]
  },
  {
   "cell_type": "code",
   "execution_count": 10,
   "metadata": {},
   "outputs": [
    {
     "data": {
      "application/vnd.plotly.v1+json": {
       "config": {
        "plotlyServerURL": "https://plot.ly"
       },
       "data": [
        {
         "hovertemplate": "Specter - ID=624b27ade4e2dbb8bd31f978<br>index=%{x}<br>value=%{y}<extra></extra>",
         "legendgroup": "624b27ade4e2dbb8bd31f978",
         "line": {
          "color": "#636efa",
          "dash": "solid"
         },
         "marker": {
          "symbol": "circle"
         },
         "mode": "lines",
         "name": "624b27ade4e2dbb8bd31f978",
         "orientation": "v",
         "showlegend": true,
         "type": "scatter",
         "x": [
          1,
          2,
          3,
          4,
          5,
          6
         ],
         "xaxis": "x",
         "y": [
          2.7775,
          4.166666666666667,
          25,
          91.66666666666667,
          91.66666666666667,
          91.66666666666667
         ],
         "yaxis": "y"
        },
        {
         "hovertemplate": "Specter - ID=62735f4801ed2520137224ce<br>index=%{x}<br>value=%{y}<extra></extra>",
         "legendgroup": "62735f4801ed2520137224ce",
         "line": {
          "color": "#EF553B",
          "dash": "solid"
         },
         "marker": {
          "symbol": "circle"
         },
         "mode": "lines",
         "name": "62735f4801ed2520137224ce",
         "orientation": "v",
         "showlegend": true,
         "type": "scatter",
         "x": [
          1,
          2,
          3,
          4,
          5,
          6
         ],
         "xaxis": "x",
         "y": [
          0,
          0,
          8.3325,
          75,
          75,
          75
         ],
         "yaxis": "y"
        },
        {
         "hovertemplate": "Specter - ID=627100104b7ad6a07cc251f5<br>index=%{x}<br>value=%{y}<extra></extra>",
         "legendgroup": "627100104b7ad6a07cc251f5",
         "line": {
          "color": "#00cc96",
          "dash": "solid"
         },
         "marker": {
          "symbol": "circle"
         },
         "mode": "lines",
         "name": "627100104b7ad6a07cc251f5",
         "orientation": "v",
         "showlegend": true,
         "type": "scatter",
         "x": [
          1,
          2,
          3,
          4,
          5,
          6
         ],
         "xaxis": "x",
         "y": [
          0,
          0,
          25,
          75,
          75,
          75
         ],
         "yaxis": "y"
        },
        {
         "hovertemplate": "Specter - ID=6270ff004b7ad6a07cbd8ec0<br>index=%{x}<br>value=%{y}<extra></extra>",
         "legendgroup": "6270ff004b7ad6a07cbd8ec0",
         "line": {
          "color": "#ab63fa",
          "dash": "solid"
         },
         "marker": {
          "symbol": "circle"
         },
         "mode": "lines",
         "name": "6270ff004b7ad6a07cbd8ec0",
         "orientation": "v",
         "showlegend": true,
         "type": "scatter",
         "x": [
          1,
          2,
          3,
          4,
          5,
          6
         ],
         "xaxis": "x",
         "y": [
          1.38875,
          2.0833333333333335,
          3.5258333333333334,
          15.833333333333334,
          20.833333333333332,
          45.833333333333336
         ],
         "yaxis": "y"
        },
        {
         "hovertemplate": "Specter - ID=5e3b9057137e998b5ae6cc7e<br>index=%{x}<br>value=%{y}<extra></extra>",
         "legendgroup": "5e3b9057137e998b5ae6cc7e",
         "line": {
          "color": "#FFA15A",
          "dash": "solid"
         },
         "marker": {
          "symbol": "circle"
         },
         "mode": "lines",
         "name": "5e3b9057137e998b5ae6cc7e",
         "orientation": "v",
         "showlegend": true,
         "type": "scatter",
         "x": [
          1,
          2,
          3,
          4,
          5,
          6
         ],
         "xaxis": "x",
         "y": [
          0,
          0,
          0,
          16.666666666666668,
          66.66666666666667,
          66.66666666666667
         ],
         "yaxis": "y"
        },
        {
         "hovertemplate": "Specter - ID=61fcf5e362adc22ead73101f<br>index=%{x}<br>value=%{y}<extra></extra>",
         "legendgroup": "61fcf5e362adc22ead73101f",
         "line": {
          "color": "#19d3f3",
          "dash": "solid"
         },
         "marker": {
          "symbol": "circle"
         },
         "mode": "lines",
         "name": "61fcf5e362adc22ead73101f",
         "orientation": "v",
         "showlegend": true,
         "type": "scatter",
         "x": [
          1,
          2,
          3,
          4,
          5,
          6
         ],
         "xaxis": "x",
         "y": [
          16.666666666666668,
          16.666666666666668,
          33.333333333333336,
          33.333333333333336,
          83.33333333333333,
          83.33333333333333
         ],
         "yaxis": "y"
        },
        {
         "hovertemplate": "Specter - ID=5ebcdac5332603f591de8a88<br>index=%{x}<br>value=%{y}<extra></extra>",
         "legendgroup": "5ebcdac5332603f591de8a88",
         "line": {
          "color": "#FF6692",
          "dash": "solid"
         },
         "marker": {
          "symbol": "circle"
         },
         "mode": "lines",
         "name": "5ebcdac5332603f591de8a88",
         "orientation": "v",
         "showlegend": true,
         "type": "scatter",
         "x": [
          1,
          2,
          3,
          4,
          5,
          6
         ],
         "xaxis": "x",
         "y": [
          8.3325,
          25,
          25,
          75,
          75,
          75
         ],
         "yaxis": "y"
        },
        {
         "hovertemplate": "Specter - ID=629cc201cf28682e15f5aec8<br>index=%{x}<br>value=%{y}<extra></extra>",
         "legendgroup": "629cc201cf28682e15f5aec8",
         "line": {
          "color": "#B6E880",
          "dash": "solid"
         },
         "marker": {
          "symbol": "circle"
         },
         "mode": "lines",
         "name": "629cc201cf28682e15f5aec8",
         "orientation": "v",
         "showlegend": true,
         "type": "scatter",
         "x": [
          1,
          2,
          3,
          4,
          5,
          6
         ],
         "xaxis": "x",
         "y": [
          0.36764705882352944,
          1.2605882352941176,
          2.4511764705882353,
          4.117647058823529,
          5.228823529411764,
          94.11764705882354
         ],
         "yaxis": "y"
        },
        {
         "hovertemplate": "Specter - ID=601c18f94ddab8d8bff584b8<br>index=%{x}<br>value=%{y}<extra></extra>",
         "legendgroup": "601c18f94ddab8d8bff584b8",
         "line": {
          "color": "#FF97FF",
          "dash": "solid"
         },
         "marker": {
          "symbol": "circle"
         },
         "mode": "lines",
         "name": "601c18f94ddab8d8bff584b8",
         "orientation": "v",
         "showlegend": true,
         "type": "scatter",
         "x": [
          1,
          2,
          3,
          4,
          5,
          6
         ],
         "xaxis": "x",
         "y": [
          2.3814285714285717,
          0,
          2.3814285714285717,
          5.714285714285714,
          19.04714285714286,
          85.71428571428571
         ],
         "yaxis": "y"
        },
        {
         "hovertemplate": "Specter - ID=6270ff144b7ad6a07cbde14d<br>index=%{x}<br>value=%{y}<extra></extra>",
         "legendgroup": "6270ff144b7ad6a07cbde14d",
         "line": {
          "color": "#FECB52",
          "dash": "solid"
         },
         "marker": {
          "symbol": "circle"
         },
         "mode": "lines",
         "name": "6270ff144b7ad6a07cbde14d",
         "orientation": "v",
         "showlegend": true,
         "type": "scatter",
         "x": [
          1,
          2,
          3,
          4,
          5,
          6
         ],
         "xaxis": "x",
         "y": [
          0,
          0,
          0,
          50,
          50,
          50
         ],
         "yaxis": "y"
        }
       ],
       "layout": {
        "legend": {
         "title": {
          "text": "Specter - ID"
         },
         "tracegroupgap": 0
        },
        "template": {
         "data": {
          "bar": [
           {
            "error_x": {
             "color": "#2a3f5f"
            },
            "error_y": {
             "color": "#2a3f5f"
            },
            "marker": {
             "line": {
              "color": "#E5ECF6",
              "width": 0.5
             },
             "pattern": {
              "fillmode": "overlay",
              "size": 10,
              "solidity": 0.2
             }
            },
            "type": "bar"
           }
          ],
          "barpolar": [
           {
            "marker": {
             "line": {
              "color": "#E5ECF6",
              "width": 0.5
             },
             "pattern": {
              "fillmode": "overlay",
              "size": 10,
              "solidity": 0.2
             }
            },
            "type": "barpolar"
           }
          ],
          "carpet": [
           {
            "aaxis": {
             "endlinecolor": "#2a3f5f",
             "gridcolor": "white",
             "linecolor": "white",
             "minorgridcolor": "white",
             "startlinecolor": "#2a3f5f"
            },
            "baxis": {
             "endlinecolor": "#2a3f5f",
             "gridcolor": "white",
             "linecolor": "white",
             "minorgridcolor": "white",
             "startlinecolor": "#2a3f5f"
            },
            "type": "carpet"
           }
          ],
          "choropleth": [
           {
            "colorbar": {
             "outlinewidth": 0,
             "ticks": ""
            },
            "type": "choropleth"
           }
          ],
          "contour": [
           {
            "colorbar": {
             "outlinewidth": 0,
             "ticks": ""
            },
            "colorscale": [
             [
              0,
              "#0d0887"
             ],
             [
              0.1111111111111111,
              "#46039f"
             ],
             [
              0.2222222222222222,
              "#7201a8"
             ],
             [
              0.3333333333333333,
              "#9c179e"
             ],
             [
              0.4444444444444444,
              "#bd3786"
             ],
             [
              0.5555555555555556,
              "#d8576b"
             ],
             [
              0.6666666666666666,
              "#ed7953"
             ],
             [
              0.7777777777777778,
              "#fb9f3a"
             ],
             [
              0.8888888888888888,
              "#fdca26"
             ],
             [
              1,
              "#f0f921"
             ]
            ],
            "type": "contour"
           }
          ],
          "contourcarpet": [
           {
            "colorbar": {
             "outlinewidth": 0,
             "ticks": ""
            },
            "type": "contourcarpet"
           }
          ],
          "heatmap": [
           {
            "colorbar": {
             "outlinewidth": 0,
             "ticks": ""
            },
            "colorscale": [
             [
              0,
              "#0d0887"
             ],
             [
              0.1111111111111111,
              "#46039f"
             ],
             [
              0.2222222222222222,
              "#7201a8"
             ],
             [
              0.3333333333333333,
              "#9c179e"
             ],
             [
              0.4444444444444444,
              "#bd3786"
             ],
             [
              0.5555555555555556,
              "#d8576b"
             ],
             [
              0.6666666666666666,
              "#ed7953"
             ],
             [
              0.7777777777777778,
              "#fb9f3a"
             ],
             [
              0.8888888888888888,
              "#fdca26"
             ],
             [
              1,
              "#f0f921"
             ]
            ],
            "type": "heatmap"
           }
          ],
          "heatmapgl": [
           {
            "colorbar": {
             "outlinewidth": 0,
             "ticks": ""
            },
            "colorscale": [
             [
              0,
              "#0d0887"
             ],
             [
              0.1111111111111111,
              "#46039f"
             ],
             [
              0.2222222222222222,
              "#7201a8"
             ],
             [
              0.3333333333333333,
              "#9c179e"
             ],
             [
              0.4444444444444444,
              "#bd3786"
             ],
             [
              0.5555555555555556,
              "#d8576b"
             ],
             [
              0.6666666666666666,
              "#ed7953"
             ],
             [
              0.7777777777777778,
              "#fb9f3a"
             ],
             [
              0.8888888888888888,
              "#fdca26"
             ],
             [
              1,
              "#f0f921"
             ]
            ],
            "type": "heatmapgl"
           }
          ],
          "histogram": [
           {
            "marker": {
             "pattern": {
              "fillmode": "overlay",
              "size": 10,
              "solidity": 0.2
             }
            },
            "type": "histogram"
           }
          ],
          "histogram2d": [
           {
            "colorbar": {
             "outlinewidth": 0,
             "ticks": ""
            },
            "colorscale": [
             [
              0,
              "#0d0887"
             ],
             [
              0.1111111111111111,
              "#46039f"
             ],
             [
              0.2222222222222222,
              "#7201a8"
             ],
             [
              0.3333333333333333,
              "#9c179e"
             ],
             [
              0.4444444444444444,
              "#bd3786"
             ],
             [
              0.5555555555555556,
              "#d8576b"
             ],
             [
              0.6666666666666666,
              "#ed7953"
             ],
             [
              0.7777777777777778,
              "#fb9f3a"
             ],
             [
              0.8888888888888888,
              "#fdca26"
             ],
             [
              1,
              "#f0f921"
             ]
            ],
            "type": "histogram2d"
           }
          ],
          "histogram2dcontour": [
           {
            "colorbar": {
             "outlinewidth": 0,
             "ticks": ""
            },
            "colorscale": [
             [
              0,
              "#0d0887"
             ],
             [
              0.1111111111111111,
              "#46039f"
             ],
             [
              0.2222222222222222,
              "#7201a8"
             ],
             [
              0.3333333333333333,
              "#9c179e"
             ],
             [
              0.4444444444444444,
              "#bd3786"
             ],
             [
              0.5555555555555556,
              "#d8576b"
             ],
             [
              0.6666666666666666,
              "#ed7953"
             ],
             [
              0.7777777777777778,
              "#fb9f3a"
             ],
             [
              0.8888888888888888,
              "#fdca26"
             ],
             [
              1,
              "#f0f921"
             ]
            ],
            "type": "histogram2dcontour"
           }
          ],
          "mesh3d": [
           {
            "colorbar": {
             "outlinewidth": 0,
             "ticks": ""
            },
            "type": "mesh3d"
           }
          ],
          "parcoords": [
           {
            "line": {
             "colorbar": {
              "outlinewidth": 0,
              "ticks": ""
             }
            },
            "type": "parcoords"
           }
          ],
          "pie": [
           {
            "automargin": true,
            "type": "pie"
           }
          ],
          "scatter": [
           {
            "fillpattern": {
             "fillmode": "overlay",
             "size": 10,
             "solidity": 0.2
            },
            "type": "scatter"
           }
          ],
          "scatter3d": [
           {
            "line": {
             "colorbar": {
              "outlinewidth": 0,
              "ticks": ""
             }
            },
            "marker": {
             "colorbar": {
              "outlinewidth": 0,
              "ticks": ""
             }
            },
            "type": "scatter3d"
           }
          ],
          "scattercarpet": [
           {
            "marker": {
             "colorbar": {
              "outlinewidth": 0,
              "ticks": ""
             }
            },
            "type": "scattercarpet"
           }
          ],
          "scattergeo": [
           {
            "marker": {
             "colorbar": {
              "outlinewidth": 0,
              "ticks": ""
             }
            },
            "type": "scattergeo"
           }
          ],
          "scattergl": [
           {
            "marker": {
             "colorbar": {
              "outlinewidth": 0,
              "ticks": ""
             }
            },
            "type": "scattergl"
           }
          ],
          "scattermapbox": [
           {
            "marker": {
             "colorbar": {
              "outlinewidth": 0,
              "ticks": ""
             }
            },
            "type": "scattermapbox"
           }
          ],
          "scatterpolar": [
           {
            "marker": {
             "colorbar": {
              "outlinewidth": 0,
              "ticks": ""
             }
            },
            "type": "scatterpolar"
           }
          ],
          "scatterpolargl": [
           {
            "marker": {
             "colorbar": {
              "outlinewidth": 0,
              "ticks": ""
             }
            },
            "type": "scatterpolargl"
           }
          ],
          "scatterternary": [
           {
            "marker": {
             "colorbar": {
              "outlinewidth": 0,
              "ticks": ""
             }
            },
            "type": "scatterternary"
           }
          ],
          "surface": [
           {
            "colorbar": {
             "outlinewidth": 0,
             "ticks": ""
            },
            "colorscale": [
             [
              0,
              "#0d0887"
             ],
             [
              0.1111111111111111,
              "#46039f"
             ],
             [
              0.2222222222222222,
              "#7201a8"
             ],
             [
              0.3333333333333333,
              "#9c179e"
             ],
             [
              0.4444444444444444,
              "#bd3786"
             ],
             [
              0.5555555555555556,
              "#d8576b"
             ],
             [
              0.6666666666666666,
              "#ed7953"
             ],
             [
              0.7777777777777778,
              "#fb9f3a"
             ],
             [
              0.8888888888888888,
              "#fdca26"
             ],
             [
              1,
              "#f0f921"
             ]
            ],
            "type": "surface"
           }
          ],
          "table": [
           {
            "cells": {
             "fill": {
              "color": "#EBF0F8"
             },
             "line": {
              "color": "white"
             }
            },
            "header": {
             "fill": {
              "color": "#C8D4E3"
             },
             "line": {
              "color": "white"
             }
            },
            "type": "table"
           }
          ]
         },
         "layout": {
          "annotationdefaults": {
           "arrowcolor": "#2a3f5f",
           "arrowhead": 0,
           "arrowwidth": 1
          },
          "autotypenumbers": "strict",
          "coloraxis": {
           "colorbar": {
            "outlinewidth": 0,
            "ticks": ""
           }
          },
          "colorscale": {
           "diverging": [
            [
             0,
             "#8e0152"
            ],
            [
             0.1,
             "#c51b7d"
            ],
            [
             0.2,
             "#de77ae"
            ],
            [
             0.3,
             "#f1b6da"
            ],
            [
             0.4,
             "#fde0ef"
            ],
            [
             0.5,
             "#f7f7f7"
            ],
            [
             0.6,
             "#e6f5d0"
            ],
            [
             0.7,
             "#b8e186"
            ],
            [
             0.8,
             "#7fbc41"
            ],
            [
             0.9,
             "#4d9221"
            ],
            [
             1,
             "#276419"
            ]
           ],
           "sequential": [
            [
             0,
             "#0d0887"
            ],
            [
             0.1111111111111111,
             "#46039f"
            ],
            [
             0.2222222222222222,
             "#7201a8"
            ],
            [
             0.3333333333333333,
             "#9c179e"
            ],
            [
             0.4444444444444444,
             "#bd3786"
            ],
            [
             0.5555555555555556,
             "#d8576b"
            ],
            [
             0.6666666666666666,
             "#ed7953"
            ],
            [
             0.7777777777777778,
             "#fb9f3a"
            ],
            [
             0.8888888888888888,
             "#fdca26"
            ],
            [
             1,
             "#f0f921"
            ]
           ],
           "sequentialminus": [
            [
             0,
             "#0d0887"
            ],
            [
             0.1111111111111111,
             "#46039f"
            ],
            [
             0.2222222222222222,
             "#7201a8"
            ],
            [
             0.3333333333333333,
             "#9c179e"
            ],
            [
             0.4444444444444444,
             "#bd3786"
            ],
            [
             0.5555555555555556,
             "#d8576b"
            ],
            [
             0.6666666666666666,
             "#ed7953"
            ],
            [
             0.7777777777777778,
             "#fb9f3a"
            ],
            [
             0.8888888888888888,
             "#fdca26"
            ],
            [
             1,
             "#f0f921"
            ]
           ]
          },
          "colorway": [
           "#636efa",
           "#EF553B",
           "#00cc96",
           "#ab63fa",
           "#FFA15A",
           "#19d3f3",
           "#FF6692",
           "#B6E880",
           "#FF97FF",
           "#FECB52"
          ],
          "font": {
           "color": "#2a3f5f"
          },
          "geo": {
           "bgcolor": "white",
           "lakecolor": "white",
           "landcolor": "#E5ECF6",
           "showlakes": true,
           "showland": true,
           "subunitcolor": "white"
          },
          "hoverlabel": {
           "align": "left"
          },
          "hovermode": "closest",
          "mapbox": {
           "style": "light"
          },
          "paper_bgcolor": "white",
          "plot_bgcolor": "#E5ECF6",
          "polar": {
           "angularaxis": {
            "gridcolor": "white",
            "linecolor": "white",
            "ticks": ""
           },
           "bgcolor": "#E5ECF6",
           "radialaxis": {
            "gridcolor": "white",
            "linecolor": "white",
            "ticks": ""
           }
          },
          "scene": {
           "xaxis": {
            "backgroundcolor": "#E5ECF6",
            "gridcolor": "white",
            "gridwidth": 2,
            "linecolor": "white",
            "showbackground": true,
            "ticks": "",
            "zerolinecolor": "white"
           },
           "yaxis": {
            "backgroundcolor": "#E5ECF6",
            "gridcolor": "white",
            "gridwidth": 2,
            "linecolor": "white",
            "showbackground": true,
            "ticks": "",
            "zerolinecolor": "white"
           },
           "zaxis": {
            "backgroundcolor": "#E5ECF6",
            "gridcolor": "white",
            "gridwidth": 2,
            "linecolor": "white",
            "showbackground": true,
            "ticks": "",
            "zerolinecolor": "white"
           }
          },
          "shapedefaults": {
           "line": {
            "color": "#2a3f5f"
           }
          },
          "ternary": {
           "aaxis": {
            "gridcolor": "white",
            "linecolor": "white",
            "ticks": ""
           },
           "baxis": {
            "gridcolor": "white",
            "linecolor": "white",
            "ticks": ""
           },
           "bgcolor": "#E5ECF6",
           "caxis": {
            "gridcolor": "white",
            "linecolor": "white",
            "ticks": ""
           }
          },
          "title": {
           "x": 0.05
          },
          "xaxis": {
           "automargin": true,
           "gridcolor": "white",
           "linecolor": "white",
           "ticks": "",
           "title": {
            "standoff": 15
           },
           "zerolinecolor": "white",
           "zerolinewidth": 2
          },
          "yaxis": {
           "automargin": true,
           "gridcolor": "white",
           "linecolor": "white",
           "ticks": "",
           "title": {
            "standoff": 15
           },
           "zerolinecolor": "white",
           "zerolinewidth": 2
          }
         }
        },
        "title": {
         "text": "Normalized employees Growth of Top 10 Companies by Slope"
        },
        "xaxis": {
         "anchor": "y",
         "domain": [
          0,
          1
         ],
         "title": {
          "text": "index"
         }
        },
        "yaxis": {
         "anchor": "x",
         "domain": [
          0,
          1
         ],
         "title": {
          "text": "value"
         }
        }
       }
      }
     },
     "metadata": {},
     "output_type": "display_data"
    },
    {
     "data": {
      "application/vnd.plotly.v1+json": {
       "config": {
        "plotlyServerURL": "https://plot.ly"
       },
       "data": [
        {
         "hovertemplate": "Specter - ID=624b27ade4e2dbb8bd31f978<br>index=%{x}<br>value=%{y}<extra></extra>",
         "legendgroup": "624b27ade4e2dbb8bd31f978",
         "line": {
          "color": "#636efa",
          "dash": "solid"
         },
         "marker": {
          "symbol": "circle"
         },
         "mode": "lines",
         "name": "624b27ade4e2dbb8bd31f978",
         "orientation": "v",
         "showlegend": true,
         "type": "scatter",
         "x": [
          1,
          2,
          3,
          4,
          5,
          6
         ],
         "xaxis": "x",
         "y": [
          0.010725173859086333,
          0.08931744210550964,
          0.05188844920036528,
          0,
          0,
          0
         ],
         "yaxis": "y"
        },
        {
         "hovertemplate": "Specter - ID=62735f4801ed2520137224ce<br>index=%{x}<br>value=%{y}<extra></extra>",
         "legendgroup": "62735f4801ed2520137224ce",
         "line": {
          "color": "#EF553B",
          "dash": "solid"
         },
         "marker": {
          "symbol": "circle"
         },
         "mode": "lines",
         "name": "62735f4801ed2520137224ce",
         "orientation": "v",
         "showlegend": true,
         "type": "scatter",
         "x": [
          1,
          2,
          3,
          4,
          5,
          6
         ],
         "xaxis": "x",
         "y": [
          0.02355358393649311,
          0.02091858176845335,
          0.09073780060705113,
          0.09346986424735666,
          0.15539475000833863,
          0.02385310696774624
         ],
         "yaxis": "y"
        },
        {
         "hovertemplate": "Specter - ID=627100104b7ad6a07cc251f5<br>index=%{x}<br>value=%{y}<extra></extra>",
         "legendgroup": "627100104b7ad6a07cc251f5",
         "line": {
          "color": "#00cc96",
          "dash": "solid"
         },
         "marker": {
          "symbol": "circle"
         },
         "mode": "lines",
         "name": "627100104b7ad6a07cc251f5",
         "orientation": "v",
         "showlegend": true,
         "type": "scatter",
         "x": [
          1,
          2,
          3,
          4,
          5,
          6
         ],
         "xaxis": "x",
         "y": [
          0.0004360201135793768,
          0.004926064976077852,
          0.0034060259416380913,
          0.0017725430666431737,
          0.000052181455930388584,
          -0.00045160678223390847
         ],
         "yaxis": "y"
        },
        {
         "hovertemplate": "Specter - ID=6270ff004b7ad6a07cbd8ec0<br>index=%{x}<br>value=%{y}<extra></extra>",
         "legendgroup": "6270ff004b7ad6a07cbd8ec0",
         "line": {
          "color": "#ab63fa",
          "dash": "solid"
         },
         "marker": {
          "symbol": "circle"
         },
         "mode": "lines",
         "name": "6270ff004b7ad6a07cbd8ec0",
         "orientation": "v",
         "showlegend": true,
         "type": "scatter",
         "x": [
          1,
          2,
          3,
          4,
          5,
          6
         ],
         "xaxis": "x",
         "y": [
          0.0000032195515763264268,
          0.000019535721248312365,
          0.000024462120519625916,
          0.000057478702828109114,
          0.00013676218272653954,
          0.0002677768996365466
         ],
         "yaxis": "y"
        },
        {
         "hovertemplate": "Specter - ID=5e3b9057137e998b5ae6cc7e<br>index=%{x}<br>value=%{y}<extra></extra>",
         "legendgroup": "5e3b9057137e998b5ae6cc7e",
         "line": {
          "color": "#FFA15A",
          "dash": "solid"
         },
         "marker": {
          "symbol": "circle"
         },
         "mode": "lines",
         "name": "5e3b9057137e998b5ae6cc7e",
         "orientation": "v",
         "showlegend": true,
         "type": "scatter",
         "x": [
          1,
          2,
          3,
          4,
          5,
          6
         ],
         "xaxis": "x",
         "y": [
          0.002315787371700148,
          0.003268700826710332,
          0.0017303007308598587,
          0.0007857741922600743,
          0.0007945604856423979,
          0.0009395343264507368
         ],
         "yaxis": "y"
        },
        {
         "hovertemplate": "Specter - ID=61fcf5e362adc22ead73101f<br>index=%{x}<br>value=%{y}<extra></extra>",
         "legendgroup": "61fcf5e362adc22ead73101f",
         "line": {
          "color": "#19d3f3",
          "dash": "solid"
         },
         "marker": {
          "symbol": "circle"
         },
         "mode": "lines",
         "name": "61fcf5e362adc22ead73101f",
         "orientation": "v",
         "showlegend": true,
         "type": "scatter",
         "x": [
          1,
          2,
          3,
          4,
          5,
          6
         ],
         "xaxis": "x",
         "y": [
          0.002176028240459204,
          0.0014378309428812982,
          0.0838410880882811,
          0.031961555005117104,
          0.06362097862683734,
          0.05145488794292579
         ],
         "yaxis": "y"
        },
        {
         "hovertemplate": "Specter - ID=5ebcdac5332603f591de8a88<br>index=%{x}<br>value=%{y}<extra></extra>",
         "legendgroup": "5ebcdac5332603f591de8a88",
         "line": {
          "color": "#FF6692",
          "dash": "solid"
         },
         "marker": {
          "symbol": "circle"
         },
         "mode": "lines",
         "name": "5ebcdac5332603f591de8a88",
         "orientation": "v",
         "showlegend": true,
         "type": "scatter",
         "x": [
          1,
          2,
          3,
          4,
          5,
          6
         ],
         "xaxis": "x",
         "y": [
          0.008991572217378669,
          0.008660273176402208,
          0.06727695437372856,
          0.05392618424876489,
          0.11523975588491718,
          0.1006393490264458
         ],
         "yaxis": "y"
        },
        {
         "hovertemplate": "Specter - ID=629cc201cf28682e15f5aec8<br>index=%{x}<br>value=%{y}<extra></extra>",
         "legendgroup": "629cc201cf28682e15f5aec8",
         "line": {
          "color": "#B6E880",
          "dash": "solid"
         },
         "marker": {
          "symbol": "circle"
         },
         "mode": "lines",
         "name": "629cc201cf28682e15f5aec8",
         "orientation": "v",
         "showlegend": true,
         "type": "scatter",
         "x": [
          1,
          2,
          3,
          4,
          5,
          6
         ],
         "xaxis": "x",
         "y": [
          0.0368738750899928,
          0.020247480201583873,
          0.042253869690424765,
          0.0230026097912167,
          0.006603671706263498,
          0.24345032397408206
         ],
         "yaxis": "y"
        },
        {
         "hovertemplate": "Specter - ID=601c18f94ddab8d8bff584b8<br>index=%{x}<br>value=%{y}<extra></extra>",
         "legendgroup": "601c18f94ddab8d8bff584b8",
         "line": {
          "color": "#FF97FF",
          "dash": "solid"
         },
         "marker": {
          "symbol": "circle"
         },
         "mode": "lines",
         "name": "601c18f94ddab8d8bff584b8",
         "orientation": "v",
         "showlegend": true,
         "type": "scatter",
         "x": [
          1,
          2,
          3,
          4,
          5,
          6
         ],
         "xaxis": "x",
         "y": [
          0.00018825485891354153,
          0.00034827448001100694,
          0.0004954327110015732,
          0.0000815950516549319,
          0.00027708818127979807,
          0.0000769290589649871
         ],
         "yaxis": "y"
        },
        {
         "hovertemplate": "Specter - ID=6270ff144b7ad6a07cbde14d<br>index=%{x}<br>value=%{y}<extra></extra>",
         "legendgroup": "6270ff144b7ad6a07cbde14d",
         "line": {
          "color": "#FECB52",
          "dash": "solid"
         },
         "marker": {
          "symbol": "circle"
         },
         "mode": "lines",
         "name": "6270ff144b7ad6a07cbde14d",
         "orientation": "v",
         "showlegend": true,
         "type": "scatter",
         "x": [
          1,
          2,
          3,
          4,
          5,
          6
         ],
         "xaxis": "x",
         "y": [
          0.00041425852091017375,
          0.0009741739533422957,
          0.004443014558031046,
          0,
          0.0030581440329690954,
          0.003701133312651048
         ],
         "yaxis": "y"
        }
       ],
       "layout": {
        "legend": {
         "title": {
          "text": "Specter - ID"
         },
         "tracegroupgap": 0
        },
        "template": {
         "data": {
          "bar": [
           {
            "error_x": {
             "color": "#2a3f5f"
            },
            "error_y": {
             "color": "#2a3f5f"
            },
            "marker": {
             "line": {
              "color": "#E5ECF6",
              "width": 0.5
             },
             "pattern": {
              "fillmode": "overlay",
              "size": 10,
              "solidity": 0.2
             }
            },
            "type": "bar"
           }
          ],
          "barpolar": [
           {
            "marker": {
             "line": {
              "color": "#E5ECF6",
              "width": 0.5
             },
             "pattern": {
              "fillmode": "overlay",
              "size": 10,
              "solidity": 0.2
             }
            },
            "type": "barpolar"
           }
          ],
          "carpet": [
           {
            "aaxis": {
             "endlinecolor": "#2a3f5f",
             "gridcolor": "white",
             "linecolor": "white",
             "minorgridcolor": "white",
             "startlinecolor": "#2a3f5f"
            },
            "baxis": {
             "endlinecolor": "#2a3f5f",
             "gridcolor": "white",
             "linecolor": "white",
             "minorgridcolor": "white",
             "startlinecolor": "#2a3f5f"
            },
            "type": "carpet"
           }
          ],
          "choropleth": [
           {
            "colorbar": {
             "outlinewidth": 0,
             "ticks": ""
            },
            "type": "choropleth"
           }
          ],
          "contour": [
           {
            "colorbar": {
             "outlinewidth": 0,
             "ticks": ""
            },
            "colorscale": [
             [
              0,
              "#0d0887"
             ],
             [
              0.1111111111111111,
              "#46039f"
             ],
             [
              0.2222222222222222,
              "#7201a8"
             ],
             [
              0.3333333333333333,
              "#9c179e"
             ],
             [
              0.4444444444444444,
              "#bd3786"
             ],
             [
              0.5555555555555556,
              "#d8576b"
             ],
             [
              0.6666666666666666,
              "#ed7953"
             ],
             [
              0.7777777777777778,
              "#fb9f3a"
             ],
             [
              0.8888888888888888,
              "#fdca26"
             ],
             [
              1,
              "#f0f921"
             ]
            ],
            "type": "contour"
           }
          ],
          "contourcarpet": [
           {
            "colorbar": {
             "outlinewidth": 0,
             "ticks": ""
            },
            "type": "contourcarpet"
           }
          ],
          "heatmap": [
           {
            "colorbar": {
             "outlinewidth": 0,
             "ticks": ""
            },
            "colorscale": [
             [
              0,
              "#0d0887"
             ],
             [
              0.1111111111111111,
              "#46039f"
             ],
             [
              0.2222222222222222,
              "#7201a8"
             ],
             [
              0.3333333333333333,
              "#9c179e"
             ],
             [
              0.4444444444444444,
              "#bd3786"
             ],
             [
              0.5555555555555556,
              "#d8576b"
             ],
             [
              0.6666666666666666,
              "#ed7953"
             ],
             [
              0.7777777777777778,
              "#fb9f3a"
             ],
             [
              0.8888888888888888,
              "#fdca26"
             ],
             [
              1,
              "#f0f921"
             ]
            ],
            "type": "heatmap"
           }
          ],
          "heatmapgl": [
           {
            "colorbar": {
             "outlinewidth": 0,
             "ticks": ""
            },
            "colorscale": [
             [
              0,
              "#0d0887"
             ],
             [
              0.1111111111111111,
              "#46039f"
             ],
             [
              0.2222222222222222,
              "#7201a8"
             ],
             [
              0.3333333333333333,
              "#9c179e"
             ],
             [
              0.4444444444444444,
              "#bd3786"
             ],
             [
              0.5555555555555556,
              "#d8576b"
             ],
             [
              0.6666666666666666,
              "#ed7953"
             ],
             [
              0.7777777777777778,
              "#fb9f3a"
             ],
             [
              0.8888888888888888,
              "#fdca26"
             ],
             [
              1,
              "#f0f921"
             ]
            ],
            "type": "heatmapgl"
           }
          ],
          "histogram": [
           {
            "marker": {
             "pattern": {
              "fillmode": "overlay",
              "size": 10,
              "solidity": 0.2
             }
            },
            "type": "histogram"
           }
          ],
          "histogram2d": [
           {
            "colorbar": {
             "outlinewidth": 0,
             "ticks": ""
            },
            "colorscale": [
             [
              0,
              "#0d0887"
             ],
             [
              0.1111111111111111,
              "#46039f"
             ],
             [
              0.2222222222222222,
              "#7201a8"
             ],
             [
              0.3333333333333333,
              "#9c179e"
             ],
             [
              0.4444444444444444,
              "#bd3786"
             ],
             [
              0.5555555555555556,
              "#d8576b"
             ],
             [
              0.6666666666666666,
              "#ed7953"
             ],
             [
              0.7777777777777778,
              "#fb9f3a"
             ],
             [
              0.8888888888888888,
              "#fdca26"
             ],
             [
              1,
              "#f0f921"
             ]
            ],
            "type": "histogram2d"
           }
          ],
          "histogram2dcontour": [
           {
            "colorbar": {
             "outlinewidth": 0,
             "ticks": ""
            },
            "colorscale": [
             [
              0,
              "#0d0887"
             ],
             [
              0.1111111111111111,
              "#46039f"
             ],
             [
              0.2222222222222222,
              "#7201a8"
             ],
             [
              0.3333333333333333,
              "#9c179e"
             ],
             [
              0.4444444444444444,
              "#bd3786"
             ],
             [
              0.5555555555555556,
              "#d8576b"
             ],
             [
              0.6666666666666666,
              "#ed7953"
             ],
             [
              0.7777777777777778,
              "#fb9f3a"
             ],
             [
              0.8888888888888888,
              "#fdca26"
             ],
             [
              1,
              "#f0f921"
             ]
            ],
            "type": "histogram2dcontour"
           }
          ],
          "mesh3d": [
           {
            "colorbar": {
             "outlinewidth": 0,
             "ticks": ""
            },
            "type": "mesh3d"
           }
          ],
          "parcoords": [
           {
            "line": {
             "colorbar": {
              "outlinewidth": 0,
              "ticks": ""
             }
            },
            "type": "parcoords"
           }
          ],
          "pie": [
           {
            "automargin": true,
            "type": "pie"
           }
          ],
          "scatter": [
           {
            "fillpattern": {
             "fillmode": "overlay",
             "size": 10,
             "solidity": 0.2
            },
            "type": "scatter"
           }
          ],
          "scatter3d": [
           {
            "line": {
             "colorbar": {
              "outlinewidth": 0,
              "ticks": ""
             }
            },
            "marker": {
             "colorbar": {
              "outlinewidth": 0,
              "ticks": ""
             }
            },
            "type": "scatter3d"
           }
          ],
          "scattercarpet": [
           {
            "marker": {
             "colorbar": {
              "outlinewidth": 0,
              "ticks": ""
             }
            },
            "type": "scattercarpet"
           }
          ],
          "scattergeo": [
           {
            "marker": {
             "colorbar": {
              "outlinewidth": 0,
              "ticks": ""
             }
            },
            "type": "scattergeo"
           }
          ],
          "scattergl": [
           {
            "marker": {
             "colorbar": {
              "outlinewidth": 0,
              "ticks": ""
             }
            },
            "type": "scattergl"
           }
          ],
          "scattermapbox": [
           {
            "marker": {
             "colorbar": {
              "outlinewidth": 0,
              "ticks": ""
             }
            },
            "type": "scattermapbox"
           }
          ],
          "scatterpolar": [
           {
            "marker": {
             "colorbar": {
              "outlinewidth": 0,
              "ticks": ""
             }
            },
            "type": "scatterpolar"
           }
          ],
          "scatterpolargl": [
           {
            "marker": {
             "colorbar": {
              "outlinewidth": 0,
              "ticks": ""
             }
            },
            "type": "scatterpolargl"
           }
          ],
          "scatterternary": [
           {
            "marker": {
             "colorbar": {
              "outlinewidth": 0,
              "ticks": ""
             }
            },
            "type": "scatterternary"
           }
          ],
          "surface": [
           {
            "colorbar": {
             "outlinewidth": 0,
             "ticks": ""
            },
            "colorscale": [
             [
              0,
              "#0d0887"
             ],
             [
              0.1111111111111111,
              "#46039f"
             ],
             [
              0.2222222222222222,
              "#7201a8"
             ],
             [
              0.3333333333333333,
              "#9c179e"
             ],
             [
              0.4444444444444444,
              "#bd3786"
             ],
             [
              0.5555555555555556,
              "#d8576b"
             ],
             [
              0.6666666666666666,
              "#ed7953"
             ],
             [
              0.7777777777777778,
              "#fb9f3a"
             ],
             [
              0.8888888888888888,
              "#fdca26"
             ],
             [
              1,
              "#f0f921"
             ]
            ],
            "type": "surface"
           }
          ],
          "table": [
           {
            "cells": {
             "fill": {
              "color": "#EBF0F8"
             },
             "line": {
              "color": "white"
             }
            },
            "header": {
             "fill": {
              "color": "#C8D4E3"
             },
             "line": {
              "color": "white"
             }
            },
            "type": "table"
           }
          ]
         },
         "layout": {
          "annotationdefaults": {
           "arrowcolor": "#2a3f5f",
           "arrowhead": 0,
           "arrowwidth": 1
          },
          "autotypenumbers": "strict",
          "coloraxis": {
           "colorbar": {
            "outlinewidth": 0,
            "ticks": ""
           }
          },
          "colorscale": {
           "diverging": [
            [
             0,
             "#8e0152"
            ],
            [
             0.1,
             "#c51b7d"
            ],
            [
             0.2,
             "#de77ae"
            ],
            [
             0.3,
             "#f1b6da"
            ],
            [
             0.4,
             "#fde0ef"
            ],
            [
             0.5,
             "#f7f7f7"
            ],
            [
             0.6,
             "#e6f5d0"
            ],
            [
             0.7,
             "#b8e186"
            ],
            [
             0.8,
             "#7fbc41"
            ],
            [
             0.9,
             "#4d9221"
            ],
            [
             1,
             "#276419"
            ]
           ],
           "sequential": [
            [
             0,
             "#0d0887"
            ],
            [
             0.1111111111111111,
             "#46039f"
            ],
            [
             0.2222222222222222,
             "#7201a8"
            ],
            [
             0.3333333333333333,
             "#9c179e"
            ],
            [
             0.4444444444444444,
             "#bd3786"
            ],
            [
             0.5555555555555556,
             "#d8576b"
            ],
            [
             0.6666666666666666,
             "#ed7953"
            ],
            [
             0.7777777777777778,
             "#fb9f3a"
            ],
            [
             0.8888888888888888,
             "#fdca26"
            ],
            [
             1,
             "#f0f921"
            ]
           ],
           "sequentialminus": [
            [
             0,
             "#0d0887"
            ],
            [
             0.1111111111111111,
             "#46039f"
            ],
            [
             0.2222222222222222,
             "#7201a8"
            ],
            [
             0.3333333333333333,
             "#9c179e"
            ],
            [
             0.4444444444444444,
             "#bd3786"
            ],
            [
             0.5555555555555556,
             "#d8576b"
            ],
            [
             0.6666666666666666,
             "#ed7953"
            ],
            [
             0.7777777777777778,
             "#fb9f3a"
            ],
            [
             0.8888888888888888,
             "#fdca26"
            ],
            [
             1,
             "#f0f921"
            ]
           ]
          },
          "colorway": [
           "#636efa",
           "#EF553B",
           "#00cc96",
           "#ab63fa",
           "#FFA15A",
           "#19d3f3",
           "#FF6692",
           "#B6E880",
           "#FF97FF",
           "#FECB52"
          ],
          "font": {
           "color": "#2a3f5f"
          },
          "geo": {
           "bgcolor": "white",
           "lakecolor": "white",
           "landcolor": "#E5ECF6",
           "showlakes": true,
           "showland": true,
           "subunitcolor": "white"
          },
          "hoverlabel": {
           "align": "left"
          },
          "hovermode": "closest",
          "mapbox": {
           "style": "light"
          },
          "paper_bgcolor": "white",
          "plot_bgcolor": "#E5ECF6",
          "polar": {
           "angularaxis": {
            "gridcolor": "white",
            "linecolor": "white",
            "ticks": ""
           },
           "bgcolor": "#E5ECF6",
           "radialaxis": {
            "gridcolor": "white",
            "linecolor": "white",
            "ticks": ""
           }
          },
          "scene": {
           "xaxis": {
            "backgroundcolor": "#E5ECF6",
            "gridcolor": "white",
            "gridwidth": 2,
            "linecolor": "white",
            "showbackground": true,
            "ticks": "",
            "zerolinecolor": "white"
           },
           "yaxis": {
            "backgroundcolor": "#E5ECF6",
            "gridcolor": "white",
            "gridwidth": 2,
            "linecolor": "white",
            "showbackground": true,
            "ticks": "",
            "zerolinecolor": "white"
           },
           "zaxis": {
            "backgroundcolor": "#E5ECF6",
            "gridcolor": "white",
            "gridwidth": 2,
            "linecolor": "white",
            "showbackground": true,
            "ticks": "",
            "zerolinecolor": "white"
           }
          },
          "shapedefaults": {
           "line": {
            "color": "#2a3f5f"
           }
          },
          "ternary": {
           "aaxis": {
            "gridcolor": "white",
            "linecolor": "white",
            "ticks": ""
           },
           "baxis": {
            "gridcolor": "white",
            "linecolor": "white",
            "ticks": ""
           },
           "bgcolor": "#E5ECF6",
           "caxis": {
            "gridcolor": "white",
            "linecolor": "white",
            "ticks": ""
           }
          },
          "title": {
           "x": 0.05
          },
          "xaxis": {
           "automargin": true,
           "gridcolor": "white",
           "linecolor": "white",
           "ticks": "",
           "title": {
            "standoff": 15
           },
           "zerolinecolor": "white",
           "zerolinewidth": 2
          },
          "yaxis": {
           "automargin": true,
           "gridcolor": "white",
           "linecolor": "white",
           "ticks": "",
           "title": {
            "standoff": 15
           },
           "zerolinecolor": "white",
           "zerolinewidth": 2
          }
         }
        },
        "title": {
         "text": "Normalized web_visits Growth of Top 10 Companies by Slope"
        },
        "xaxis": {
         "anchor": "y",
         "domain": [
          0,
          1
         ],
         "title": {
          "text": "index"
         }
        },
        "yaxis": {
         "anchor": "x",
         "domain": [
          0,
          1
         ],
         "title": {
          "text": "value"
         }
        }
       }
      }
     },
     "metadata": {},
     "output_type": "display_data"
    },
    {
     "data": {
      "application/vnd.plotly.v1+json": {
       "config": {
        "plotlyServerURL": "https://plot.ly"
       },
       "data": [
        {
         "hovertemplate": "Specter - ID=624b27ade4e2dbb8bd31f978<br>index=%{x}<br>value=%{y}<extra></extra>",
         "legendgroup": "624b27ade4e2dbb8bd31f978",
         "line": {
          "color": "#636efa",
          "dash": "solid"
         },
         "marker": {
          "symbol": "circle"
         },
         "mode": "lines",
         "name": "624b27ade4e2dbb8bd31f978",
         "orientation": "v",
         "showlegend": true,
         "type": "scatter",
         "x": [
          1,
          2,
          3,
          4,
          5,
          6
         ],
         "xaxis": "x",
         "y": [
          0.5316018946611718,
          2.2496774940053275,
          1.8345495009773656,
          2.7106770410198084,
          2.828354185438485,
          0
         ],
         "yaxis": "y"
        },
        {
         "hovertemplate": "Specter - ID=62735f4801ed2520137224ce<br>index=%{x}<br>value=%{y}<extra></extra>",
         "legendgroup": "62735f4801ed2520137224ce",
         "line": {
          "color": "#EF553B",
          "dash": "solid"
         },
         "marker": {
          "symbol": "circle"
         },
         "mode": "lines",
         "name": "62735f4801ed2520137224ce",
         "orientation": "v",
         "showlegend": true,
         "type": "scatter",
         "x": [
          1,
          2,
          3,
          4,
          5,
          6
         ],
         "xaxis": "x",
         "y": [
          -0.3279646369975698,
          0.21541960941550642,
          0.12552396246427072,
          0,
          0,
          0
         ],
         "yaxis": "y"
        },
        {
         "hovertemplate": "Specter - ID=627100104b7ad6a07cc251f5<br>index=%{x}<br>value=%{y}<extra></extra>",
         "legendgroup": "627100104b7ad6a07cc251f5",
         "line": {
          "color": "#00cc96",
          "dash": "solid"
         },
         "marker": {
          "symbol": "circle"
         },
         "mode": "lines",
         "name": "627100104b7ad6a07cc251f5",
         "orientation": "v",
         "showlegend": true,
         "type": "scatter",
         "x": [
          1,
          2,
          3,
          4,
          5,
          6
         ],
         "xaxis": "x",
         "y": [
          0.9760740051706891,
          1.277420325004585,
          0.49896438889800515,
          0.4699291760884331,
          0.9164769612726662,
          1.0654230866341903
         ],
         "yaxis": "y"
        },
        {
         "hovertemplate": "Specter - ID=6270ff004b7ad6a07cbd8ec0<br>index=%{x}<br>value=%{y}<extra></extra>",
         "legendgroup": "6270ff004b7ad6a07cbd8ec0",
         "line": {
          "color": "#ab63fa",
          "dash": "solid"
         },
         "marker": {
          "symbol": "circle"
         },
         "mode": "lines",
         "name": "6270ff004b7ad6a07cbd8ec0",
         "orientation": "v",
         "showlegend": true,
         "type": "scatter",
         "x": [
          1,
          2,
          3,
          4,
          5,
          6
         ],
         "xaxis": "x",
         "y": [
          3.0952839738039195,
          3.4092466797565764,
          14.472627047331,
          52.69362293742454,
          39.94621754454431,
          41.80209032037757
         ],
         "yaxis": "y"
        },
        {
         "hovertemplate": "Specter - ID=5e3b9057137e998b5ae6cc7e<br>index=%{x}<br>value=%{y}<extra></extra>",
         "legendgroup": "5e3b9057137e998b5ae6cc7e",
         "line": {
          "color": "#FFA15A",
          "dash": "solid"
         },
         "marker": {
          "symbol": "circle"
         },
         "mode": "lines",
         "name": "5e3b9057137e998b5ae6cc7e",
         "orientation": "v",
         "showlegend": true,
         "type": "scatter",
         "x": [
          1,
          2,
          3,
          4,
          5,
          6
         ],
         "xaxis": "x",
         "y": [
          0.3514418197562361,
          0.07244118763779096,
          0.2864215578253884,
          0.06398000809028845,
          -0.14891148376097024,
          -0.12151933961727349
         ],
         "yaxis": "y"
        },
        {
         "hovertemplate": "Specter - ID=61fcf5e362adc22ead73101f<br>index=%{x}<br>value=%{y}<extra></extra>",
         "legendgroup": "61fcf5e362adc22ead73101f",
         "line": {
          "color": "#19d3f3",
          "dash": "solid"
         },
         "marker": {
          "symbol": "circle"
         },
         "mode": "lines",
         "name": "61fcf5e362adc22ead73101f",
         "orientation": "v",
         "showlegend": true,
         "type": "scatter",
         "x": [
          1,
          2,
          3,
          4,
          5,
          6
         ],
         "xaxis": "x",
         "y": [
          -0.13363447889416338,
          1.4740906384506651,
          2.123315146426997,
          1.678631975840828,
          1.408225598151831,
          0
         ],
         "yaxis": "y"
        },
        {
         "hovertemplate": "Specter - ID=5ebcdac5332603f591de8a88<br>index=%{x}<br>value=%{y}<extra></extra>",
         "legendgroup": "5ebcdac5332603f591de8a88",
         "line": {
          "color": "#FF6692",
          "dash": "solid"
         },
         "marker": {
          "symbol": "circle"
         },
         "mode": "lines",
         "name": "5ebcdac5332603f591de8a88",
         "orientation": "v",
         "showlegend": true,
         "type": "scatter",
         "x": [
          1,
          2,
          3,
          4,
          5,
          6
         ],
         "xaxis": "x",
         "y": [
          0.2698784100562617,
          0.8034500854273053,
          0.5170629460253572,
          0,
          0,
          0
         ],
         "yaxis": "y"
        },
        {
         "hovertemplate": "Specter - ID=629cc201cf28682e15f5aec8<br>index=%{x}<br>value=%{y}<extra></extra>",
         "legendgroup": "629cc201cf28682e15f5aec8",
         "line": {
          "color": "#B6E880",
          "dash": "solid"
         },
         "marker": {
          "symbol": "circle"
         },
         "mode": "lines",
         "name": "629cc201cf28682e15f5aec8",
         "orientation": "v",
         "showlegend": true,
         "type": "scatter",
         "x": [
          1,
          2,
          3,
          4,
          5,
          6
         ],
         "xaxis": "x",
         "y": [
          -0.1458743663797798,
          0.5645091977446204,
          0.5930563884270735,
          1.1790204293724225,
          -0.07932177212897706,
          0.17263141181673006
         ],
         "yaxis": "y"
        },
        {
         "hovertemplate": "Specter - ID=601c18f94ddab8d8bff584b8<br>index=%{x}<br>value=%{y}<extra></extra>",
         "legendgroup": "601c18f94ddab8d8bff584b8",
         "line": {
          "color": "#FF97FF",
          "dash": "solid"
         },
         "marker": {
          "symbol": "circle"
         },
         "mode": "lines",
         "name": "601c18f94ddab8d8bff584b8",
         "orientation": "v",
         "showlegend": true,
         "type": "scatter",
         "x": [
          1,
          2,
          3,
          4,
          5,
          6
         ],
         "xaxis": "x",
         "y": [
          0.25345300146807276,
          0.464786456018425,
          0.08798503643244845,
          0.41347966921222407,
          -0.09345158726951931,
          -0.2550759626651582
         ],
         "yaxis": "y"
        },
        {
         "hovertemplate": "Specter - ID=6270ff144b7ad6a07cbde14d<br>index=%{x}<br>value=%{y}<extra></extra>",
         "legendgroup": "6270ff144b7ad6a07cbde14d",
         "line": {
          "color": "#FECB52",
          "dash": "solid"
         },
         "marker": {
          "symbol": "circle"
         },
         "mode": "lines",
         "name": "6270ff144b7ad6a07cbde14d",
         "orientation": "v",
         "showlegend": true,
         "type": "scatter",
         "x": [
          1,
          2,
          3,
          4,
          5,
          6
         ],
         "xaxis": "x",
         "y": [
          0.0005620970964707972,
          0.9376566706898153,
          1.0855215090440111,
          1.2384704500409716,
          2.433837034226365,
          1.6651465489054749
         ],
         "yaxis": "y"
        }
       ],
       "layout": {
        "legend": {
         "title": {
          "text": "Specter - ID"
         },
         "tracegroupgap": 0
        },
        "template": {
         "data": {
          "bar": [
           {
            "error_x": {
             "color": "#2a3f5f"
            },
            "error_y": {
             "color": "#2a3f5f"
            },
            "marker": {
             "line": {
              "color": "#E5ECF6",
              "width": 0.5
             },
             "pattern": {
              "fillmode": "overlay",
              "size": 10,
              "solidity": 0.2
             }
            },
            "type": "bar"
           }
          ],
          "barpolar": [
           {
            "marker": {
             "line": {
              "color": "#E5ECF6",
              "width": 0.5
             },
             "pattern": {
              "fillmode": "overlay",
              "size": 10,
              "solidity": 0.2
             }
            },
            "type": "barpolar"
           }
          ],
          "carpet": [
           {
            "aaxis": {
             "endlinecolor": "#2a3f5f",
             "gridcolor": "white",
             "linecolor": "white",
             "minorgridcolor": "white",
             "startlinecolor": "#2a3f5f"
            },
            "baxis": {
             "endlinecolor": "#2a3f5f",
             "gridcolor": "white",
             "linecolor": "white",
             "minorgridcolor": "white",
             "startlinecolor": "#2a3f5f"
            },
            "type": "carpet"
           }
          ],
          "choropleth": [
           {
            "colorbar": {
             "outlinewidth": 0,
             "ticks": ""
            },
            "type": "choropleth"
           }
          ],
          "contour": [
           {
            "colorbar": {
             "outlinewidth": 0,
             "ticks": ""
            },
            "colorscale": [
             [
              0,
              "#0d0887"
             ],
             [
              0.1111111111111111,
              "#46039f"
             ],
             [
              0.2222222222222222,
              "#7201a8"
             ],
             [
              0.3333333333333333,
              "#9c179e"
             ],
             [
              0.4444444444444444,
              "#bd3786"
             ],
             [
              0.5555555555555556,
              "#d8576b"
             ],
             [
              0.6666666666666666,
              "#ed7953"
             ],
             [
              0.7777777777777778,
              "#fb9f3a"
             ],
             [
              0.8888888888888888,
              "#fdca26"
             ],
             [
              1,
              "#f0f921"
             ]
            ],
            "type": "contour"
           }
          ],
          "contourcarpet": [
           {
            "colorbar": {
             "outlinewidth": 0,
             "ticks": ""
            },
            "type": "contourcarpet"
           }
          ],
          "heatmap": [
           {
            "colorbar": {
             "outlinewidth": 0,
             "ticks": ""
            },
            "colorscale": [
             [
              0,
              "#0d0887"
             ],
             [
              0.1111111111111111,
              "#46039f"
             ],
             [
              0.2222222222222222,
              "#7201a8"
             ],
             [
              0.3333333333333333,
              "#9c179e"
             ],
             [
              0.4444444444444444,
              "#bd3786"
             ],
             [
              0.5555555555555556,
              "#d8576b"
             ],
             [
              0.6666666666666666,
              "#ed7953"
             ],
             [
              0.7777777777777778,
              "#fb9f3a"
             ],
             [
              0.8888888888888888,
              "#fdca26"
             ],
             [
              1,
              "#f0f921"
             ]
            ],
            "type": "heatmap"
           }
          ],
          "heatmapgl": [
           {
            "colorbar": {
             "outlinewidth": 0,
             "ticks": ""
            },
            "colorscale": [
             [
              0,
              "#0d0887"
             ],
             [
              0.1111111111111111,
              "#46039f"
             ],
             [
              0.2222222222222222,
              "#7201a8"
             ],
             [
              0.3333333333333333,
              "#9c179e"
             ],
             [
              0.4444444444444444,
              "#bd3786"
             ],
             [
              0.5555555555555556,
              "#d8576b"
             ],
             [
              0.6666666666666666,
              "#ed7953"
             ],
             [
              0.7777777777777778,
              "#fb9f3a"
             ],
             [
              0.8888888888888888,
              "#fdca26"
             ],
             [
              1,
              "#f0f921"
             ]
            ],
            "type": "heatmapgl"
           }
          ],
          "histogram": [
           {
            "marker": {
             "pattern": {
              "fillmode": "overlay",
              "size": 10,
              "solidity": 0.2
             }
            },
            "type": "histogram"
           }
          ],
          "histogram2d": [
           {
            "colorbar": {
             "outlinewidth": 0,
             "ticks": ""
            },
            "colorscale": [
             [
              0,
              "#0d0887"
             ],
             [
              0.1111111111111111,
              "#46039f"
             ],
             [
              0.2222222222222222,
              "#7201a8"
             ],
             [
              0.3333333333333333,
              "#9c179e"
             ],
             [
              0.4444444444444444,
              "#bd3786"
             ],
             [
              0.5555555555555556,
              "#d8576b"
             ],
             [
              0.6666666666666666,
              "#ed7953"
             ],
             [
              0.7777777777777778,
              "#fb9f3a"
             ],
             [
              0.8888888888888888,
              "#fdca26"
             ],
             [
              1,
              "#f0f921"
             ]
            ],
            "type": "histogram2d"
           }
          ],
          "histogram2dcontour": [
           {
            "colorbar": {
             "outlinewidth": 0,
             "ticks": ""
            },
            "colorscale": [
             [
              0,
              "#0d0887"
             ],
             [
              0.1111111111111111,
              "#46039f"
             ],
             [
              0.2222222222222222,
              "#7201a8"
             ],
             [
              0.3333333333333333,
              "#9c179e"
             ],
             [
              0.4444444444444444,
              "#bd3786"
             ],
             [
              0.5555555555555556,
              "#d8576b"
             ],
             [
              0.6666666666666666,
              "#ed7953"
             ],
             [
              0.7777777777777778,
              "#fb9f3a"
             ],
             [
              0.8888888888888888,
              "#fdca26"
             ],
             [
              1,
              "#f0f921"
             ]
            ],
            "type": "histogram2dcontour"
           }
          ],
          "mesh3d": [
           {
            "colorbar": {
             "outlinewidth": 0,
             "ticks": ""
            },
            "type": "mesh3d"
           }
          ],
          "parcoords": [
           {
            "line": {
             "colorbar": {
              "outlinewidth": 0,
              "ticks": ""
             }
            },
            "type": "parcoords"
           }
          ],
          "pie": [
           {
            "automargin": true,
            "type": "pie"
           }
          ],
          "scatter": [
           {
            "fillpattern": {
             "fillmode": "overlay",
             "size": 10,
             "solidity": 0.2
            },
            "type": "scatter"
           }
          ],
          "scatter3d": [
           {
            "line": {
             "colorbar": {
              "outlinewidth": 0,
              "ticks": ""
             }
            },
            "marker": {
             "colorbar": {
              "outlinewidth": 0,
              "ticks": ""
             }
            },
            "type": "scatter3d"
           }
          ],
          "scattercarpet": [
           {
            "marker": {
             "colorbar": {
              "outlinewidth": 0,
              "ticks": ""
             }
            },
            "type": "scattercarpet"
           }
          ],
          "scattergeo": [
           {
            "marker": {
             "colorbar": {
              "outlinewidth": 0,
              "ticks": ""
             }
            },
            "type": "scattergeo"
           }
          ],
          "scattergl": [
           {
            "marker": {
             "colorbar": {
              "outlinewidth": 0,
              "ticks": ""
             }
            },
            "type": "scattergl"
           }
          ],
          "scattermapbox": [
           {
            "marker": {
             "colorbar": {
              "outlinewidth": 0,
              "ticks": ""
             }
            },
            "type": "scattermapbox"
           }
          ],
          "scatterpolar": [
           {
            "marker": {
             "colorbar": {
              "outlinewidth": 0,
              "ticks": ""
             }
            },
            "type": "scatterpolar"
           }
          ],
          "scatterpolargl": [
           {
            "marker": {
             "colorbar": {
              "outlinewidth": 0,
              "ticks": ""
             }
            },
            "type": "scatterpolargl"
           }
          ],
          "scatterternary": [
           {
            "marker": {
             "colorbar": {
              "outlinewidth": 0,
              "ticks": ""
             }
            },
            "type": "scatterternary"
           }
          ],
          "surface": [
           {
            "colorbar": {
             "outlinewidth": 0,
             "ticks": ""
            },
            "colorscale": [
             [
              0,
              "#0d0887"
             ],
             [
              0.1111111111111111,
              "#46039f"
             ],
             [
              0.2222222222222222,
              "#7201a8"
             ],
             [
              0.3333333333333333,
              "#9c179e"
             ],
             [
              0.4444444444444444,
              "#bd3786"
             ],
             [
              0.5555555555555556,
              "#d8576b"
             ],
             [
              0.6666666666666666,
              "#ed7953"
             ],
             [
              0.7777777777777778,
              "#fb9f3a"
             ],
             [
              0.8888888888888888,
              "#fdca26"
             ],
             [
              1,
              "#f0f921"
             ]
            ],
            "type": "surface"
           }
          ],
          "table": [
           {
            "cells": {
             "fill": {
              "color": "#EBF0F8"
             },
             "line": {
              "color": "white"
             }
            },
            "header": {
             "fill": {
              "color": "#C8D4E3"
             },
             "line": {
              "color": "white"
             }
            },
            "type": "table"
           }
          ]
         },
         "layout": {
          "annotationdefaults": {
           "arrowcolor": "#2a3f5f",
           "arrowhead": 0,
           "arrowwidth": 1
          },
          "autotypenumbers": "strict",
          "coloraxis": {
           "colorbar": {
            "outlinewidth": 0,
            "ticks": ""
           }
          },
          "colorscale": {
           "diverging": [
            [
             0,
             "#8e0152"
            ],
            [
             0.1,
             "#c51b7d"
            ],
            [
             0.2,
             "#de77ae"
            ],
            [
             0.3,
             "#f1b6da"
            ],
            [
             0.4,
             "#fde0ef"
            ],
            [
             0.5,
             "#f7f7f7"
            ],
            [
             0.6,
             "#e6f5d0"
            ],
            [
             0.7,
             "#b8e186"
            ],
            [
             0.8,
             "#7fbc41"
            ],
            [
             0.9,
             "#4d9221"
            ],
            [
             1,
             "#276419"
            ]
           ],
           "sequential": [
            [
             0,
             "#0d0887"
            ],
            [
             0.1111111111111111,
             "#46039f"
            ],
            [
             0.2222222222222222,
             "#7201a8"
            ],
            [
             0.3333333333333333,
             "#9c179e"
            ],
            [
             0.4444444444444444,
             "#bd3786"
            ],
            [
             0.5555555555555556,
             "#d8576b"
            ],
            [
             0.6666666666666666,
             "#ed7953"
            ],
            [
             0.7777777777777778,
             "#fb9f3a"
            ],
            [
             0.8888888888888888,
             "#fdca26"
            ],
            [
             1,
             "#f0f921"
            ]
           ],
           "sequentialminus": [
            [
             0,
             "#0d0887"
            ],
            [
             0.1111111111111111,
             "#46039f"
            ],
            [
             0.2222222222222222,
             "#7201a8"
            ],
            [
             0.3333333333333333,
             "#9c179e"
            ],
            [
             0.4444444444444444,
             "#bd3786"
            ],
            [
             0.5555555555555556,
             "#d8576b"
            ],
            [
             0.6666666666666666,
             "#ed7953"
            ],
            [
             0.7777777777777778,
             "#fb9f3a"
            ],
            [
             0.8888888888888888,
             "#fdca26"
            ],
            [
             1,
             "#f0f921"
            ]
           ]
          },
          "colorway": [
           "#636efa",
           "#EF553B",
           "#00cc96",
           "#ab63fa",
           "#FFA15A",
           "#19d3f3",
           "#FF6692",
           "#B6E880",
           "#FF97FF",
           "#FECB52"
          ],
          "font": {
           "color": "#2a3f5f"
          },
          "geo": {
           "bgcolor": "white",
           "lakecolor": "white",
           "landcolor": "#E5ECF6",
           "showlakes": true,
           "showland": true,
           "subunitcolor": "white"
          },
          "hoverlabel": {
           "align": "left"
          },
          "hovermode": "closest",
          "mapbox": {
           "style": "light"
          },
          "paper_bgcolor": "white",
          "plot_bgcolor": "#E5ECF6",
          "polar": {
           "angularaxis": {
            "gridcolor": "white",
            "linecolor": "white",
            "ticks": ""
           },
           "bgcolor": "#E5ECF6",
           "radialaxis": {
            "gridcolor": "white",
            "linecolor": "white",
            "ticks": ""
           }
          },
          "scene": {
           "xaxis": {
            "backgroundcolor": "#E5ECF6",
            "gridcolor": "white",
            "gridwidth": 2,
            "linecolor": "white",
            "showbackground": true,
            "ticks": "",
            "zerolinecolor": "white"
           },
           "yaxis": {
            "backgroundcolor": "#E5ECF6",
            "gridcolor": "white",
            "gridwidth": 2,
            "linecolor": "white",
            "showbackground": true,
            "ticks": "",
            "zerolinecolor": "white"
           },
           "zaxis": {
            "backgroundcolor": "#E5ECF6",
            "gridcolor": "white",
            "gridwidth": 2,
            "linecolor": "white",
            "showbackground": true,
            "ticks": "",
            "zerolinecolor": "white"
           }
          },
          "shapedefaults": {
           "line": {
            "color": "#2a3f5f"
           }
          },
          "ternary": {
           "aaxis": {
            "gridcolor": "white",
            "linecolor": "white",
            "ticks": ""
           },
           "baxis": {
            "gridcolor": "white",
            "linecolor": "white",
            "ticks": ""
           },
           "bgcolor": "#E5ECF6",
           "caxis": {
            "gridcolor": "white",
            "linecolor": "white",
            "ticks": ""
           }
          },
          "title": {
           "x": 0.05
          },
          "xaxis": {
           "automargin": true,
           "gridcolor": "white",
           "linecolor": "white",
           "ticks": "",
           "title": {
            "standoff": 15
           },
           "zerolinecolor": "white",
           "zerolinewidth": 2
          },
          "yaxis": {
           "automargin": true,
           "gridcolor": "white",
           "linecolor": "white",
           "ticks": "",
           "title": {
            "standoff": 15
           },
           "zerolinecolor": "white",
           "zerolinewidth": 2
          }
         }
        },
        "title": {
         "text": "Normalized web_popularity_rank Growth of Top 10 Companies by Slope"
        },
        "xaxis": {
         "anchor": "y",
         "domain": [
          0,
          1
         ],
         "title": {
          "text": "index"
         }
        },
        "yaxis": {
         "anchor": "x",
         "domain": [
          0,
          1
         ],
         "title": {
          "text": "value"
         }
        }
       }
      }
     },
     "metadata": {},
     "output_type": "display_data"
    },
    {
     "data": {
      "application/vnd.plotly.v1+json": {
       "config": {
        "plotlyServerURL": "https://plot.ly"
       },
       "data": [
        {
         "hovertemplate": "Specter - ID=624b27ade4e2dbb8bd31f978<br>index=%{x}<br>value=%{y}<extra></extra>",
         "legendgroup": "624b27ade4e2dbb8bd31f978",
         "line": {
          "color": "#636efa",
          "dash": "solid"
         },
         "marker": {
          "symbol": "circle"
         },
         "mode": "lines",
         "name": "624b27ade4e2dbb8bd31f978",
         "orientation": "v",
         "showlegend": true,
         "type": "scatter",
         "x": [
          1,
          2,
          3,
          4,
          5,
          6
         ],
         "xaxis": "x",
         "y": [
          0.012448132780082987,
          0.0912863070539419,
          0.18672199170124482,
          0.3278008298755187,
          0.6721991701244814,
          0.9585062240663901
         ],
         "yaxis": "y"
        },
        {
         "hovertemplate": "Specter - ID=62735f4801ed2520137224ce<br>index=%{x}<br>value=%{y}<extra></extra>",
         "legendgroup": "62735f4801ed2520137224ce",
         "line": {
          "color": "#EF553B",
          "dash": "solid"
         },
         "marker": {
          "symbol": "circle"
         },
         "mode": "lines",
         "name": "62735f4801ed2520137224ce",
         "orientation": "v",
         "showlegend": true,
         "type": "scatter",
         "x": [
          1,
          2,
          3,
          4,
          5,
          6
         ],
         "xaxis": "x",
         "y": [
          0.10434782608695652,
          0.17391304347826086,
          0.23478260869565218,
          0.3217391304347826,
          0.391304347826087,
          0.4
         ],
         "yaxis": "y"
        },
        {
         "hovertemplate": "Specter - ID=627100104b7ad6a07cc251f5<br>index=%{x}<br>value=%{y}<extra></extra>",
         "legendgroup": "627100104b7ad6a07cc251f5",
         "line": {
          "color": "#00cc96",
          "dash": "solid"
         },
         "marker": {
          "symbol": "circle"
         },
         "mode": "lines",
         "name": "627100104b7ad6a07cc251f5",
         "orientation": "v",
         "showlegend": true,
         "type": "scatter",
         "x": [
          1,
          2,
          3,
          4,
          5,
          6
         ],
         "xaxis": "x",
         "y": [
          0.15597616543988785,
          0.3052926743778479,
          0.3922187171398528,
          0.47563967753242203,
          0.5892043463021381,
          0.655800911321416
         ],
         "yaxis": "y"
        },
        {
         "hovertemplate": "Specter - ID=6270ff004b7ad6a07cbd8ec0<br>index=%{x}<br>value=%{y}<extra></extra>",
         "legendgroup": "6270ff004b7ad6a07cbd8ec0",
         "line": {
          "color": "#ab63fa",
          "dash": "solid"
         },
         "marker": {
          "symbol": "circle"
         },
         "mode": "lines",
         "name": "6270ff004b7ad6a07cbd8ec0",
         "orientation": "v",
         "showlegend": true,
         "type": "scatter",
         "x": [
          1,
          2,
          3,
          4,
          5,
          6
         ],
         "xaxis": "x",
         "y": [
          0.09070796460176991,
          0.17699115044247787,
          0.27876106194690264,
          0.5730088495575221,
          0.8650442477876106,
          0.8849557522123894
         ],
         "yaxis": "y"
        },
        {
         "hovertemplate": "Specter - ID=5e3b9057137e998b5ae6cc7e<br>index=%{x}<br>value=%{y}<extra></extra>",
         "legendgroup": "5e3b9057137e998b5ae6cc7e",
         "line": {
          "color": "#FFA15A",
          "dash": "solid"
         },
         "marker": {
          "symbol": "circle"
         },
         "mode": "lines",
         "name": "5e3b9057137e998b5ae6cc7e",
         "orientation": "v",
         "showlegend": true,
         "type": "scatter",
         "x": [
          1,
          2,
          3,
          4,
          5,
          6
         ],
         "xaxis": "x",
         "y": [
          0.01702127659574468,
          0.02127659574468085,
          0.07234042553191489,
          0.10638297872340426,
          0.13191489361702127,
          0.19148936170212766
         ],
         "yaxis": "y"
        },
        {
         "hovertemplate": "Specter - ID=61fcf5e362adc22ead73101f<br>index=%{x}<br>value=%{y}<extra></extra>",
         "legendgroup": "61fcf5e362adc22ead73101f",
         "line": {
          "color": "#19d3f3",
          "dash": "solid"
         },
         "marker": {
          "symbol": "circle"
         },
         "mode": "lines",
         "name": "61fcf5e362adc22ead73101f",
         "orientation": "v",
         "showlegend": true,
         "type": "scatter",
         "x": [
          1,
          2,
          3,
          4,
          5,
          6
         ],
         "xaxis": "x",
         "y": [
          0.21052631578947367,
          0.3684210526315789,
          0.39473684210526316,
          0.5,
          0.5526315789473685,
          0.7894736842105263
         ],
         "yaxis": "y"
        },
        {
         "hovertemplate": "Specter - ID=5ebcdac5332603f591de8a88<br>index=%{x}<br>value=%{y}<extra></extra>",
         "legendgroup": "5ebcdac5332603f591de8a88",
         "line": {
          "color": "#FF6692",
          "dash": "solid"
         },
         "marker": {
          "symbol": "circle"
         },
         "mode": "lines",
         "name": "5ebcdac5332603f591de8a88",
         "orientation": "v",
         "showlegend": true,
         "type": "scatter",
         "x": [
          1,
          2,
          3,
          4,
          5,
          6
         ],
         "xaxis": "x",
         "y": [
          0.04,
          0.056,
          0.092,
          0.152,
          0.172,
          0.176
         ],
         "yaxis": "y"
        },
        {
         "hovertemplate": "Specter - ID=629cc201cf28682e15f5aec8<br>index=%{x}<br>value=%{y}<extra></extra>",
         "legendgroup": "629cc201cf28682e15f5aec8",
         "line": {
          "color": "#B6E880",
          "dash": "solid"
         },
         "marker": {
          "symbol": "circle"
         },
         "mode": "lines",
         "name": "629cc201cf28682e15f5aec8",
         "orientation": "v",
         "showlegend": true,
         "type": "scatter",
         "x": [
          1,
          2,
          3,
          4,
          5,
          6
         ],
         "xaxis": "x",
         "y": [
          0.11874533233756535,
          0.16654219566840925,
          0.36445108289768485,
          0.40627333831217327,
          0.4764749813293503,
          0.8020911127707244
         ],
         "yaxis": "y"
        },
        {
         "hovertemplate": "Specter - ID=601c18f94ddab8d8bff584b8<br>index=%{x}<br>value=%{y}<extra></extra>",
         "legendgroup": "601c18f94ddab8d8bff584b8",
         "line": {
          "color": "#FF97FF",
          "dash": "solid"
         },
         "marker": {
          "symbol": "circle"
         },
         "mode": "lines",
         "name": "601c18f94ddab8d8bff584b8",
         "orientation": "v",
         "showlegend": true,
         "type": "scatter",
         "x": [
          1,
          2,
          3,
          4,
          5,
          6
         ],
         "xaxis": "x",
         "y": [
          0.09399930627818245,
          0.12660423170308707,
          0.21054457162677767,
          0.24627124523066252,
          0.29101630246271243,
          0.33853624696496704
         ],
         "yaxis": "y"
        },
        {
         "hovertemplate": "Specter - ID=6270ff144b7ad6a07cbde14d<br>index=%{x}<br>value=%{y}<extra></extra>",
         "legendgroup": "6270ff144b7ad6a07cbde14d",
         "line": {
          "color": "#FECB52",
          "dash": "solid"
         },
         "marker": {
          "symbol": "circle"
         },
         "mode": "lines",
         "name": "6270ff144b7ad6a07cbde14d",
         "orientation": "v",
         "showlegend": true,
         "type": "scatter",
         "x": [
          1,
          2,
          3,
          4,
          5,
          6
         ],
         "xaxis": "x",
         "y": [
          0,
          0,
          0,
          0,
          0,
          0
         ],
         "yaxis": "y"
        }
       ],
       "layout": {
        "legend": {
         "title": {
          "text": "Specter - ID"
         },
         "tracegroupgap": 0
        },
        "template": {
         "data": {
          "bar": [
           {
            "error_x": {
             "color": "#2a3f5f"
            },
            "error_y": {
             "color": "#2a3f5f"
            },
            "marker": {
             "line": {
              "color": "#E5ECF6",
              "width": 0.5
             },
             "pattern": {
              "fillmode": "overlay",
              "size": 10,
              "solidity": 0.2
             }
            },
            "type": "bar"
           }
          ],
          "barpolar": [
           {
            "marker": {
             "line": {
              "color": "#E5ECF6",
              "width": 0.5
             },
             "pattern": {
              "fillmode": "overlay",
              "size": 10,
              "solidity": 0.2
             }
            },
            "type": "barpolar"
           }
          ],
          "carpet": [
           {
            "aaxis": {
             "endlinecolor": "#2a3f5f",
             "gridcolor": "white",
             "linecolor": "white",
             "minorgridcolor": "white",
             "startlinecolor": "#2a3f5f"
            },
            "baxis": {
             "endlinecolor": "#2a3f5f",
             "gridcolor": "white",
             "linecolor": "white",
             "minorgridcolor": "white",
             "startlinecolor": "#2a3f5f"
            },
            "type": "carpet"
           }
          ],
          "choropleth": [
           {
            "colorbar": {
             "outlinewidth": 0,
             "ticks": ""
            },
            "type": "choropleth"
           }
          ],
          "contour": [
           {
            "colorbar": {
             "outlinewidth": 0,
             "ticks": ""
            },
            "colorscale": [
             [
              0,
              "#0d0887"
             ],
             [
              0.1111111111111111,
              "#46039f"
             ],
             [
              0.2222222222222222,
              "#7201a8"
             ],
             [
              0.3333333333333333,
              "#9c179e"
             ],
             [
              0.4444444444444444,
              "#bd3786"
             ],
             [
              0.5555555555555556,
              "#d8576b"
             ],
             [
              0.6666666666666666,
              "#ed7953"
             ],
             [
              0.7777777777777778,
              "#fb9f3a"
             ],
             [
              0.8888888888888888,
              "#fdca26"
             ],
             [
              1,
              "#f0f921"
             ]
            ],
            "type": "contour"
           }
          ],
          "contourcarpet": [
           {
            "colorbar": {
             "outlinewidth": 0,
             "ticks": ""
            },
            "type": "contourcarpet"
           }
          ],
          "heatmap": [
           {
            "colorbar": {
             "outlinewidth": 0,
             "ticks": ""
            },
            "colorscale": [
             [
              0,
              "#0d0887"
             ],
             [
              0.1111111111111111,
              "#46039f"
             ],
             [
              0.2222222222222222,
              "#7201a8"
             ],
             [
              0.3333333333333333,
              "#9c179e"
             ],
             [
              0.4444444444444444,
              "#bd3786"
             ],
             [
              0.5555555555555556,
              "#d8576b"
             ],
             [
              0.6666666666666666,
              "#ed7953"
             ],
             [
              0.7777777777777778,
              "#fb9f3a"
             ],
             [
              0.8888888888888888,
              "#fdca26"
             ],
             [
              1,
              "#f0f921"
             ]
            ],
            "type": "heatmap"
           }
          ],
          "heatmapgl": [
           {
            "colorbar": {
             "outlinewidth": 0,
             "ticks": ""
            },
            "colorscale": [
             [
              0,
              "#0d0887"
             ],
             [
              0.1111111111111111,
              "#46039f"
             ],
             [
              0.2222222222222222,
              "#7201a8"
             ],
             [
              0.3333333333333333,
              "#9c179e"
             ],
             [
              0.4444444444444444,
              "#bd3786"
             ],
             [
              0.5555555555555556,
              "#d8576b"
             ],
             [
              0.6666666666666666,
              "#ed7953"
             ],
             [
              0.7777777777777778,
              "#fb9f3a"
             ],
             [
              0.8888888888888888,
              "#fdca26"
             ],
             [
              1,
              "#f0f921"
             ]
            ],
            "type": "heatmapgl"
           }
          ],
          "histogram": [
           {
            "marker": {
             "pattern": {
              "fillmode": "overlay",
              "size": 10,
              "solidity": 0.2
             }
            },
            "type": "histogram"
           }
          ],
          "histogram2d": [
           {
            "colorbar": {
             "outlinewidth": 0,
             "ticks": ""
            },
            "colorscale": [
             [
              0,
              "#0d0887"
             ],
             [
              0.1111111111111111,
              "#46039f"
             ],
             [
              0.2222222222222222,
              "#7201a8"
             ],
             [
              0.3333333333333333,
              "#9c179e"
             ],
             [
              0.4444444444444444,
              "#bd3786"
             ],
             [
              0.5555555555555556,
              "#d8576b"
             ],
             [
              0.6666666666666666,
              "#ed7953"
             ],
             [
              0.7777777777777778,
              "#fb9f3a"
             ],
             [
              0.8888888888888888,
              "#fdca26"
             ],
             [
              1,
              "#f0f921"
             ]
            ],
            "type": "histogram2d"
           }
          ],
          "histogram2dcontour": [
           {
            "colorbar": {
             "outlinewidth": 0,
             "ticks": ""
            },
            "colorscale": [
             [
              0,
              "#0d0887"
             ],
             [
              0.1111111111111111,
              "#46039f"
             ],
             [
              0.2222222222222222,
              "#7201a8"
             ],
             [
              0.3333333333333333,
              "#9c179e"
             ],
             [
              0.4444444444444444,
              "#bd3786"
             ],
             [
              0.5555555555555556,
              "#d8576b"
             ],
             [
              0.6666666666666666,
              "#ed7953"
             ],
             [
              0.7777777777777778,
              "#fb9f3a"
             ],
             [
              0.8888888888888888,
              "#fdca26"
             ],
             [
              1,
              "#f0f921"
             ]
            ],
            "type": "histogram2dcontour"
           }
          ],
          "mesh3d": [
           {
            "colorbar": {
             "outlinewidth": 0,
             "ticks": ""
            },
            "type": "mesh3d"
           }
          ],
          "parcoords": [
           {
            "line": {
             "colorbar": {
              "outlinewidth": 0,
              "ticks": ""
             }
            },
            "type": "parcoords"
           }
          ],
          "pie": [
           {
            "automargin": true,
            "type": "pie"
           }
          ],
          "scatter": [
           {
            "fillpattern": {
             "fillmode": "overlay",
             "size": 10,
             "solidity": 0.2
            },
            "type": "scatter"
           }
          ],
          "scatter3d": [
           {
            "line": {
             "colorbar": {
              "outlinewidth": 0,
              "ticks": ""
             }
            },
            "marker": {
             "colorbar": {
              "outlinewidth": 0,
              "ticks": ""
             }
            },
            "type": "scatter3d"
           }
          ],
          "scattercarpet": [
           {
            "marker": {
             "colorbar": {
              "outlinewidth": 0,
              "ticks": ""
             }
            },
            "type": "scattercarpet"
           }
          ],
          "scattergeo": [
           {
            "marker": {
             "colorbar": {
              "outlinewidth": 0,
              "ticks": ""
             }
            },
            "type": "scattergeo"
           }
          ],
          "scattergl": [
           {
            "marker": {
             "colorbar": {
              "outlinewidth": 0,
              "ticks": ""
             }
            },
            "type": "scattergl"
           }
          ],
          "scattermapbox": [
           {
            "marker": {
             "colorbar": {
              "outlinewidth": 0,
              "ticks": ""
             }
            },
            "type": "scattermapbox"
           }
          ],
          "scatterpolar": [
           {
            "marker": {
             "colorbar": {
              "outlinewidth": 0,
              "ticks": ""
             }
            },
            "type": "scatterpolar"
           }
          ],
          "scatterpolargl": [
           {
            "marker": {
             "colorbar": {
              "outlinewidth": 0,
              "ticks": ""
             }
            },
            "type": "scatterpolargl"
           }
          ],
          "scatterternary": [
           {
            "marker": {
             "colorbar": {
              "outlinewidth": 0,
              "ticks": ""
             }
            },
            "type": "scatterternary"
           }
          ],
          "surface": [
           {
            "colorbar": {
             "outlinewidth": 0,
             "ticks": ""
            },
            "colorscale": [
             [
              0,
              "#0d0887"
             ],
             [
              0.1111111111111111,
              "#46039f"
             ],
             [
              0.2222222222222222,
              "#7201a8"
             ],
             [
              0.3333333333333333,
              "#9c179e"
             ],
             [
              0.4444444444444444,
              "#bd3786"
             ],
             [
              0.5555555555555556,
              "#d8576b"
             ],
             [
              0.6666666666666666,
              "#ed7953"
             ],
             [
              0.7777777777777778,
              "#fb9f3a"
             ],
             [
              0.8888888888888888,
              "#fdca26"
             ],
             [
              1,
              "#f0f921"
             ]
            ],
            "type": "surface"
           }
          ],
          "table": [
           {
            "cells": {
             "fill": {
              "color": "#EBF0F8"
             },
             "line": {
              "color": "white"
             }
            },
            "header": {
             "fill": {
              "color": "#C8D4E3"
             },
             "line": {
              "color": "white"
             }
            },
            "type": "table"
           }
          ]
         },
         "layout": {
          "annotationdefaults": {
           "arrowcolor": "#2a3f5f",
           "arrowhead": 0,
           "arrowwidth": 1
          },
          "autotypenumbers": "strict",
          "coloraxis": {
           "colorbar": {
            "outlinewidth": 0,
            "ticks": ""
           }
          },
          "colorscale": {
           "diverging": [
            [
             0,
             "#8e0152"
            ],
            [
             0.1,
             "#c51b7d"
            ],
            [
             0.2,
             "#de77ae"
            ],
            [
             0.3,
             "#f1b6da"
            ],
            [
             0.4,
             "#fde0ef"
            ],
            [
             0.5,
             "#f7f7f7"
            ],
            [
             0.6,
             "#e6f5d0"
            ],
            [
             0.7,
             "#b8e186"
            ],
            [
             0.8,
             "#7fbc41"
            ],
            [
             0.9,
             "#4d9221"
            ],
            [
             1,
             "#276419"
            ]
           ],
           "sequential": [
            [
             0,
             "#0d0887"
            ],
            [
             0.1111111111111111,
             "#46039f"
            ],
            [
             0.2222222222222222,
             "#7201a8"
            ],
            [
             0.3333333333333333,
             "#9c179e"
            ],
            [
             0.4444444444444444,
             "#bd3786"
            ],
            [
             0.5555555555555556,
             "#d8576b"
            ],
            [
             0.6666666666666666,
             "#ed7953"
            ],
            [
             0.7777777777777778,
             "#fb9f3a"
            ],
            [
             0.8888888888888888,
             "#fdca26"
            ],
            [
             1,
             "#f0f921"
            ]
           ],
           "sequentialminus": [
            [
             0,
             "#0d0887"
            ],
            [
             0.1111111111111111,
             "#46039f"
            ],
            [
             0.2222222222222222,
             "#7201a8"
            ],
            [
             0.3333333333333333,
             "#9c179e"
            ],
            [
             0.4444444444444444,
             "#bd3786"
            ],
            [
             0.5555555555555556,
             "#d8576b"
            ],
            [
             0.6666666666666666,
             "#ed7953"
            ],
            [
             0.7777777777777778,
             "#fb9f3a"
            ],
            [
             0.8888888888888888,
             "#fdca26"
            ],
            [
             1,
             "#f0f921"
            ]
           ]
          },
          "colorway": [
           "#636efa",
           "#EF553B",
           "#00cc96",
           "#ab63fa",
           "#FFA15A",
           "#19d3f3",
           "#FF6692",
           "#B6E880",
           "#FF97FF",
           "#FECB52"
          ],
          "font": {
           "color": "#2a3f5f"
          },
          "geo": {
           "bgcolor": "white",
           "lakecolor": "white",
           "landcolor": "#E5ECF6",
           "showlakes": true,
           "showland": true,
           "subunitcolor": "white"
          },
          "hoverlabel": {
           "align": "left"
          },
          "hovermode": "closest",
          "mapbox": {
           "style": "light"
          },
          "paper_bgcolor": "white",
          "plot_bgcolor": "#E5ECF6",
          "polar": {
           "angularaxis": {
            "gridcolor": "white",
            "linecolor": "white",
            "ticks": ""
           },
           "bgcolor": "#E5ECF6",
           "radialaxis": {
            "gridcolor": "white",
            "linecolor": "white",
            "ticks": ""
           }
          },
          "scene": {
           "xaxis": {
            "backgroundcolor": "#E5ECF6",
            "gridcolor": "white",
            "gridwidth": 2,
            "linecolor": "white",
            "showbackground": true,
            "ticks": "",
            "zerolinecolor": "white"
           },
           "yaxis": {
            "backgroundcolor": "#E5ECF6",
            "gridcolor": "white",
            "gridwidth": 2,
            "linecolor": "white",
            "showbackground": true,
            "ticks": "",
            "zerolinecolor": "white"
           },
           "zaxis": {
            "backgroundcolor": "#E5ECF6",
            "gridcolor": "white",
            "gridwidth": 2,
            "linecolor": "white",
            "showbackground": true,
            "ticks": "",
            "zerolinecolor": "white"
           }
          },
          "shapedefaults": {
           "line": {
            "color": "#2a3f5f"
           }
          },
          "ternary": {
           "aaxis": {
            "gridcolor": "white",
            "linecolor": "white",
            "ticks": ""
           },
           "baxis": {
            "gridcolor": "white",
            "linecolor": "white",
            "ticks": ""
           },
           "bgcolor": "#E5ECF6",
           "caxis": {
            "gridcolor": "white",
            "linecolor": "white",
            "ticks": ""
           }
          },
          "title": {
           "x": 0.05
          },
          "xaxis": {
           "automargin": true,
           "gridcolor": "white",
           "linecolor": "white",
           "ticks": "",
           "title": {
            "standoff": 15
           },
           "zerolinecolor": "white",
           "zerolinewidth": 2
          },
          "yaxis": {
           "automargin": true,
           "gridcolor": "white",
           "linecolor": "white",
           "ticks": "",
           "title": {
            "standoff": 15
           },
           "zerolinecolor": "white",
           "zerolinewidth": 2
          }
         }
        },
        "title": {
         "text": "Normalized linkedin_followers Growth of Top 10 Companies by Slope"
        },
        "xaxis": {
         "anchor": "y",
         "domain": [
          0,
          1
         ],
         "title": {
          "text": "index"
         }
        },
        "yaxis": {
         "anchor": "x",
         "domain": [
          0,
          1
         ],
         "title": {
          "text": "value"
         }
        }
       }
      }
     },
     "metadata": {},
     "output_type": "display_data"
    },
    {
     "data": {
      "application/vnd.plotly.v1+json": {
       "config": {
        "plotlyServerURL": "https://plot.ly"
       },
       "data": [
        {
         "hovertemplate": "Specter - ID=624b27ade4e2dbb8bd31f978<br>index=%{x}<br>value=%{y}<extra></extra>",
         "legendgroup": "624b27ade4e2dbb8bd31f978",
         "line": {
          "color": "#636efa",
          "dash": "solid"
         },
         "marker": {
          "symbol": "circle"
         },
         "mode": "lines",
         "name": "624b27ade4e2dbb8bd31f978",
         "orientation": "v",
         "showlegend": true,
         "type": "scatter",
         "x": [
          1,
          2,
          3,
          4,
          5,
          6
         ],
         "xaxis": "x",
         "y": [
          0,
          0,
          0,
          0,
          0,
          0
         ],
         "yaxis": "y"
        },
        {
         "hovertemplate": "Specter - ID=62735f4801ed2520137224ce<br>index=%{x}<br>value=%{y}<extra></extra>",
         "legendgroup": "62735f4801ed2520137224ce",
         "line": {
          "color": "#EF553B",
          "dash": "solid"
         },
         "marker": {
          "symbol": "circle"
         },
         "mode": "lines",
         "name": "62735f4801ed2520137224ce",
         "orientation": "v",
         "showlegend": true,
         "type": "scatter",
         "x": [
          1,
          2,
          3,
          4,
          5,
          6
         ],
         "xaxis": "x",
         "y": [
          0.006211180124223602,
          0.09316770186335403,
          0.43167701863354035,
          0.4472049689440994,
          0.45652173913043476,
          0.45962732919254656
         ],
         "yaxis": "y"
        },
        {
         "hovertemplate": "Specter - ID=627100104b7ad6a07cc251f5<br>index=%{x}<br>value=%{y}<extra></extra>",
         "legendgroup": "627100104b7ad6a07cc251f5",
         "line": {
          "color": "#00cc96",
          "dash": "solid"
         },
         "marker": {
          "symbol": "circle"
         },
         "mode": "lines",
         "name": "627100104b7ad6a07cc251f5",
         "orientation": "v",
         "showlegend": true,
         "type": "scatter",
         "x": [
          1,
          2,
          3,
          4,
          5,
          6
         ],
         "xaxis": "x",
         "y": [
          0,
          0,
          0,
          0,
          0,
          0
         ],
         "yaxis": "y"
        },
        {
         "hovertemplate": "Specter - ID=6270ff004b7ad6a07cbd8ec0<br>index=%{x}<br>value=%{y}<extra></extra>",
         "legendgroup": "6270ff004b7ad6a07cbd8ec0",
         "line": {
          "color": "#ab63fa",
          "dash": "solid"
         },
         "marker": {
          "symbol": "circle"
         },
         "mode": "lines",
         "name": "6270ff004b7ad6a07cbd8ec0",
         "orientation": "v",
         "showlegend": true,
         "type": "scatter",
         "x": [
          1,
          2,
          3,
          4,
          5,
          6
         ],
         "xaxis": "x",
         "y": [
          -0.022727272727272728,
          -0.06818181818181818,
          -0.09090909090909091,
          -0.23484848484848486,
          -0.42424242424242425,
          0.9848484848484849
         ],
         "yaxis": "y"
        },
        {
         "hovertemplate": "Specter - ID=5e3b9057137e998b5ae6cc7e<br>index=%{x}<br>value=%{y}<extra></extra>",
         "legendgroup": "5e3b9057137e998b5ae6cc7e",
         "line": {
          "color": "#FFA15A",
          "dash": "solid"
         },
         "marker": {
          "symbol": "circle"
         },
         "mode": "lines",
         "name": "5e3b9057137e998b5ae6cc7e",
         "orientation": "v",
         "showlegend": true,
         "type": "scatter",
         "x": [
          1,
          2,
          3,
          4,
          5,
          6
         ],
         "xaxis": "x",
         "y": [
          0.03125,
          0.03125,
          0,
          0.03125,
          0.03125,
          0.03125
         ],
         "yaxis": "y"
        },
        {
         "hovertemplate": "Specter - ID=61fcf5e362adc22ead73101f<br>index=%{x}<br>value=%{y}<extra></extra>",
         "legendgroup": "61fcf5e362adc22ead73101f",
         "line": {
          "color": "#19d3f3",
          "dash": "solid"
         },
         "marker": {
          "symbol": "circle"
         },
         "mode": "lines",
         "name": "61fcf5e362adc22ead73101f",
         "orientation": "v",
         "showlegend": true,
         "type": "scatter",
         "x": [
          1,
          2,
          3,
          4,
          5,
          6
         ],
         "xaxis": "x",
         "y": [
          0,
          0,
          0,
          0,
          0,
          0
         ],
         "yaxis": "y"
        },
        {
         "hovertemplate": "Specter - ID=5ebcdac5332603f591de8a88<br>index=%{x}<br>value=%{y}<extra></extra>",
         "legendgroup": "5ebcdac5332603f591de8a88",
         "line": {
          "color": "#FF6692",
          "dash": "solid"
         },
         "marker": {
          "symbol": "circle"
         },
         "mode": "lines",
         "name": "5ebcdac5332603f591de8a88",
         "orientation": "v",
         "showlegend": true,
         "type": "scatter",
         "x": [
          1,
          2,
          3,
          4,
          5,
          6
         ],
         "xaxis": "x",
         "y": [
          0.016981132075471698,
          0.005660377358490566,
          0.005660377358490566,
          0.007547169811320755,
          0.011320754716981131,
          0.013207547169811321
         ],
         "yaxis": "y"
        },
        {
         "hovertemplate": "Specter - ID=629cc201cf28682e15f5aec8<br>index=%{x}<br>value=%{y}<extra></extra>",
         "legendgroup": "629cc201cf28682e15f5aec8",
         "line": {
          "color": "#B6E880",
          "dash": "solid"
         },
         "marker": {
          "symbol": "circle"
         },
         "mode": "lines",
         "name": "629cc201cf28682e15f5aec8",
         "orientation": "v",
         "showlegend": true,
         "type": "scatter",
         "x": [
          1,
          2,
          3,
          4,
          5,
          6
         ],
         "xaxis": "x",
         "y": [
          0,
          0,
          0,
          0,
          0,
          0
         ],
         "yaxis": "y"
        },
        {
         "hovertemplate": "Specter - ID=601c18f94ddab8d8bff584b8<br>index=%{x}<br>value=%{y}<extra></extra>",
         "legendgroup": "601c18f94ddab8d8bff584b8",
         "line": {
          "color": "#FF97FF",
          "dash": "solid"
         },
         "marker": {
          "symbol": "circle"
         },
         "mode": "lines",
         "name": "601c18f94ddab8d8bff584b8",
         "orientation": "v",
         "showlegend": true,
         "type": "scatter",
         "x": [
          1,
          2,
          3,
          4,
          5,
          6
         ],
         "xaxis": "x",
         "y": [
          0.056980641630754496,
          0.11471372870921404,
          0.13072029550584854,
          0.15254121348929475,
          0.20548601135508585,
          0.27457418428073055
         ],
         "yaxis": "y"
        },
        {
         "hovertemplate": "Specter - ID=6270ff144b7ad6a07cbde14d<br>index=%{x}<br>value=%{y}<extra></extra>",
         "legendgroup": "6270ff144b7ad6a07cbde14d",
         "line": {
          "color": "#FECB52",
          "dash": "solid"
         },
         "marker": {
          "symbol": "circle"
         },
         "mode": "lines",
         "name": "6270ff144b7ad6a07cbde14d",
         "orientation": "v",
         "showlegend": true,
         "type": "scatter",
         "x": [
          1,
          2,
          3,
          4,
          5,
          6
         ],
         "xaxis": "x",
         "y": [
          0.10526315789473684,
          0.10526315789473684,
          0.21052631578947367,
          0.47368421052631576,
          0.5263157894736842,
          0.7894736842105263
         ],
         "yaxis": "y"
        }
       ],
       "layout": {
        "legend": {
         "title": {
          "text": "Specter - ID"
         },
         "tracegroupgap": 0
        },
        "template": {
         "data": {
          "bar": [
           {
            "error_x": {
             "color": "#2a3f5f"
            },
            "error_y": {
             "color": "#2a3f5f"
            },
            "marker": {
             "line": {
              "color": "#E5ECF6",
              "width": 0.5
             },
             "pattern": {
              "fillmode": "overlay",
              "size": 10,
              "solidity": 0.2
             }
            },
            "type": "bar"
           }
          ],
          "barpolar": [
           {
            "marker": {
             "line": {
              "color": "#E5ECF6",
              "width": 0.5
             },
             "pattern": {
              "fillmode": "overlay",
              "size": 10,
              "solidity": 0.2
             }
            },
            "type": "barpolar"
           }
          ],
          "carpet": [
           {
            "aaxis": {
             "endlinecolor": "#2a3f5f",
             "gridcolor": "white",
             "linecolor": "white",
             "minorgridcolor": "white",
             "startlinecolor": "#2a3f5f"
            },
            "baxis": {
             "endlinecolor": "#2a3f5f",
             "gridcolor": "white",
             "linecolor": "white",
             "minorgridcolor": "white",
             "startlinecolor": "#2a3f5f"
            },
            "type": "carpet"
           }
          ],
          "choropleth": [
           {
            "colorbar": {
             "outlinewidth": 0,
             "ticks": ""
            },
            "type": "choropleth"
           }
          ],
          "contour": [
           {
            "colorbar": {
             "outlinewidth": 0,
             "ticks": ""
            },
            "colorscale": [
             [
              0,
              "#0d0887"
             ],
             [
              0.1111111111111111,
              "#46039f"
             ],
             [
              0.2222222222222222,
              "#7201a8"
             ],
             [
              0.3333333333333333,
              "#9c179e"
             ],
             [
              0.4444444444444444,
              "#bd3786"
             ],
             [
              0.5555555555555556,
              "#d8576b"
             ],
             [
              0.6666666666666666,
              "#ed7953"
             ],
             [
              0.7777777777777778,
              "#fb9f3a"
             ],
             [
              0.8888888888888888,
              "#fdca26"
             ],
             [
              1,
              "#f0f921"
             ]
            ],
            "type": "contour"
           }
          ],
          "contourcarpet": [
           {
            "colorbar": {
             "outlinewidth": 0,
             "ticks": ""
            },
            "type": "contourcarpet"
           }
          ],
          "heatmap": [
           {
            "colorbar": {
             "outlinewidth": 0,
             "ticks": ""
            },
            "colorscale": [
             [
              0,
              "#0d0887"
             ],
             [
              0.1111111111111111,
              "#46039f"
             ],
             [
              0.2222222222222222,
              "#7201a8"
             ],
             [
              0.3333333333333333,
              "#9c179e"
             ],
             [
              0.4444444444444444,
              "#bd3786"
             ],
             [
              0.5555555555555556,
              "#d8576b"
             ],
             [
              0.6666666666666666,
              "#ed7953"
             ],
             [
              0.7777777777777778,
              "#fb9f3a"
             ],
             [
              0.8888888888888888,
              "#fdca26"
             ],
             [
              1,
              "#f0f921"
             ]
            ],
            "type": "heatmap"
           }
          ],
          "heatmapgl": [
           {
            "colorbar": {
             "outlinewidth": 0,
             "ticks": ""
            },
            "colorscale": [
             [
              0,
              "#0d0887"
             ],
             [
              0.1111111111111111,
              "#46039f"
             ],
             [
              0.2222222222222222,
              "#7201a8"
             ],
             [
              0.3333333333333333,
              "#9c179e"
             ],
             [
              0.4444444444444444,
              "#bd3786"
             ],
             [
              0.5555555555555556,
              "#d8576b"
             ],
             [
              0.6666666666666666,
              "#ed7953"
             ],
             [
              0.7777777777777778,
              "#fb9f3a"
             ],
             [
              0.8888888888888888,
              "#fdca26"
             ],
             [
              1,
              "#f0f921"
             ]
            ],
            "type": "heatmapgl"
           }
          ],
          "histogram": [
           {
            "marker": {
             "pattern": {
              "fillmode": "overlay",
              "size": 10,
              "solidity": 0.2
             }
            },
            "type": "histogram"
           }
          ],
          "histogram2d": [
           {
            "colorbar": {
             "outlinewidth": 0,
             "ticks": ""
            },
            "colorscale": [
             [
              0,
              "#0d0887"
             ],
             [
              0.1111111111111111,
              "#46039f"
             ],
             [
              0.2222222222222222,
              "#7201a8"
             ],
             [
              0.3333333333333333,
              "#9c179e"
             ],
             [
              0.4444444444444444,
              "#bd3786"
             ],
             [
              0.5555555555555556,
              "#d8576b"
             ],
             [
              0.6666666666666666,
              "#ed7953"
             ],
             [
              0.7777777777777778,
              "#fb9f3a"
             ],
             [
              0.8888888888888888,
              "#fdca26"
             ],
             [
              1,
              "#f0f921"
             ]
            ],
            "type": "histogram2d"
           }
          ],
          "histogram2dcontour": [
           {
            "colorbar": {
             "outlinewidth": 0,
             "ticks": ""
            },
            "colorscale": [
             [
              0,
              "#0d0887"
             ],
             [
              0.1111111111111111,
              "#46039f"
             ],
             [
              0.2222222222222222,
              "#7201a8"
             ],
             [
              0.3333333333333333,
              "#9c179e"
             ],
             [
              0.4444444444444444,
              "#bd3786"
             ],
             [
              0.5555555555555556,
              "#d8576b"
             ],
             [
              0.6666666666666666,
              "#ed7953"
             ],
             [
              0.7777777777777778,
              "#fb9f3a"
             ],
             [
              0.8888888888888888,
              "#fdca26"
             ],
             [
              1,
              "#f0f921"
             ]
            ],
            "type": "histogram2dcontour"
           }
          ],
          "mesh3d": [
           {
            "colorbar": {
             "outlinewidth": 0,
             "ticks": ""
            },
            "type": "mesh3d"
           }
          ],
          "parcoords": [
           {
            "line": {
             "colorbar": {
              "outlinewidth": 0,
              "ticks": ""
             }
            },
            "type": "parcoords"
           }
          ],
          "pie": [
           {
            "automargin": true,
            "type": "pie"
           }
          ],
          "scatter": [
           {
            "fillpattern": {
             "fillmode": "overlay",
             "size": 10,
             "solidity": 0.2
            },
            "type": "scatter"
           }
          ],
          "scatter3d": [
           {
            "line": {
             "colorbar": {
              "outlinewidth": 0,
              "ticks": ""
             }
            },
            "marker": {
             "colorbar": {
              "outlinewidth": 0,
              "ticks": ""
             }
            },
            "type": "scatter3d"
           }
          ],
          "scattercarpet": [
           {
            "marker": {
             "colorbar": {
              "outlinewidth": 0,
              "ticks": ""
             }
            },
            "type": "scattercarpet"
           }
          ],
          "scattergeo": [
           {
            "marker": {
             "colorbar": {
              "outlinewidth": 0,
              "ticks": ""
             }
            },
            "type": "scattergeo"
           }
          ],
          "scattergl": [
           {
            "marker": {
             "colorbar": {
              "outlinewidth": 0,
              "ticks": ""
             }
            },
            "type": "scattergl"
           }
          ],
          "scattermapbox": [
           {
            "marker": {
             "colorbar": {
              "outlinewidth": 0,
              "ticks": ""
             }
            },
            "type": "scattermapbox"
           }
          ],
          "scatterpolar": [
           {
            "marker": {
             "colorbar": {
              "outlinewidth": 0,
              "ticks": ""
             }
            },
            "type": "scatterpolar"
           }
          ],
          "scatterpolargl": [
           {
            "marker": {
             "colorbar": {
              "outlinewidth": 0,
              "ticks": ""
             }
            },
            "type": "scatterpolargl"
           }
          ],
          "scatterternary": [
           {
            "marker": {
             "colorbar": {
              "outlinewidth": 0,
              "ticks": ""
             }
            },
            "type": "scatterternary"
           }
          ],
          "surface": [
           {
            "colorbar": {
             "outlinewidth": 0,
             "ticks": ""
            },
            "colorscale": [
             [
              0,
              "#0d0887"
             ],
             [
              0.1111111111111111,
              "#46039f"
             ],
             [
              0.2222222222222222,
              "#7201a8"
             ],
             [
              0.3333333333333333,
              "#9c179e"
             ],
             [
              0.4444444444444444,
              "#bd3786"
             ],
             [
              0.5555555555555556,
              "#d8576b"
             ],
             [
              0.6666666666666666,
              "#ed7953"
             ],
             [
              0.7777777777777778,
              "#fb9f3a"
             ],
             [
              0.8888888888888888,
              "#fdca26"
             ],
             [
              1,
              "#f0f921"
             ]
            ],
            "type": "surface"
           }
          ],
          "table": [
           {
            "cells": {
             "fill": {
              "color": "#EBF0F8"
             },
             "line": {
              "color": "white"
             }
            },
            "header": {
             "fill": {
              "color": "#C8D4E3"
             },
             "line": {
              "color": "white"
             }
            },
            "type": "table"
           }
          ]
         },
         "layout": {
          "annotationdefaults": {
           "arrowcolor": "#2a3f5f",
           "arrowhead": 0,
           "arrowwidth": 1
          },
          "autotypenumbers": "strict",
          "coloraxis": {
           "colorbar": {
            "outlinewidth": 0,
            "ticks": ""
           }
          },
          "colorscale": {
           "diverging": [
            [
             0,
             "#8e0152"
            ],
            [
             0.1,
             "#c51b7d"
            ],
            [
             0.2,
             "#de77ae"
            ],
            [
             0.3,
             "#f1b6da"
            ],
            [
             0.4,
             "#fde0ef"
            ],
            [
             0.5,
             "#f7f7f7"
            ],
            [
             0.6,
             "#e6f5d0"
            ],
            [
             0.7,
             "#b8e186"
            ],
            [
             0.8,
             "#7fbc41"
            ],
            [
             0.9,
             "#4d9221"
            ],
            [
             1,
             "#276419"
            ]
           ],
           "sequential": [
            [
             0,
             "#0d0887"
            ],
            [
             0.1111111111111111,
             "#46039f"
            ],
            [
             0.2222222222222222,
             "#7201a8"
            ],
            [
             0.3333333333333333,
             "#9c179e"
            ],
            [
             0.4444444444444444,
             "#bd3786"
            ],
            [
             0.5555555555555556,
             "#d8576b"
            ],
            [
             0.6666666666666666,
             "#ed7953"
            ],
            [
             0.7777777777777778,
             "#fb9f3a"
            ],
            [
             0.8888888888888888,
             "#fdca26"
            ],
            [
             1,
             "#f0f921"
            ]
           ],
           "sequentialminus": [
            [
             0,
             "#0d0887"
            ],
            [
             0.1111111111111111,
             "#46039f"
            ],
            [
             0.2222222222222222,
             "#7201a8"
            ],
            [
             0.3333333333333333,
             "#9c179e"
            ],
            [
             0.4444444444444444,
             "#bd3786"
            ],
            [
             0.5555555555555556,
             "#d8576b"
            ],
            [
             0.6666666666666666,
             "#ed7953"
            ],
            [
             0.7777777777777778,
             "#fb9f3a"
            ],
            [
             0.8888888888888888,
             "#fdca26"
            ],
            [
             1,
             "#f0f921"
            ]
           ]
          },
          "colorway": [
           "#636efa",
           "#EF553B",
           "#00cc96",
           "#ab63fa",
           "#FFA15A",
           "#19d3f3",
           "#FF6692",
           "#B6E880",
           "#FF97FF",
           "#FECB52"
          ],
          "font": {
           "color": "#2a3f5f"
          },
          "geo": {
           "bgcolor": "white",
           "lakecolor": "white",
           "landcolor": "#E5ECF6",
           "showlakes": true,
           "showland": true,
           "subunitcolor": "white"
          },
          "hoverlabel": {
           "align": "left"
          },
          "hovermode": "closest",
          "mapbox": {
           "style": "light"
          },
          "paper_bgcolor": "white",
          "plot_bgcolor": "#E5ECF6",
          "polar": {
           "angularaxis": {
            "gridcolor": "white",
            "linecolor": "white",
            "ticks": ""
           },
           "bgcolor": "#E5ECF6",
           "radialaxis": {
            "gridcolor": "white",
            "linecolor": "white",
            "ticks": ""
           }
          },
          "scene": {
           "xaxis": {
            "backgroundcolor": "#E5ECF6",
            "gridcolor": "white",
            "gridwidth": 2,
            "linecolor": "white",
            "showbackground": true,
            "ticks": "",
            "zerolinecolor": "white"
           },
           "yaxis": {
            "backgroundcolor": "#E5ECF6",
            "gridcolor": "white",
            "gridwidth": 2,
            "linecolor": "white",
            "showbackground": true,
            "ticks": "",
            "zerolinecolor": "white"
           },
           "zaxis": {
            "backgroundcolor": "#E5ECF6",
            "gridcolor": "white",
            "gridwidth": 2,
            "linecolor": "white",
            "showbackground": true,
            "ticks": "",
            "zerolinecolor": "white"
           }
          },
          "shapedefaults": {
           "line": {
            "color": "#2a3f5f"
           }
          },
          "ternary": {
           "aaxis": {
            "gridcolor": "white",
            "linecolor": "white",
            "ticks": ""
           },
           "baxis": {
            "gridcolor": "white",
            "linecolor": "white",
            "ticks": ""
           },
           "bgcolor": "#E5ECF6",
           "caxis": {
            "gridcolor": "white",
            "linecolor": "white",
            "ticks": ""
           }
          },
          "title": {
           "x": 0.05
          },
          "xaxis": {
           "automargin": true,
           "gridcolor": "white",
           "linecolor": "white",
           "ticks": "",
           "title": {
            "standoff": 15
           },
           "zerolinecolor": "white",
           "zerolinewidth": 2
          },
          "yaxis": {
           "automargin": true,
           "gridcolor": "white",
           "linecolor": "white",
           "ticks": "",
           "title": {
            "standoff": 15
           },
           "zerolinecolor": "white",
           "zerolinewidth": 2
          }
         }
        },
        "title": {
         "text": "Normalized twitter_followers Growth of Top 10 Companies by Slope"
        },
        "xaxis": {
         "anchor": "y",
         "domain": [
          0,
          1
         ],
         "title": {
          "text": "index"
         }
        },
        "yaxis": {
         "anchor": "x",
         "domain": [
          0,
          1
         ],
         "title": {
          "text": "value"
         }
        }
       }
      }
     },
     "metadata": {},
     "output_type": "display_data"
    },
    {
     "data": {
      "application/vnd.plotly.v1+json": {
       "config": {
        "plotlyServerURL": "https://plot.ly"
       },
       "data": [
        {
         "hovertemplate": "Specter - ID=624b27ade4e2dbb8bd31f978<br>index=%{x}<br>value=%{y}<extra></extra>",
         "legendgroup": "624b27ade4e2dbb8bd31f978",
         "line": {
          "color": "#636efa",
          "dash": "solid"
         },
         "marker": {
          "symbol": "circle"
         },
         "mode": "lines",
         "name": "624b27ade4e2dbb8bd31f978",
         "orientation": "v",
         "showlegend": true,
         "type": "scatter",
         "x": [
          1,
          2,
          3,
          4,
          5,
          6
         ],
         "xaxis": "x",
         "y": [
          0,
          0,
          0,
          0,
          0,
          0
         ],
         "yaxis": "y"
        },
        {
         "hovertemplate": "Specter - ID=62735f4801ed2520137224ce<br>index=%{x}<br>value=%{y}<extra></extra>",
         "legendgroup": "62735f4801ed2520137224ce",
         "line": {
          "color": "#EF553B",
          "dash": "solid"
         },
         "marker": {
          "symbol": "circle"
         },
         "mode": "lines",
         "name": "62735f4801ed2520137224ce",
         "orientation": "v",
         "showlegend": true,
         "type": "scatter",
         "x": [
          1,
          2,
          3,
          4,
          5,
          6
         ],
         "xaxis": "x",
         "y": [
          0,
          0,
          0,
          0,
          0,
          0
         ],
         "yaxis": "y"
        },
        {
         "hovertemplate": "Specter - ID=627100104b7ad6a07cc251f5<br>index=%{x}<br>value=%{y}<extra></extra>",
         "legendgroup": "627100104b7ad6a07cc251f5",
         "line": {
          "color": "#00cc96",
          "dash": "solid"
         },
         "marker": {
          "symbol": "circle"
         },
         "mode": "lines",
         "name": "627100104b7ad6a07cc251f5",
         "orientation": "v",
         "showlegend": true,
         "type": "scatter",
         "x": [
          1,
          2,
          3,
          4,
          5,
          6
         ],
         "xaxis": "x",
         "y": [
          0,
          0,
          0,
          0,
          0,
          0
         ],
         "yaxis": "y"
        },
        {
         "hovertemplate": "Specter - ID=6270ff004b7ad6a07cbd8ec0<br>index=%{x}<br>value=%{y}<extra></extra>",
         "legendgroup": "6270ff004b7ad6a07cbd8ec0",
         "line": {
          "color": "#ab63fa",
          "dash": "solid"
         },
         "marker": {
          "symbol": "circle"
         },
         "mode": "lines",
         "name": "6270ff004b7ad6a07cbd8ec0",
         "orientation": "v",
         "showlegend": true,
         "type": "scatter",
         "x": [
          1,
          2,
          3,
          4,
          5,
          6
         ],
         "xaxis": "x",
         "y": [
          0,
          0,
          0,
          0,
          0,
          0
         ],
         "yaxis": "y"
        },
        {
         "hovertemplate": "Specter - ID=5e3b9057137e998b5ae6cc7e<br>index=%{x}<br>value=%{y}<extra></extra>",
         "legendgroup": "5e3b9057137e998b5ae6cc7e",
         "line": {
          "color": "#FFA15A",
          "dash": "solid"
         },
         "marker": {
          "symbol": "circle"
         },
         "mode": "lines",
         "name": "5e3b9057137e998b5ae6cc7e",
         "orientation": "v",
         "showlegend": true,
         "type": "scatter",
         "x": [
          1,
          2,
          3,
          4,
          5,
          6
         ],
         "xaxis": "x",
         "y": [
          0,
          0,
          0,
          0,
          0,
          0
         ],
         "yaxis": "y"
        },
        {
         "hovertemplate": "Specter - ID=61fcf5e362adc22ead73101f<br>index=%{x}<br>value=%{y}<extra></extra>",
         "legendgroup": "61fcf5e362adc22ead73101f",
         "line": {
          "color": "#19d3f3",
          "dash": "solid"
         },
         "marker": {
          "symbol": "circle"
         },
         "mode": "lines",
         "name": "61fcf5e362adc22ead73101f",
         "orientation": "v",
         "showlegend": true,
         "type": "scatter",
         "x": [
          1,
          2,
          3,
          4,
          5,
          6
         ],
         "xaxis": "x",
         "y": [
          0,
          0,
          0,
          0,
          0,
          0
         ],
         "yaxis": "y"
        },
        {
         "hovertemplate": "Specter - ID=5ebcdac5332603f591de8a88<br>index=%{x}<br>value=%{y}<extra></extra>",
         "legendgroup": "5ebcdac5332603f591de8a88",
         "line": {
          "color": "#FF6692",
          "dash": "solid"
         },
         "marker": {
          "symbol": "circle"
         },
         "mode": "lines",
         "name": "5ebcdac5332603f591de8a88",
         "orientation": "v",
         "showlegend": true,
         "type": "scatter",
         "x": [
          1,
          2,
          3,
          4,
          5,
          6
         ],
         "xaxis": "x",
         "y": [
          0.005612722170252572,
          0.013096351730589336,
          0.01216089803554724,
          0.01403180542563143,
          0.019644527595884004,
          0.01403180542563143
         ],
         "yaxis": "y"
        },
        {
         "hovertemplate": "Specter - ID=629cc201cf28682e15f5aec8<br>index=%{x}<br>value=%{y}<extra></extra>",
         "legendgroup": "629cc201cf28682e15f5aec8",
         "line": {
          "color": "#B6E880",
          "dash": "solid"
         },
         "marker": {
          "symbol": "circle"
         },
         "mode": "lines",
         "name": "629cc201cf28682e15f5aec8",
         "orientation": "v",
         "showlegend": true,
         "type": "scatter",
         "x": [
          1,
          2,
          3,
          4,
          5,
          6
         ],
         "xaxis": "x",
         "y": [
          0,
          0,
          0,
          0,
          0,
          0
         ],
         "yaxis": "y"
        },
        {
         "hovertemplate": "Specter - ID=601c18f94ddab8d8bff584b8<br>index=%{x}<br>value=%{y}<extra></extra>",
         "legendgroup": "601c18f94ddab8d8bff584b8",
         "line": {
          "color": "#FF97FF",
          "dash": "solid"
         },
         "marker": {
          "symbol": "circle"
         },
         "mode": "lines",
         "name": "601c18f94ddab8d8bff584b8",
         "orientation": "v",
         "showlegend": true,
         "type": "scatter",
         "x": [
          1,
          2,
          3,
          4,
          5,
          6
         ],
         "xaxis": "x",
         "y": [
          0,
          0,
          0,
          0,
          0,
          0
         ],
         "yaxis": "y"
        },
        {
         "hovertemplate": "Specter - ID=6270ff144b7ad6a07cbde14d<br>index=%{x}<br>value=%{y}<extra></extra>",
         "legendgroup": "6270ff144b7ad6a07cbde14d",
         "line": {
          "color": "#FECB52",
          "dash": "solid"
         },
         "marker": {
          "symbol": "circle"
         },
         "mode": "lines",
         "name": "6270ff144b7ad6a07cbde14d",
         "orientation": "v",
         "showlegend": true,
         "type": "scatter",
         "x": [
          1,
          2,
          3,
          4,
          5,
          6
         ],
         "xaxis": "x",
         "y": [
          0,
          0,
          0,
          0,
          0,
          0
         ],
         "yaxis": "y"
        }
       ],
       "layout": {
        "legend": {
         "title": {
          "text": "Specter - ID"
         },
         "tracegroupgap": 0
        },
        "template": {
         "data": {
          "bar": [
           {
            "error_x": {
             "color": "#2a3f5f"
            },
            "error_y": {
             "color": "#2a3f5f"
            },
            "marker": {
             "line": {
              "color": "#E5ECF6",
              "width": 0.5
             },
             "pattern": {
              "fillmode": "overlay",
              "size": 10,
              "solidity": 0.2
             }
            },
            "type": "bar"
           }
          ],
          "barpolar": [
           {
            "marker": {
             "line": {
              "color": "#E5ECF6",
              "width": 0.5
             },
             "pattern": {
              "fillmode": "overlay",
              "size": 10,
              "solidity": 0.2
             }
            },
            "type": "barpolar"
           }
          ],
          "carpet": [
           {
            "aaxis": {
             "endlinecolor": "#2a3f5f",
             "gridcolor": "white",
             "linecolor": "white",
             "minorgridcolor": "white",
             "startlinecolor": "#2a3f5f"
            },
            "baxis": {
             "endlinecolor": "#2a3f5f",
             "gridcolor": "white",
             "linecolor": "white",
             "minorgridcolor": "white",
             "startlinecolor": "#2a3f5f"
            },
            "type": "carpet"
           }
          ],
          "choropleth": [
           {
            "colorbar": {
             "outlinewidth": 0,
             "ticks": ""
            },
            "type": "choropleth"
           }
          ],
          "contour": [
           {
            "colorbar": {
             "outlinewidth": 0,
             "ticks": ""
            },
            "colorscale": [
             [
              0,
              "#0d0887"
             ],
             [
              0.1111111111111111,
              "#46039f"
             ],
             [
              0.2222222222222222,
              "#7201a8"
             ],
             [
              0.3333333333333333,
              "#9c179e"
             ],
             [
              0.4444444444444444,
              "#bd3786"
             ],
             [
              0.5555555555555556,
              "#d8576b"
             ],
             [
              0.6666666666666666,
              "#ed7953"
             ],
             [
              0.7777777777777778,
              "#fb9f3a"
             ],
             [
              0.8888888888888888,
              "#fdca26"
             ],
             [
              1,
              "#f0f921"
             ]
            ],
            "type": "contour"
           }
          ],
          "contourcarpet": [
           {
            "colorbar": {
             "outlinewidth": 0,
             "ticks": ""
            },
            "type": "contourcarpet"
           }
          ],
          "heatmap": [
           {
            "colorbar": {
             "outlinewidth": 0,
             "ticks": ""
            },
            "colorscale": [
             [
              0,
              "#0d0887"
             ],
             [
              0.1111111111111111,
              "#46039f"
             ],
             [
              0.2222222222222222,
              "#7201a8"
             ],
             [
              0.3333333333333333,
              "#9c179e"
             ],
             [
              0.4444444444444444,
              "#bd3786"
             ],
             [
              0.5555555555555556,
              "#d8576b"
             ],
             [
              0.6666666666666666,
              "#ed7953"
             ],
             [
              0.7777777777777778,
              "#fb9f3a"
             ],
             [
              0.8888888888888888,
              "#fdca26"
             ],
             [
              1,
              "#f0f921"
             ]
            ],
            "type": "heatmap"
           }
          ],
          "heatmapgl": [
           {
            "colorbar": {
             "outlinewidth": 0,
             "ticks": ""
            },
            "colorscale": [
             [
              0,
              "#0d0887"
             ],
             [
              0.1111111111111111,
              "#46039f"
             ],
             [
              0.2222222222222222,
              "#7201a8"
             ],
             [
              0.3333333333333333,
              "#9c179e"
             ],
             [
              0.4444444444444444,
              "#bd3786"
             ],
             [
              0.5555555555555556,
              "#d8576b"
             ],
             [
              0.6666666666666666,
              "#ed7953"
             ],
             [
              0.7777777777777778,
              "#fb9f3a"
             ],
             [
              0.8888888888888888,
              "#fdca26"
             ],
             [
              1,
              "#f0f921"
             ]
            ],
            "type": "heatmapgl"
           }
          ],
          "histogram": [
           {
            "marker": {
             "pattern": {
              "fillmode": "overlay",
              "size": 10,
              "solidity": 0.2
             }
            },
            "type": "histogram"
           }
          ],
          "histogram2d": [
           {
            "colorbar": {
             "outlinewidth": 0,
             "ticks": ""
            },
            "colorscale": [
             [
              0,
              "#0d0887"
             ],
             [
              0.1111111111111111,
              "#46039f"
             ],
             [
              0.2222222222222222,
              "#7201a8"
             ],
             [
              0.3333333333333333,
              "#9c179e"
             ],
             [
              0.4444444444444444,
              "#bd3786"
             ],
             [
              0.5555555555555556,
              "#d8576b"
             ],
             [
              0.6666666666666666,
              "#ed7953"
             ],
             [
              0.7777777777777778,
              "#fb9f3a"
             ],
             [
              0.8888888888888888,
              "#fdca26"
             ],
             [
              1,
              "#f0f921"
             ]
            ],
            "type": "histogram2d"
           }
          ],
          "histogram2dcontour": [
           {
            "colorbar": {
             "outlinewidth": 0,
             "ticks": ""
            },
            "colorscale": [
             [
              0,
              "#0d0887"
             ],
             [
              0.1111111111111111,
              "#46039f"
             ],
             [
              0.2222222222222222,
              "#7201a8"
             ],
             [
              0.3333333333333333,
              "#9c179e"
             ],
             [
              0.4444444444444444,
              "#bd3786"
             ],
             [
              0.5555555555555556,
              "#d8576b"
             ],
             [
              0.6666666666666666,
              "#ed7953"
             ],
             [
              0.7777777777777778,
              "#fb9f3a"
             ],
             [
              0.8888888888888888,
              "#fdca26"
             ],
             [
              1,
              "#f0f921"
             ]
            ],
            "type": "histogram2dcontour"
           }
          ],
          "mesh3d": [
           {
            "colorbar": {
             "outlinewidth": 0,
             "ticks": ""
            },
            "type": "mesh3d"
           }
          ],
          "parcoords": [
           {
            "line": {
             "colorbar": {
              "outlinewidth": 0,
              "ticks": ""
             }
            },
            "type": "parcoords"
           }
          ],
          "pie": [
           {
            "automargin": true,
            "type": "pie"
           }
          ],
          "scatter": [
           {
            "fillpattern": {
             "fillmode": "overlay",
             "size": 10,
             "solidity": 0.2
            },
            "type": "scatter"
           }
          ],
          "scatter3d": [
           {
            "line": {
             "colorbar": {
              "outlinewidth": 0,
              "ticks": ""
             }
            },
            "marker": {
             "colorbar": {
              "outlinewidth": 0,
              "ticks": ""
             }
            },
            "type": "scatter3d"
           }
          ],
          "scattercarpet": [
           {
            "marker": {
             "colorbar": {
              "outlinewidth": 0,
              "ticks": ""
             }
            },
            "type": "scattercarpet"
           }
          ],
          "scattergeo": [
           {
            "marker": {
             "colorbar": {
              "outlinewidth": 0,
              "ticks": ""
             }
            },
            "type": "scattergeo"
           }
          ],
          "scattergl": [
           {
            "marker": {
             "colorbar": {
              "outlinewidth": 0,
              "ticks": ""
             }
            },
            "type": "scattergl"
           }
          ],
          "scattermapbox": [
           {
            "marker": {
             "colorbar": {
              "outlinewidth": 0,
              "ticks": ""
             }
            },
            "type": "scattermapbox"
           }
          ],
          "scatterpolar": [
           {
            "marker": {
             "colorbar": {
              "outlinewidth": 0,
              "ticks": ""
             }
            },
            "type": "scatterpolar"
           }
          ],
          "scatterpolargl": [
           {
            "marker": {
             "colorbar": {
              "outlinewidth": 0,
              "ticks": ""
             }
            },
            "type": "scatterpolargl"
           }
          ],
          "scatterternary": [
           {
            "marker": {
             "colorbar": {
              "outlinewidth": 0,
              "ticks": ""
             }
            },
            "type": "scatterternary"
           }
          ],
          "surface": [
           {
            "colorbar": {
             "outlinewidth": 0,
             "ticks": ""
            },
            "colorscale": [
             [
              0,
              "#0d0887"
             ],
             [
              0.1111111111111111,
              "#46039f"
             ],
             [
              0.2222222222222222,
              "#7201a8"
             ],
             [
              0.3333333333333333,
              "#9c179e"
             ],
             [
              0.4444444444444444,
              "#bd3786"
             ],
             [
              0.5555555555555556,
              "#d8576b"
             ],
             [
              0.6666666666666666,
              "#ed7953"
             ],
             [
              0.7777777777777778,
              "#fb9f3a"
             ],
             [
              0.8888888888888888,
              "#fdca26"
             ],
             [
              1,
              "#f0f921"
             ]
            ],
            "type": "surface"
           }
          ],
          "table": [
           {
            "cells": {
             "fill": {
              "color": "#EBF0F8"
             },
             "line": {
              "color": "white"
             }
            },
            "header": {
             "fill": {
              "color": "#C8D4E3"
             },
             "line": {
              "color": "white"
             }
            },
            "type": "table"
           }
          ]
         },
         "layout": {
          "annotationdefaults": {
           "arrowcolor": "#2a3f5f",
           "arrowhead": 0,
           "arrowwidth": 1
          },
          "autotypenumbers": "strict",
          "coloraxis": {
           "colorbar": {
            "outlinewidth": 0,
            "ticks": ""
           }
          },
          "colorscale": {
           "diverging": [
            [
             0,
             "#8e0152"
            ],
            [
             0.1,
             "#c51b7d"
            ],
            [
             0.2,
             "#de77ae"
            ],
            [
             0.3,
             "#f1b6da"
            ],
            [
             0.4,
             "#fde0ef"
            ],
            [
             0.5,
             "#f7f7f7"
            ],
            [
             0.6,
             "#e6f5d0"
            ],
            [
             0.7,
             "#b8e186"
            ],
            [
             0.8,
             "#7fbc41"
            ],
            [
             0.9,
             "#4d9221"
            ],
            [
             1,
             "#276419"
            ]
           ],
           "sequential": [
            [
             0,
             "#0d0887"
            ],
            [
             0.1111111111111111,
             "#46039f"
            ],
            [
             0.2222222222222222,
             "#7201a8"
            ],
            [
             0.3333333333333333,
             "#9c179e"
            ],
            [
             0.4444444444444444,
             "#bd3786"
            ],
            [
             0.5555555555555556,
             "#d8576b"
            ],
            [
             0.6666666666666666,
             "#ed7953"
            ],
            [
             0.7777777777777778,
             "#fb9f3a"
            ],
            [
             0.8888888888888888,
             "#fdca26"
            ],
            [
             1,
             "#f0f921"
            ]
           ],
           "sequentialminus": [
            [
             0,
             "#0d0887"
            ],
            [
             0.1111111111111111,
             "#46039f"
            ],
            [
             0.2222222222222222,
             "#7201a8"
            ],
            [
             0.3333333333333333,
             "#9c179e"
            ],
            [
             0.4444444444444444,
             "#bd3786"
            ],
            [
             0.5555555555555556,
             "#d8576b"
            ],
            [
             0.6666666666666666,
             "#ed7953"
            ],
            [
             0.7777777777777778,
             "#fb9f3a"
            ],
            [
             0.8888888888888888,
             "#fdca26"
            ],
            [
             1,
             "#f0f921"
            ]
           ]
          },
          "colorway": [
           "#636efa",
           "#EF553B",
           "#00cc96",
           "#ab63fa",
           "#FFA15A",
           "#19d3f3",
           "#FF6692",
           "#B6E880",
           "#FF97FF",
           "#FECB52"
          ],
          "font": {
           "color": "#2a3f5f"
          },
          "geo": {
           "bgcolor": "white",
           "lakecolor": "white",
           "landcolor": "#E5ECF6",
           "showlakes": true,
           "showland": true,
           "subunitcolor": "white"
          },
          "hoverlabel": {
           "align": "left"
          },
          "hovermode": "closest",
          "mapbox": {
           "style": "light"
          },
          "paper_bgcolor": "white",
          "plot_bgcolor": "#E5ECF6",
          "polar": {
           "angularaxis": {
            "gridcolor": "white",
            "linecolor": "white",
            "ticks": ""
           },
           "bgcolor": "#E5ECF6",
           "radialaxis": {
            "gridcolor": "white",
            "linecolor": "white",
            "ticks": ""
           }
          },
          "scene": {
           "xaxis": {
            "backgroundcolor": "#E5ECF6",
            "gridcolor": "white",
            "gridwidth": 2,
            "linecolor": "white",
            "showbackground": true,
            "ticks": "",
            "zerolinecolor": "white"
           },
           "yaxis": {
            "backgroundcolor": "#E5ECF6",
            "gridcolor": "white",
            "gridwidth": 2,
            "linecolor": "white",
            "showbackground": true,
            "ticks": "",
            "zerolinecolor": "white"
           },
           "zaxis": {
            "backgroundcolor": "#E5ECF6",
            "gridcolor": "white",
            "gridwidth": 2,
            "linecolor": "white",
            "showbackground": true,
            "ticks": "",
            "zerolinecolor": "white"
           }
          },
          "shapedefaults": {
           "line": {
            "color": "#2a3f5f"
           }
          },
          "ternary": {
           "aaxis": {
            "gridcolor": "white",
            "linecolor": "white",
            "ticks": ""
           },
           "baxis": {
            "gridcolor": "white",
            "linecolor": "white",
            "ticks": ""
           },
           "bgcolor": "#E5ECF6",
           "caxis": {
            "gridcolor": "white",
            "linecolor": "white",
            "ticks": ""
           }
          },
          "title": {
           "x": 0.05
          },
          "xaxis": {
           "automargin": true,
           "gridcolor": "white",
           "linecolor": "white",
           "ticks": "",
           "title": {
            "standoff": 15
           },
           "zerolinecolor": "white",
           "zerolinewidth": 2
          },
          "yaxis": {
           "automargin": true,
           "gridcolor": "white",
           "linecolor": "white",
           "ticks": "",
           "title": {
            "standoff": 15
           },
           "zerolinecolor": "white",
           "zerolinewidth": 2
          }
         }
        },
        "title": {
         "text": "Normalized instagram_followers Growth of Top 10 Companies by Slope"
        },
        "xaxis": {
         "anchor": "y",
         "domain": [
          0,
          1
         ],
         "title": {
          "text": "index"
         }
        },
        "yaxis": {
         "anchor": "x",
         "domain": [
          0,
          1
         ],
         "title": {
          "text": "value"
         }
        }
       }
      }
     },
     "metadata": {},
     "output_type": "display_data"
    },
    {
     "data": {
      "application/vnd.plotly.v1+json": {
       "config": {
        "plotlyServerURL": "https://plot.ly"
       },
       "data": [
        {
         "hovertemplate": "Specter - ID=624b27ade4e2dbb8bd31f978<br>index=%{x}<br>value=%{y}<extra></extra>",
         "legendgroup": "624b27ade4e2dbb8bd31f978",
         "line": {
          "color": "#636efa",
          "dash": "solid"
         },
         "marker": {
          "symbol": "circle"
         },
         "mode": "lines",
         "name": "624b27ade4e2dbb8bd31f978",
         "orientation": "v",
         "showlegend": true,
         "type": "scatter",
         "x": [
          1,
          2,
          3,
          4,
          5,
          6
         ],
         "xaxis": "x",
         "y": [
          0,
          0,
          0,
          0,
          0,
          0
         ],
         "yaxis": "y"
        },
        {
         "hovertemplate": "Specter - ID=62735f4801ed2520137224ce<br>index=%{x}<br>value=%{y}<extra></extra>",
         "legendgroup": "62735f4801ed2520137224ce",
         "line": {
          "color": "#EF553B",
          "dash": "solid"
         },
         "marker": {
          "symbol": "circle"
         },
         "mode": "lines",
         "name": "62735f4801ed2520137224ce",
         "orientation": "v",
         "showlegend": true,
         "type": "scatter",
         "x": [
          1,
          2,
          3,
          4,
          5,
          6
         ],
         "xaxis": "x",
         "y": [
          0,
          0,
          0,
          0,
          0,
          0
         ],
         "yaxis": "y"
        },
        {
         "hovertemplate": "Specter - ID=627100104b7ad6a07cc251f5<br>index=%{x}<br>value=%{y}<extra></extra>",
         "legendgroup": "627100104b7ad6a07cc251f5",
         "line": {
          "color": "#00cc96",
          "dash": "solid"
         },
         "marker": {
          "symbol": "circle"
         },
         "mode": "lines",
         "name": "627100104b7ad6a07cc251f5",
         "orientation": "v",
         "showlegend": true,
         "type": "scatter",
         "x": [
          1,
          2,
          3,
          4,
          5,
          6
         ],
         "xaxis": "x",
         "y": [
          0,
          0,
          0,
          0,
          0,
          0
         ],
         "yaxis": "y"
        },
        {
         "hovertemplate": "Specter - ID=6270ff004b7ad6a07cbd8ec0<br>index=%{x}<br>value=%{y}<extra></extra>",
         "legendgroup": "6270ff004b7ad6a07cbd8ec0",
         "line": {
          "color": "#ab63fa",
          "dash": "solid"
         },
         "marker": {
          "symbol": "circle"
         },
         "mode": "lines",
         "name": "6270ff004b7ad6a07cbd8ec0",
         "orientation": "v",
         "showlegend": true,
         "type": "scatter",
         "x": [
          1,
          2,
          3,
          4,
          5,
          6
         ],
         "xaxis": "x",
         "y": [
          0,
          0,
          0,
          0,
          0,
          0
         ],
         "yaxis": "y"
        },
        {
         "hovertemplate": "Specter - ID=5e3b9057137e998b5ae6cc7e<br>index=%{x}<br>value=%{y}<extra></extra>",
         "legendgroup": "5e3b9057137e998b5ae6cc7e",
         "line": {
          "color": "#FFA15A",
          "dash": "solid"
         },
         "marker": {
          "symbol": "circle"
         },
         "mode": "lines",
         "name": "5e3b9057137e998b5ae6cc7e",
         "orientation": "v",
         "showlegend": true,
         "type": "scatter",
         "x": [
          1,
          2,
          3,
          4,
          5,
          6
         ],
         "xaxis": "x",
         "y": [
          0,
          0,
          0,
          0,
          0,
          0
         ],
         "yaxis": "y"
        },
        {
         "hovertemplate": "Specter - ID=61fcf5e362adc22ead73101f<br>index=%{x}<br>value=%{y}<extra></extra>",
         "legendgroup": "61fcf5e362adc22ead73101f",
         "line": {
          "color": "#19d3f3",
          "dash": "solid"
         },
         "marker": {
          "symbol": "circle"
         },
         "mode": "lines",
         "name": "61fcf5e362adc22ead73101f",
         "orientation": "v",
         "showlegend": true,
         "type": "scatter",
         "x": [
          1,
          2,
          3,
          4,
          5,
          6
         ],
         "xaxis": "x",
         "y": [
          0,
          0,
          0,
          0,
          0,
          0
         ],
         "yaxis": "y"
        },
        {
         "hovertemplate": "Specter - ID=5ebcdac5332603f591de8a88<br>index=%{x}<br>value=%{y}<extra></extra>",
         "legendgroup": "5ebcdac5332603f591de8a88",
         "line": {
          "color": "#FF6692",
          "dash": "solid"
         },
         "marker": {
          "symbol": "circle"
         },
         "mode": "lines",
         "name": "5ebcdac5332603f591de8a88",
         "orientation": "v",
         "showlegend": true,
         "type": "scatter",
         "x": [
          1,
          2,
          3,
          4,
          5,
          6
         ],
         "xaxis": "x",
         "y": [
          0,
          0,
          0,
          0,
          0,
          0
         ],
         "yaxis": "y"
        },
        {
         "hovertemplate": "Specter - ID=629cc201cf28682e15f5aec8<br>index=%{x}<br>value=%{y}<extra></extra>",
         "legendgroup": "629cc201cf28682e15f5aec8",
         "line": {
          "color": "#B6E880",
          "dash": "solid"
         },
         "marker": {
          "symbol": "circle"
         },
         "mode": "lines",
         "name": "629cc201cf28682e15f5aec8",
         "orientation": "v",
         "showlegend": true,
         "type": "scatter",
         "x": [
          1,
          2,
          3,
          4,
          5,
          6
         ],
         "xaxis": "x",
         "y": [
          0,
          0,
          0,
          0,
          0,
          0
         ],
         "yaxis": "y"
        },
        {
         "hovertemplate": "Specter - ID=601c18f94ddab8d8bff584b8<br>index=%{x}<br>value=%{y}<extra></extra>",
         "legendgroup": "601c18f94ddab8d8bff584b8",
         "line": {
          "color": "#FF97FF",
          "dash": "solid"
         },
         "marker": {
          "symbol": "circle"
         },
         "mode": "lines",
         "name": "601c18f94ddab8d8bff584b8",
         "orientation": "v",
         "showlegend": true,
         "type": "scatter",
         "x": [
          1,
          2,
          3,
          4,
          5,
          6
         ],
         "xaxis": "x",
         "y": [
          0,
          0,
          0,
          0,
          0,
          0
         ],
         "yaxis": "y"
        },
        {
         "hovertemplate": "Specter - ID=6270ff144b7ad6a07cbde14d<br>index=%{x}<br>value=%{y}<extra></extra>",
         "legendgroup": "6270ff144b7ad6a07cbde14d",
         "line": {
          "color": "#FECB52",
          "dash": "solid"
         },
         "marker": {
          "symbol": "circle"
         },
         "mode": "lines",
         "name": "6270ff144b7ad6a07cbde14d",
         "orientation": "v",
         "showlegend": true,
         "type": "scatter",
         "x": [
          1,
          2,
          3,
          4,
          5,
          6
         ],
         "xaxis": "x",
         "y": [
          0,
          0,
          0,
          0,
          0,
          0
         ],
         "yaxis": "y"
        }
       ],
       "layout": {
        "legend": {
         "title": {
          "text": "Specter - ID"
         },
         "tracegroupgap": 0
        },
        "template": {
         "data": {
          "bar": [
           {
            "error_x": {
             "color": "#2a3f5f"
            },
            "error_y": {
             "color": "#2a3f5f"
            },
            "marker": {
             "line": {
              "color": "#E5ECF6",
              "width": 0.5
             },
             "pattern": {
              "fillmode": "overlay",
              "size": 10,
              "solidity": 0.2
             }
            },
            "type": "bar"
           }
          ],
          "barpolar": [
           {
            "marker": {
             "line": {
              "color": "#E5ECF6",
              "width": 0.5
             },
             "pattern": {
              "fillmode": "overlay",
              "size": 10,
              "solidity": 0.2
             }
            },
            "type": "barpolar"
           }
          ],
          "carpet": [
           {
            "aaxis": {
             "endlinecolor": "#2a3f5f",
             "gridcolor": "white",
             "linecolor": "white",
             "minorgridcolor": "white",
             "startlinecolor": "#2a3f5f"
            },
            "baxis": {
             "endlinecolor": "#2a3f5f",
             "gridcolor": "white",
             "linecolor": "white",
             "minorgridcolor": "white",
             "startlinecolor": "#2a3f5f"
            },
            "type": "carpet"
           }
          ],
          "choropleth": [
           {
            "colorbar": {
             "outlinewidth": 0,
             "ticks": ""
            },
            "type": "choropleth"
           }
          ],
          "contour": [
           {
            "colorbar": {
             "outlinewidth": 0,
             "ticks": ""
            },
            "colorscale": [
             [
              0,
              "#0d0887"
             ],
             [
              0.1111111111111111,
              "#46039f"
             ],
             [
              0.2222222222222222,
              "#7201a8"
             ],
             [
              0.3333333333333333,
              "#9c179e"
             ],
             [
              0.4444444444444444,
              "#bd3786"
             ],
             [
              0.5555555555555556,
              "#d8576b"
             ],
             [
              0.6666666666666666,
              "#ed7953"
             ],
             [
              0.7777777777777778,
              "#fb9f3a"
             ],
             [
              0.8888888888888888,
              "#fdca26"
             ],
             [
              1,
              "#f0f921"
             ]
            ],
            "type": "contour"
           }
          ],
          "contourcarpet": [
           {
            "colorbar": {
             "outlinewidth": 0,
             "ticks": ""
            },
            "type": "contourcarpet"
           }
          ],
          "heatmap": [
           {
            "colorbar": {
             "outlinewidth": 0,
             "ticks": ""
            },
            "colorscale": [
             [
              0,
              "#0d0887"
             ],
             [
              0.1111111111111111,
              "#46039f"
             ],
             [
              0.2222222222222222,
              "#7201a8"
             ],
             [
              0.3333333333333333,
              "#9c179e"
             ],
             [
              0.4444444444444444,
              "#bd3786"
             ],
             [
              0.5555555555555556,
              "#d8576b"
             ],
             [
              0.6666666666666666,
              "#ed7953"
             ],
             [
              0.7777777777777778,
              "#fb9f3a"
             ],
             [
              0.8888888888888888,
              "#fdca26"
             ],
             [
              1,
              "#f0f921"
             ]
            ],
            "type": "heatmap"
           }
          ],
          "heatmapgl": [
           {
            "colorbar": {
             "outlinewidth": 0,
             "ticks": ""
            },
            "colorscale": [
             [
              0,
              "#0d0887"
             ],
             [
              0.1111111111111111,
              "#46039f"
             ],
             [
              0.2222222222222222,
              "#7201a8"
             ],
             [
              0.3333333333333333,
              "#9c179e"
             ],
             [
              0.4444444444444444,
              "#bd3786"
             ],
             [
              0.5555555555555556,
              "#d8576b"
             ],
             [
              0.6666666666666666,
              "#ed7953"
             ],
             [
              0.7777777777777778,
              "#fb9f3a"
             ],
             [
              0.8888888888888888,
              "#fdca26"
             ],
             [
              1,
              "#f0f921"
             ]
            ],
            "type": "heatmapgl"
           }
          ],
          "histogram": [
           {
            "marker": {
             "pattern": {
              "fillmode": "overlay",
              "size": 10,
              "solidity": 0.2
             }
            },
            "type": "histogram"
           }
          ],
          "histogram2d": [
           {
            "colorbar": {
             "outlinewidth": 0,
             "ticks": ""
            },
            "colorscale": [
             [
              0,
              "#0d0887"
             ],
             [
              0.1111111111111111,
              "#46039f"
             ],
             [
              0.2222222222222222,
              "#7201a8"
             ],
             [
              0.3333333333333333,
              "#9c179e"
             ],
             [
              0.4444444444444444,
              "#bd3786"
             ],
             [
              0.5555555555555556,
              "#d8576b"
             ],
             [
              0.6666666666666666,
              "#ed7953"
             ],
             [
              0.7777777777777778,
              "#fb9f3a"
             ],
             [
              0.8888888888888888,
              "#fdca26"
             ],
             [
              1,
              "#f0f921"
             ]
            ],
            "type": "histogram2d"
           }
          ],
          "histogram2dcontour": [
           {
            "colorbar": {
             "outlinewidth": 0,
             "ticks": ""
            },
            "colorscale": [
             [
              0,
              "#0d0887"
             ],
             [
              0.1111111111111111,
              "#46039f"
             ],
             [
              0.2222222222222222,
              "#7201a8"
             ],
             [
              0.3333333333333333,
              "#9c179e"
             ],
             [
              0.4444444444444444,
              "#bd3786"
             ],
             [
              0.5555555555555556,
              "#d8576b"
             ],
             [
              0.6666666666666666,
              "#ed7953"
             ],
             [
              0.7777777777777778,
              "#fb9f3a"
             ],
             [
              0.8888888888888888,
              "#fdca26"
             ],
             [
              1,
              "#f0f921"
             ]
            ],
            "type": "histogram2dcontour"
           }
          ],
          "mesh3d": [
           {
            "colorbar": {
             "outlinewidth": 0,
             "ticks": ""
            },
            "type": "mesh3d"
           }
          ],
          "parcoords": [
           {
            "line": {
             "colorbar": {
              "outlinewidth": 0,
              "ticks": ""
             }
            },
            "type": "parcoords"
           }
          ],
          "pie": [
           {
            "automargin": true,
            "type": "pie"
           }
          ],
          "scatter": [
           {
            "fillpattern": {
             "fillmode": "overlay",
             "size": 10,
             "solidity": 0.2
            },
            "type": "scatter"
           }
          ],
          "scatter3d": [
           {
            "line": {
             "colorbar": {
              "outlinewidth": 0,
              "ticks": ""
             }
            },
            "marker": {
             "colorbar": {
              "outlinewidth": 0,
              "ticks": ""
             }
            },
            "type": "scatter3d"
           }
          ],
          "scattercarpet": [
           {
            "marker": {
             "colorbar": {
              "outlinewidth": 0,
              "ticks": ""
             }
            },
            "type": "scattercarpet"
           }
          ],
          "scattergeo": [
           {
            "marker": {
             "colorbar": {
              "outlinewidth": 0,
              "ticks": ""
             }
            },
            "type": "scattergeo"
           }
          ],
          "scattergl": [
           {
            "marker": {
             "colorbar": {
              "outlinewidth": 0,
              "ticks": ""
             }
            },
            "type": "scattergl"
           }
          ],
          "scattermapbox": [
           {
            "marker": {
             "colorbar": {
              "outlinewidth": 0,
              "ticks": ""
             }
            },
            "type": "scattermapbox"
           }
          ],
          "scatterpolar": [
           {
            "marker": {
             "colorbar": {
              "outlinewidth": 0,
              "ticks": ""
             }
            },
            "type": "scatterpolar"
           }
          ],
          "scatterpolargl": [
           {
            "marker": {
             "colorbar": {
              "outlinewidth": 0,
              "ticks": ""
             }
            },
            "type": "scatterpolargl"
           }
          ],
          "scatterternary": [
           {
            "marker": {
             "colorbar": {
              "outlinewidth": 0,
              "ticks": ""
             }
            },
            "type": "scatterternary"
           }
          ],
          "surface": [
           {
            "colorbar": {
             "outlinewidth": 0,
             "ticks": ""
            },
            "colorscale": [
             [
              0,
              "#0d0887"
             ],
             [
              0.1111111111111111,
              "#46039f"
             ],
             [
              0.2222222222222222,
              "#7201a8"
             ],
             [
              0.3333333333333333,
              "#9c179e"
             ],
             [
              0.4444444444444444,
              "#bd3786"
             ],
             [
              0.5555555555555556,
              "#d8576b"
             ],
             [
              0.6666666666666666,
              "#ed7953"
             ],
             [
              0.7777777777777778,
              "#fb9f3a"
             ],
             [
              0.8888888888888888,
              "#fdca26"
             ],
             [
              1,
              "#f0f921"
             ]
            ],
            "type": "surface"
           }
          ],
          "table": [
           {
            "cells": {
             "fill": {
              "color": "#EBF0F8"
             },
             "line": {
              "color": "white"
             }
            },
            "header": {
             "fill": {
              "color": "#C8D4E3"
             },
             "line": {
              "color": "white"
             }
            },
            "type": "table"
           }
          ]
         },
         "layout": {
          "annotationdefaults": {
           "arrowcolor": "#2a3f5f",
           "arrowhead": 0,
           "arrowwidth": 1
          },
          "autotypenumbers": "strict",
          "coloraxis": {
           "colorbar": {
            "outlinewidth": 0,
            "ticks": ""
           }
          },
          "colorscale": {
           "diverging": [
            [
             0,
             "#8e0152"
            ],
            [
             0.1,
             "#c51b7d"
            ],
            [
             0.2,
             "#de77ae"
            ],
            [
             0.3,
             "#f1b6da"
            ],
            [
             0.4,
             "#fde0ef"
            ],
            [
             0.5,
             "#f7f7f7"
            ],
            [
             0.6,
             "#e6f5d0"
            ],
            [
             0.7,
             "#b8e186"
            ],
            [
             0.8,
             "#7fbc41"
            ],
            [
             0.9,
             "#4d9221"
            ],
            [
             1,
             "#276419"
            ]
           ],
           "sequential": [
            [
             0,
             "#0d0887"
            ],
            [
             0.1111111111111111,
             "#46039f"
            ],
            [
             0.2222222222222222,
             "#7201a8"
            ],
            [
             0.3333333333333333,
             "#9c179e"
            ],
            [
             0.4444444444444444,
             "#bd3786"
            ],
            [
             0.5555555555555556,
             "#d8576b"
            ],
            [
             0.6666666666666666,
             "#ed7953"
            ],
            [
             0.7777777777777778,
             "#fb9f3a"
            ],
            [
             0.8888888888888888,
             "#fdca26"
            ],
            [
             1,
             "#f0f921"
            ]
           ],
           "sequentialminus": [
            [
             0,
             "#0d0887"
            ],
            [
             0.1111111111111111,
             "#46039f"
            ],
            [
             0.2222222222222222,
             "#7201a8"
            ],
            [
             0.3333333333333333,
             "#9c179e"
            ],
            [
             0.4444444444444444,
             "#bd3786"
            ],
            [
             0.5555555555555556,
             "#d8576b"
            ],
            [
             0.6666666666666666,
             "#ed7953"
            ],
            [
             0.7777777777777778,
             "#fb9f3a"
            ],
            [
             0.8888888888888888,
             "#fdca26"
            ],
            [
             1,
             "#f0f921"
            ]
           ]
          },
          "colorway": [
           "#636efa",
           "#EF553B",
           "#00cc96",
           "#ab63fa",
           "#FFA15A",
           "#19d3f3",
           "#FF6692",
           "#B6E880",
           "#FF97FF",
           "#FECB52"
          ],
          "font": {
           "color": "#2a3f5f"
          },
          "geo": {
           "bgcolor": "white",
           "lakecolor": "white",
           "landcolor": "#E5ECF6",
           "showlakes": true,
           "showland": true,
           "subunitcolor": "white"
          },
          "hoverlabel": {
           "align": "left"
          },
          "hovermode": "closest",
          "mapbox": {
           "style": "light"
          },
          "paper_bgcolor": "white",
          "plot_bgcolor": "#E5ECF6",
          "polar": {
           "angularaxis": {
            "gridcolor": "white",
            "linecolor": "white",
            "ticks": ""
           },
           "bgcolor": "#E5ECF6",
           "radialaxis": {
            "gridcolor": "white",
            "linecolor": "white",
            "ticks": ""
           }
          },
          "scene": {
           "xaxis": {
            "backgroundcolor": "#E5ECF6",
            "gridcolor": "white",
            "gridwidth": 2,
            "linecolor": "white",
            "showbackground": true,
            "ticks": "",
            "zerolinecolor": "white"
           },
           "yaxis": {
            "backgroundcolor": "#E5ECF6",
            "gridcolor": "white",
            "gridwidth": 2,
            "linecolor": "white",
            "showbackground": true,
            "ticks": "",
            "zerolinecolor": "white"
           },
           "zaxis": {
            "backgroundcolor": "#E5ECF6",
            "gridcolor": "white",
            "gridwidth": 2,
            "linecolor": "white",
            "showbackground": true,
            "ticks": "",
            "zerolinecolor": "white"
           }
          },
          "shapedefaults": {
           "line": {
            "color": "#2a3f5f"
           }
          },
          "ternary": {
           "aaxis": {
            "gridcolor": "white",
            "linecolor": "white",
            "ticks": ""
           },
           "baxis": {
            "gridcolor": "white",
            "linecolor": "white",
            "ticks": ""
           },
           "bgcolor": "#E5ECF6",
           "caxis": {
            "gridcolor": "white",
            "linecolor": "white",
            "ticks": ""
           }
          },
          "title": {
           "x": 0.05
          },
          "xaxis": {
           "automargin": true,
           "gridcolor": "white",
           "linecolor": "white",
           "ticks": "",
           "title": {
            "standoff": 15
           },
           "zerolinecolor": "white",
           "zerolinewidth": 2
          },
          "yaxis": {
           "automargin": true,
           "gridcolor": "white",
           "linecolor": "white",
           "ticks": "",
           "title": {
            "standoff": 15
           },
           "zerolinecolor": "white",
           "zerolinewidth": 2
          }
         }
        },
        "title": {
         "text": "Normalized app_downloads Growth of Top 10 Companies by Slope"
        },
        "xaxis": {
         "anchor": "y",
         "domain": [
          0,
          1
         ],
         "title": {
          "text": "index"
         }
        },
        "yaxis": {
         "anchor": "x",
         "domain": [
          0,
          1
         ],
         "title": {
          "text": "value"
         }
        }
       }
      }
     },
     "metadata": {},
     "output_type": "display_data"
    }
   ],
   "source": [
    "\n",
    "for metric in settings.GROWTH_METRICS:\n",
    "    top_n_by_slope = 10\n",
    "\n",
    "\n",
    "    data = processed_data[settings.GROWTH_METRICS[metric][\"growth\"]].head(top_n_by_slope).T\n",
    "    data.index = range(1, len(data) + 1)\n",
    "    fig = px.line(\n",
    "            data,\n",
    "            x=data.index,\n",
    "            y=data.columns,\n",
    "            title=\"Normalized {} Growth of Top {} Companies by Slope\".format(metric, top_n_by_slope),\n",
    "        )\n",
    "    fig.show()"
   ]
  },
  {
   "cell_type": "code",
   "execution_count": null,
   "metadata": {},
   "outputs": [],
   "source": []
  }
 ],
 "metadata": {
  "kernelspec": {
   "display_name": "specter",
   "language": "python",
   "name": "python3"
  },
  "language_info": {
   "codemirror_mode": {
    "name": "ipython",
    "version": 3
   },
   "file_extension": ".py",
   "mimetype": "text/x-python",
   "name": "python",
   "nbconvert_exporter": "python",
   "pygments_lexer": "ipython3",
   "version": "3.11.0"
  },
  "orig_nbformat": 4,
  "vscode": {
   "interpreter": {
    "hash": "0919ba0ce26a34ae36b2a5c46b7a9e858e07a4a063ee3c2bf1807927869cc242"
   }
  }
 },
 "nbformat": 4,
 "nbformat_minor": 2
}
